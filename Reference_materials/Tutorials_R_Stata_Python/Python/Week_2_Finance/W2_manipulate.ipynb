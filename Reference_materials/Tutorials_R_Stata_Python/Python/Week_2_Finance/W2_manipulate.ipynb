{
 "cells": [
  {
   "cell_type": "markdown",
   "metadata": {},
   "source": [
    "# Review from last week"
   ]
  },
  {
   "cell_type": "markdown",
   "metadata": {},
   "source": [
    "## R.1 Importing data"
   ]
  },
  {
   "cell_type": "code",
   "execution_count": 35,
   "metadata": {},
   "outputs": [],
   "source": [
    "#Import pandas\n",
    "import pandas as pd"
   ]
  },
  {
   "cell_type": "markdown",
   "metadata": {},
   "source": [
    "### R.1.1 Import"
   ]
  },
  {
   "cell_type": "code",
   "execution_count": 36,
   "metadata": {},
   "outputs": [
    {
     "data": {
      "text/html": [
       "<div>\n",
       "<style scoped>\n",
       "    .dataframe tbody tr th:only-of-type {\n",
       "        vertical-align: middle;\n",
       "    }\n",
       "\n",
       "    .dataframe tbody tr th {\n",
       "        vertical-align: top;\n",
       "    }\n",
       "\n",
       "    .dataframe thead th {\n",
       "        text-align: right;\n",
       "    }\n",
       "</style>\n",
       "<table border=\"1\" class=\"dataframe\">\n",
       "  <thead>\n",
       "    <tr style=\"text-align: right;\">\n",
       "      <th></th>\n",
       "      <th>Date</th>\n",
       "      <th>Yen</th>\n",
       "      <th>US_2yr</th>\n",
       "      <th>JP_2yr</th>\n",
       "    </tr>\n",
       "  </thead>\n",
       "  <tbody>\n",
       "    <tr>\n",
       "      <th>0</th>\n",
       "      <td>2000-01-04</td>\n",
       "      <td>102.98</td>\n",
       "      <td>6.30</td>\n",
       "      <td>0.402</td>\n",
       "    </tr>\n",
       "    <tr>\n",
       "      <th>1</th>\n",
       "      <td>2000-01-05</td>\n",
       "      <td>103.87</td>\n",
       "      <td>6.38</td>\n",
       "      <td>0.380</td>\n",
       "    </tr>\n",
       "    <tr>\n",
       "      <th>2</th>\n",
       "      <td>2000-01-06</td>\n",
       "      <td>105.26</td>\n",
       "      <td>6.35</td>\n",
       "      <td>0.388</td>\n",
       "    </tr>\n",
       "    <tr>\n",
       "      <th>3</th>\n",
       "      <td>2000-01-07</td>\n",
       "      <td>105.45</td>\n",
       "      <td>6.31</td>\n",
       "      <td>0.406</td>\n",
       "    </tr>\n",
       "    <tr>\n",
       "      <th>4</th>\n",
       "      <td>2000-01-11</td>\n",
       "      <td>105.77</td>\n",
       "      <td>6.45</td>\n",
       "      <td>0.421</td>\n",
       "    </tr>\n",
       "    <tr>\n",
       "      <th>...</th>\n",
       "      <td>...</td>\n",
       "      <td>...</td>\n",
       "      <td>...</td>\n",
       "      <td>...</td>\n",
       "    </tr>\n",
       "    <tr>\n",
       "      <th>4712</th>\n",
       "      <td>2020-04-07</td>\n",
       "      <td>108.97</td>\n",
       "      <td>0.28</td>\n",
       "      <td>-0.132</td>\n",
       "    </tr>\n",
       "    <tr>\n",
       "      <th>4713</th>\n",
       "      <td>2020-04-08</td>\n",
       "      <td>108.74</td>\n",
       "      <td>0.27</td>\n",
       "      <td>-0.132</td>\n",
       "    </tr>\n",
       "    <tr>\n",
       "      <th>4714</th>\n",
       "      <td>2020-04-09</td>\n",
       "      <td>108.53</td>\n",
       "      <td>0.23</td>\n",
       "      <td>-0.147</td>\n",
       "    </tr>\n",
       "    <tr>\n",
       "      <th>4715</th>\n",
       "      <td>2020-04-14</td>\n",
       "      <td>107.22</td>\n",
       "      <td>0.23</td>\n",
       "      <td>-0.170</td>\n",
       "    </tr>\n",
       "    <tr>\n",
       "      <th>4716</th>\n",
       "      <td>2020-04-15</td>\n",
       "      <td>107.41</td>\n",
       "      <td>0.20</td>\n",
       "      <td>-0.160</td>\n",
       "    </tr>\n",
       "  </tbody>\n",
       "</table>\n",
       "<p>4717 rows × 4 columns</p>\n",
       "</div>"
      ],
      "text/plain": [
       "            Date     Yen  US_2yr  JP_2yr\n",
       "0     2000-01-04  102.98    6.30   0.402\n",
       "1     2000-01-05  103.87    6.38   0.380\n",
       "2     2000-01-06  105.26    6.35   0.388\n",
       "3     2000-01-07  105.45    6.31   0.406\n",
       "4     2000-01-11  105.77    6.45   0.421\n",
       "...          ...     ...     ...     ...\n",
       "4712  2020-04-07  108.97    0.28  -0.132\n",
       "4713  2020-04-08  108.74    0.27  -0.132\n",
       "4714  2020-04-09  108.53    0.23  -0.147\n",
       "4715  2020-04-14  107.22    0.23  -0.170\n",
       "4716  2020-04-15  107.41    0.20  -0.160\n",
       "\n",
       "[4717 rows x 4 columns]"
      ]
     },
     "execution_count": 36,
     "metadata": {},
     "output_type": "execute_result"
    }
   ],
   "source": [
    "pd.read_csv(\"yen.csv\")"
   ]
  },
  {
   "cell_type": "markdown",
   "metadata": {},
   "source": [
    "### R.1.2 Import AND SAVE"
   ]
  },
  {
   "cell_type": "code",
   "execution_count": 37,
   "metadata": {},
   "outputs": [],
   "source": [
    "#The leftside is your variable name\n",
    "df = pd.read_csv('yen.csv')"
   ]
  },
  {
   "cell_type": "markdown",
   "metadata": {},
   "source": [
    "## R.2. Pandas"
   ]
  },
  {
   "cell_type": "markdown",
   "metadata": {},
   "source": [
    "### R.2.1 Import other libraries"
   ]
  },
  {
   "cell_type": "code",
   "execution_count": 38,
   "metadata": {},
   "outputs": [],
   "source": [
    "import os\n",
    "import sys\n",
    "import seaborn as sns\n",
    "import warnings\n",
    "if not sys.warnoptions:\n",
    "    warnings.simplefilter(\"ignore\")\n",
    "import quandl\n",
    "import requests\n",
    "import re\n",
    "import numpy as np\n",
    "import datetime"
   ]
  },
  {
   "cell_type": "markdown",
   "metadata": {},
   "source": [
    "## R. 2.2 Review important functions:\n",
    "- select\n",
    "- filter\n",
    "- arrange\n",
    "- mutate\n",
    "- summarise\n",
    "- groupby"
   ]
  },
  {
   "cell_type": "markdown",
   "metadata": {},
   "source": [
    "### R.2.2.1 Select: column"
   ]
  },
  {
   "cell_type": "code",
   "execution_count": 39,
   "metadata": {},
   "outputs": [
    {
     "data": {
      "text/html": [
       "<div>\n",
       "<style scoped>\n",
       "    .dataframe tbody tr th:only-of-type {\n",
       "        vertical-align: middle;\n",
       "    }\n",
       "\n",
       "    .dataframe tbody tr th {\n",
       "        vertical-align: top;\n",
       "    }\n",
       "\n",
       "    .dataframe thead th {\n",
       "        text-align: right;\n",
       "    }\n",
       "</style>\n",
       "<table border=\"1\" class=\"dataframe\">\n",
       "  <thead>\n",
       "    <tr style=\"text-align: right;\">\n",
       "      <th></th>\n",
       "      <th>Yen</th>\n",
       "      <th>US_2yr</th>\n",
       "    </tr>\n",
       "  </thead>\n",
       "  <tbody>\n",
       "    <tr>\n",
       "      <th>0</th>\n",
       "      <td>102.98</td>\n",
       "      <td>6.30</td>\n",
       "    </tr>\n",
       "    <tr>\n",
       "      <th>1</th>\n",
       "      <td>103.87</td>\n",
       "      <td>6.38</td>\n",
       "    </tr>\n",
       "  </tbody>\n",
       "</table>\n",
       "</div>"
      ],
      "text/plain": [
       "      Yen  US_2yr\n",
       "0  102.98    6.30\n",
       "1  103.87    6.38"
      ]
     },
     "execution_count": 39,
     "metadata": {},
     "output_type": "execute_result"
    }
   ],
   "source": [
    "#One column\n",
    "df[['Yen']].head(2) #Basic method\n",
    "#df.loc[:, [\"Yen\"]] #.loc method\n",
    "\n",
    "#Mulitple columns\n",
    "df[['Yen', \"US_2yr\"]].head(2) #Basic method\n",
    "#df.loc[:,['Yen', \"US_2yr\"]] #.loc method"
   ]
  },
  {
   "cell_type": "markdown",
   "metadata": {},
   "source": [
    "### R.2.2.2 Filter: row"
   ]
  },
  {
   "cell_type": "code",
   "execution_count": 40,
   "metadata": {},
   "outputs": [
    {
     "data": {
      "text/html": [
       "<div>\n",
       "<style scoped>\n",
       "    .dataframe tbody tr th:only-of-type {\n",
       "        vertical-align: middle;\n",
       "    }\n",
       "\n",
       "    .dataframe tbody tr th {\n",
       "        vertical-align: top;\n",
       "    }\n",
       "\n",
       "    .dataframe thead th {\n",
       "        text-align: right;\n",
       "    }\n",
       "</style>\n",
       "<table border=\"1\" class=\"dataframe\">\n",
       "  <thead>\n",
       "    <tr style=\"text-align: right;\">\n",
       "      <th></th>\n",
       "      <th>Date</th>\n",
       "      <th>Yen</th>\n",
       "      <th>US_2yr</th>\n",
       "      <th>JP_2yr</th>\n",
       "    </tr>\n",
       "  </thead>\n",
       "  <tbody>\n",
       "    <tr>\n",
       "      <th>2752</th>\n",
       "      <td>2011-10-25</td>\n",
       "      <td>75.77</td>\n",
       "      <td>0.26</td>\n",
       "      <td>0.146</td>\n",
       "    </tr>\n",
       "    <tr>\n",
       "      <th>2754</th>\n",
       "      <td>2011-10-27</td>\n",
       "      <td>75.84</td>\n",
       "      <td>0.31</td>\n",
       "      <td>0.141</td>\n",
       "    </tr>\n",
       "    <tr>\n",
       "      <th>2755</th>\n",
       "      <td>2011-10-28</td>\n",
       "      <td>75.77</td>\n",
       "      <td>0.28</td>\n",
       "      <td>0.143</td>\n",
       "    </tr>\n",
       "  </tbody>\n",
       "</table>\n",
       "</div>"
      ],
      "text/plain": [
       "            Date    Yen  US_2yr  JP_2yr\n",
       "2752  2011-10-25  75.77    0.26   0.146\n",
       "2754  2011-10-27  75.84    0.31   0.141\n",
       "2755  2011-10-28  75.77    0.28   0.143"
      ]
     },
     "execution_count": 40,
     "metadata": {},
     "output_type": "execute_result"
    }
   ],
   "source": [
    "condition = df.Yen<76\n",
    "df[condition] #Basic method\n",
    "#df.loc[condition,:] #.loc method"
   ]
  },
  {
   "cell_type": "markdown",
   "metadata": {},
   "source": [
    "### R.2.2.3 Arrange"
   ]
  },
  {
   "cell_type": "code",
   "execution_count": 41,
   "metadata": {},
   "outputs": [
    {
     "data": {
      "text/plain": [
       "2755    75.77\n",
       "2752    75.77\n",
       "Name: Yen, dtype: float64"
      ]
     },
     "execution_count": 41,
     "metadata": {},
     "output_type": "execute_result"
    }
   ],
   "source": [
    "df.Yen.sort_values().head(2)"
   ]
  },
  {
   "cell_type": "markdown",
   "metadata": {},
   "source": [
    "### R.2.2.4 Mutate "
   ]
  },
  {
   "cell_type": "code",
   "execution_count": 42,
   "metadata": {},
   "outputs": [
    {
     "data": {
      "text/html": [
       "<div>\n",
       "<style scoped>\n",
       "    .dataframe tbody tr th:only-of-type {\n",
       "        vertical-align: middle;\n",
       "    }\n",
       "\n",
       "    .dataframe tbody tr th {\n",
       "        vertical-align: top;\n",
       "    }\n",
       "\n",
       "    .dataframe thead th {\n",
       "        text-align: right;\n",
       "    }\n",
       "</style>\n",
       "<table border=\"1\" class=\"dataframe\">\n",
       "  <thead>\n",
       "    <tr style=\"text-align: right;\">\n",
       "      <th></th>\n",
       "      <th>diff</th>\n",
       "    </tr>\n",
       "  </thead>\n",
       "  <tbody>\n",
       "    <tr>\n",
       "      <th>0</th>\n",
       "      <td>5.898</td>\n",
       "    </tr>\n",
       "    <tr>\n",
       "      <th>1</th>\n",
       "      <td>6.000</td>\n",
       "    </tr>\n",
       "  </tbody>\n",
       "</table>\n",
       "</div>"
      ],
      "text/plain": [
       "    diff\n",
       "0  5.898\n",
       "1  6.000"
      ]
     },
     "execution_count": 42,
     "metadata": {},
     "output_type": "execute_result"
    }
   ],
   "source": [
    "df['diff'] = df.US_2yr-df.JP_2yr #Create new variable\n",
    "df[['diff']].head(2) #Show new variable"
   ]
  },
  {
   "cell_type": "markdown",
   "metadata": {},
   "source": [
    "### R.2.2.5 Summarise"
   ]
  },
  {
   "cell_type": "code",
   "execution_count": 43,
   "metadata": {},
   "outputs": [
    {
     "data": {
      "text/html": [
       "<div>\n",
       "<style scoped>\n",
       "    .dataframe tbody tr th:only-of-type {\n",
       "        vertical-align: middle;\n",
       "    }\n",
       "\n",
       "    .dataframe tbody tr th {\n",
       "        vertical-align: top;\n",
       "    }\n",
       "\n",
       "    .dataframe thead th {\n",
       "        text-align: right;\n",
       "    }\n",
       "</style>\n",
       "<table border=\"1\" class=\"dataframe\">\n",
       "  <thead>\n",
       "    <tr style=\"text-align: right;\">\n",
       "      <th></th>\n",
       "      <th>Yen</th>\n",
       "      <th>US_2yr</th>\n",
       "      <th>JP_2yr</th>\n",
       "      <th>diff</th>\n",
       "    </tr>\n",
       "  </thead>\n",
       "  <tbody>\n",
       "    <tr>\n",
       "      <th>count</th>\n",
       "      <td>4717.000000</td>\n",
       "      <td>4717.000000</td>\n",
       "      <td>4717.000000</td>\n",
       "      <td>4717.000000</td>\n",
       "    </tr>\n",
       "    <tr>\n",
       "      <th>mean</th>\n",
       "      <td>106.642036</td>\n",
       "      <td>2.107174</td>\n",
       "      <td>0.166620</td>\n",
       "      <td>1.940554</td>\n",
       "    </tr>\n",
       "    <tr>\n",
       "      <th>std</th>\n",
       "      <td>13.102508</td>\n",
       "      <td>1.711472</td>\n",
       "      <td>0.299082</td>\n",
       "      <td>1.569514</td>\n",
       "    </tr>\n",
       "    <tr>\n",
       "      <th>min</th>\n",
       "      <td>75.770000</td>\n",
       "      <td>0.170000</td>\n",
       "      <td>-0.372000</td>\n",
       "      <td>0.032000</td>\n",
       "    </tr>\n",
       "    <tr>\n",
       "      <th>25%</th>\n",
       "      <td>100.530000</td>\n",
       "      <td>0.680000</td>\n",
       "      <td>0.009000</td>\n",
       "      <td>0.567000</td>\n",
       "    </tr>\n",
       "    <tr>\n",
       "      <th>50%</th>\n",
       "      <td>109.030000</td>\n",
       "      <td>1.630000</td>\n",
       "      <td>0.100000</td>\n",
       "      <td>1.590000</td>\n",
       "    </tr>\n",
       "    <tr>\n",
       "      <th>75%</th>\n",
       "      <td>116.630000</td>\n",
       "      <td>3.080000</td>\n",
       "      <td>0.247000</td>\n",
       "      <td>2.982000</td>\n",
       "    </tr>\n",
       "    <tr>\n",
       "      <th>max</th>\n",
       "      <td>134.820000</td>\n",
       "      <td>6.930000</td>\n",
       "      <td>1.080000</td>\n",
       "      <td>6.538000</td>\n",
       "    </tr>\n",
       "  </tbody>\n",
       "</table>\n",
       "</div>"
      ],
      "text/plain": [
       "               Yen       US_2yr       JP_2yr         diff\n",
       "count  4717.000000  4717.000000  4717.000000  4717.000000\n",
       "mean    106.642036     2.107174     0.166620     1.940554\n",
       "std      13.102508     1.711472     0.299082     1.569514\n",
       "min      75.770000     0.170000    -0.372000     0.032000\n",
       "25%     100.530000     0.680000     0.009000     0.567000\n",
       "50%     109.030000     1.630000     0.100000     1.590000\n",
       "75%     116.630000     3.080000     0.247000     2.982000\n",
       "max     134.820000     6.930000     1.080000     6.538000"
      ]
     },
     "execution_count": 43,
     "metadata": {},
     "output_type": "execute_result"
    }
   ],
   "source": [
    "df.describe()"
   ]
  },
  {
   "cell_type": "markdown",
   "metadata": {},
   "source": [
    "### R.2.2.6 Groupby with summarise"
   ]
  },
  {
   "cell_type": "code",
   "execution_count": 44,
   "metadata": {},
   "outputs": [],
   "source": [
    "#df.groupby('Group_Variable')['Variable_2'].mean()"
   ]
  },
  {
   "cell_type": "markdown",
   "metadata": {},
   "source": [
    "## R.3 Overview of data"
   ]
  },
  {
   "cell_type": "markdown",
   "metadata": {},
   "source": [
    "### R.3.1 Show data"
   ]
  },
  {
   "cell_type": "code",
   "execution_count": 45,
   "metadata": {},
   "outputs": [
    {
     "data": {
      "text/html": [
       "<div>\n",
       "<style scoped>\n",
       "    .dataframe tbody tr th:only-of-type {\n",
       "        vertical-align: middle;\n",
       "    }\n",
       "\n",
       "    .dataframe tbody tr th {\n",
       "        vertical-align: top;\n",
       "    }\n",
       "\n",
       "    .dataframe thead th {\n",
       "        text-align: right;\n",
       "    }\n",
       "</style>\n",
       "<table border=\"1\" class=\"dataframe\">\n",
       "  <thead>\n",
       "    <tr style=\"text-align: right;\">\n",
       "      <th></th>\n",
       "      <th>Date</th>\n",
       "      <th>Yen</th>\n",
       "      <th>US_2yr</th>\n",
       "      <th>JP_2yr</th>\n",
       "      <th>diff</th>\n",
       "    </tr>\n",
       "  </thead>\n",
       "  <tbody>\n",
       "    <tr>\n",
       "      <th>0</th>\n",
       "      <td>2000-01-04</td>\n",
       "      <td>102.98</td>\n",
       "      <td>6.30</td>\n",
       "      <td>0.402</td>\n",
       "      <td>5.898</td>\n",
       "    </tr>\n",
       "    <tr>\n",
       "      <th>1</th>\n",
       "      <td>2000-01-05</td>\n",
       "      <td>103.87</td>\n",
       "      <td>6.38</td>\n",
       "      <td>0.380</td>\n",
       "      <td>6.000</td>\n",
       "    </tr>\n",
       "    <tr>\n",
       "      <th>2</th>\n",
       "      <td>2000-01-06</td>\n",
       "      <td>105.26</td>\n",
       "      <td>6.35</td>\n",
       "      <td>0.388</td>\n",
       "      <td>5.962</td>\n",
       "    </tr>\n",
       "  </tbody>\n",
       "</table>\n",
       "</div>"
      ],
      "text/plain": [
       "         Date     Yen  US_2yr  JP_2yr   diff\n",
       "0  2000-01-04  102.98    6.30   0.402  5.898\n",
       "1  2000-01-05  103.87    6.38   0.380  6.000\n",
       "2  2000-01-06  105.26    6.35   0.388  5.962"
      ]
     },
     "execution_count": 45,
     "metadata": {},
     "output_type": "execute_result"
    }
   ],
   "source": [
    "df.head(3) #Show data "
   ]
  },
  {
   "cell_type": "markdown",
   "metadata": {},
   "source": [
    "### R.3.2 Data types"
   ]
  },
  {
   "cell_type": "code",
   "execution_count": 46,
   "metadata": {},
   "outputs": [
    {
     "name": "stdout",
     "output_type": "stream",
     "text": [
      "<class 'pandas.core.frame.DataFrame'>\n",
      "RangeIndex: 4717 entries, 0 to 4716\n",
      "Data columns (total 5 columns):\n",
      " #   Column  Non-Null Count  Dtype  \n",
      "---  ------  --------------  -----  \n",
      " 0   Date    4717 non-null   object \n",
      " 1   Yen     4717 non-null   float64\n",
      " 2   US_2yr  4717 non-null   float64\n",
      " 3   JP_2yr  4717 non-null   float64\n",
      " 4   diff    4717 non-null   float64\n",
      "dtypes: float64(4), object(1)\n",
      "memory usage: 184.4+ KB\n"
     ]
    }
   ],
   "source": [
    "df.info()"
   ]
  },
  {
   "cell_type": "markdown",
   "metadata": {},
   "source": [
    "### R.3.3 Summary statistics"
   ]
  },
  {
   "cell_type": "code",
   "execution_count": 47,
   "metadata": {},
   "outputs": [
    {
     "data": {
      "text/html": [
       "<div>\n",
       "<style scoped>\n",
       "    .dataframe tbody tr th:only-of-type {\n",
       "        vertical-align: middle;\n",
       "    }\n",
       "\n",
       "    .dataframe tbody tr th {\n",
       "        vertical-align: top;\n",
       "    }\n",
       "\n",
       "    .dataframe thead th {\n",
       "        text-align: right;\n",
       "    }\n",
       "</style>\n",
       "<table border=\"1\" class=\"dataframe\">\n",
       "  <thead>\n",
       "    <tr style=\"text-align: right;\">\n",
       "      <th></th>\n",
       "      <th>Yen</th>\n",
       "      <th>US_2yr</th>\n",
       "      <th>JP_2yr</th>\n",
       "      <th>diff</th>\n",
       "    </tr>\n",
       "  </thead>\n",
       "  <tbody>\n",
       "    <tr>\n",
       "      <th>count</th>\n",
       "      <td>4717.000000</td>\n",
       "      <td>4717.000000</td>\n",
       "      <td>4717.000000</td>\n",
       "      <td>4717.000000</td>\n",
       "    </tr>\n",
       "    <tr>\n",
       "      <th>mean</th>\n",
       "      <td>106.642036</td>\n",
       "      <td>2.107174</td>\n",
       "      <td>0.166620</td>\n",
       "      <td>1.940554</td>\n",
       "    </tr>\n",
       "    <tr>\n",
       "      <th>std</th>\n",
       "      <td>13.102508</td>\n",
       "      <td>1.711472</td>\n",
       "      <td>0.299082</td>\n",
       "      <td>1.569514</td>\n",
       "    </tr>\n",
       "    <tr>\n",
       "      <th>min</th>\n",
       "      <td>75.770000</td>\n",
       "      <td>0.170000</td>\n",
       "      <td>-0.372000</td>\n",
       "      <td>0.032000</td>\n",
       "    </tr>\n",
       "    <tr>\n",
       "      <th>25%</th>\n",
       "      <td>100.530000</td>\n",
       "      <td>0.680000</td>\n",
       "      <td>0.009000</td>\n",
       "      <td>0.567000</td>\n",
       "    </tr>\n",
       "    <tr>\n",
       "      <th>50%</th>\n",
       "      <td>109.030000</td>\n",
       "      <td>1.630000</td>\n",
       "      <td>0.100000</td>\n",
       "      <td>1.590000</td>\n",
       "    </tr>\n",
       "    <tr>\n",
       "      <th>75%</th>\n",
       "      <td>116.630000</td>\n",
       "      <td>3.080000</td>\n",
       "      <td>0.247000</td>\n",
       "      <td>2.982000</td>\n",
       "    </tr>\n",
       "    <tr>\n",
       "      <th>max</th>\n",
       "      <td>134.820000</td>\n",
       "      <td>6.930000</td>\n",
       "      <td>1.080000</td>\n",
       "      <td>6.538000</td>\n",
       "    </tr>\n",
       "  </tbody>\n",
       "</table>\n",
       "</div>"
      ],
      "text/plain": [
       "               Yen       US_2yr       JP_2yr         diff\n",
       "count  4717.000000  4717.000000  4717.000000  4717.000000\n",
       "mean    106.642036     2.107174     0.166620     1.940554\n",
       "std      13.102508     1.711472     0.299082     1.569514\n",
       "min      75.770000     0.170000    -0.372000     0.032000\n",
       "25%     100.530000     0.680000     0.009000     0.567000\n",
       "50%     109.030000     1.630000     0.100000     1.590000\n",
       "75%     116.630000     3.080000     0.247000     2.982000\n",
       "max     134.820000     6.930000     1.080000     6.538000"
      ]
     },
     "execution_count": 47,
     "metadata": {},
     "output_type": "execute_result"
    }
   ],
   "source": [
    "df.describe()"
   ]
  },
  {
   "cell_type": "markdown",
   "metadata": {},
   "source": [
    "# Week 2"
   ]
  },
  {
   "cell_type": "markdown",
   "metadata": {},
   "source": [
    "# 1. Importing files\n",
    "## 1.1 Understanding file paths\n",
    "\n",
    "<img src=\"Screenshots/File_path.png\">"
   ]
  },
  {
   "cell_type": "markdown",
   "metadata": {},
   "source": [
    "## 1.2 Our current working directory"
   ]
  },
  {
   "cell_type": "code",
   "execution_count": 24,
   "metadata": {},
   "outputs": [
    {
     "data": {
      "text/plain": [
       "'/Users/corybaird/Desktop/Phd_jupyter/Learn_Python/2nd_session'"
      ]
     },
     "execution_count": 24,
     "metadata": {},
     "output_type": "execute_result"
    }
   ],
   "source": [
    "os.getcwd()"
   ]
  },
  {
   "cell_type": "code",
   "execution_count": 25,
   "metadata": {},
   "outputs": [
    {
     "data": {
      "text/plain": [
       "'/Users/corybaird/Desktop/Phd_jupyter/Learn_Python/2nd_session/sub_folder'"
      ]
     },
     "execution_count": 25,
     "metadata": {},
     "output_type": "execute_result"
    }
   ],
   "source": [
    "path = os.getcwd() #We can also set the current working directory as variable\n",
    "path+\"/sub_folder\"\n",
    "os.path.join(path, \"sub_folder\")"
   ]
  },
  {
   "cell_type": "markdown",
   "metadata": {},
   "source": [
    "## 1.3 More on importing excel files\n",
    "### 1.3.1 From: current working directory\n",
    "- Simply write the name of the file in quotes"
   ]
  },
  {
   "cell_type": "code",
   "execution_count": 48,
   "metadata": {},
   "outputs": [
    {
     "data": {
      "text/html": [
       "<div>\n",
       "<style scoped>\n",
       "    .dataframe tbody tr th:only-of-type {\n",
       "        vertical-align: middle;\n",
       "    }\n",
       "\n",
       "    .dataframe tbody tr th {\n",
       "        vertical-align: top;\n",
       "    }\n",
       "\n",
       "    .dataframe thead th {\n",
       "        text-align: right;\n",
       "    }\n",
       "</style>\n",
       "<table border=\"1\" class=\"dataframe\">\n",
       "  <thead>\n",
       "    <tr style=\"text-align: right;\">\n",
       "      <th></th>\n",
       "      <th>Date</th>\n",
       "      <th>Yen</th>\n",
       "      <th>US_2yr</th>\n",
       "      <th>JP_2yr</th>\n",
       "    </tr>\n",
       "  </thead>\n",
       "  <tbody>\n",
       "    <tr>\n",
       "      <th>0</th>\n",
       "      <td>2000-01-04</td>\n",
       "      <td>102.98</td>\n",
       "      <td>6.30</td>\n",
       "      <td>0.402</td>\n",
       "    </tr>\n",
       "    <tr>\n",
       "      <th>1</th>\n",
       "      <td>2000-01-05</td>\n",
       "      <td>103.87</td>\n",
       "      <td>6.38</td>\n",
       "      <td>0.380</td>\n",
       "    </tr>\n",
       "  </tbody>\n",
       "</table>\n",
       "</div>"
      ],
      "text/plain": [
       "         Date     Yen  US_2yr  JP_2yr\n",
       "0  2000-01-04  102.98    6.30   0.402\n",
       "1  2000-01-05  103.87    6.38   0.380"
      ]
     },
     "execution_count": 48,
     "metadata": {},
     "output_type": "execute_result"
    }
   ],
   "source": [
    "pd.read_csv('yen.csv').head(2)"
   ]
  },
  {
   "cell_type": "markdown",
   "metadata": {},
   "source": [
    "### 1.3.2 From: A subfolder"
   ]
  },
  {
   "cell_type": "code",
   "execution_count": 49,
   "metadata": {},
   "outputs": [],
   "source": [
    "df = pd.read_csv(\"Sub_directory/Covid_TS_global.csv\")"
   ]
  },
  {
   "cell_type": "markdown",
   "metadata": {},
   "source": [
    "# 2. Dummy variable"
   ]
  },
  {
   "cell_type": "markdown",
   "metadata": {},
   "source": [
    "## 2.1 Create overvalued variable"
   ]
  },
  {
   "cell_type": "code",
   "execution_count": 87,
   "metadata": {},
   "outputs": [
    {
     "data": {
      "text/plain": [
       "count    4717.000000\n",
       "mean      106.642036\n",
       "std        13.102508\n",
       "min        75.770000\n",
       "25%       100.530000\n",
       "50%       109.030000\n",
       "75%       116.630000\n",
       "max       134.820000\n",
       "Name: Yen, dtype: float64"
      ]
     },
     "execution_count": 87,
     "metadata": {},
     "output_type": "execute_result"
    }
   ],
   "source": [
    "df = pd.read_csv('yen.csv')\n",
    "df.Yen.describe()"
   ]
  },
  {
   "cell_type": "markdown",
   "metadata": {},
   "source": [
    "## 2.2 Create overweight var if under 85"
   ]
  },
  {
   "cell_type": "code",
   "execution_count": 95,
   "metadata": {},
   "outputs": [
    {
     "data": {
      "text/html": [
       "<div>\n",
       "<style scoped>\n",
       "    .dataframe tbody tr th:only-of-type {\n",
       "        vertical-align: middle;\n",
       "    }\n",
       "\n",
       "    .dataframe tbody tr th {\n",
       "        vertical-align: top;\n",
       "    }\n",
       "\n",
       "    .dataframe thead th {\n",
       "        text-align: right;\n",
       "    }\n",
       "</style>\n",
       "<table border=\"1\" class=\"dataframe\">\n",
       "  <thead>\n",
       "    <tr style=\"text-align: right;\">\n",
       "      <th></th>\n",
       "      <th>Date</th>\n",
       "      <th>Yen</th>\n",
       "      <th>US_2yr</th>\n",
       "      <th>JP_2yr</th>\n",
       "      <th>Overvalued</th>\n",
       "    </tr>\n",
       "  </thead>\n",
       "  <tbody>\n",
       "    <tr>\n",
       "      <th>0</th>\n",
       "      <td>2000-01-04</td>\n",
       "      <td>102.98</td>\n",
       "      <td>6.30</td>\n",
       "      <td>0.402</td>\n",
       "      <td>0</td>\n",
       "    </tr>\n",
       "    <tr>\n",
       "      <th>1</th>\n",
       "      <td>2000-01-05</td>\n",
       "      <td>103.87</td>\n",
       "      <td>6.38</td>\n",
       "      <td>0.380</td>\n",
       "      <td>0</td>\n",
       "    </tr>\n",
       "    <tr>\n",
       "      <th>2</th>\n",
       "      <td>2000-01-06</td>\n",
       "      <td>105.26</td>\n",
       "      <td>6.35</td>\n",
       "      <td>0.388</td>\n",
       "      <td>0</td>\n",
       "    </tr>\n",
       "  </tbody>\n",
       "</table>\n",
       "</div>"
      ],
      "text/plain": [
       "         Date     Yen  US_2yr  JP_2yr  Overvalued\n",
       "0  2000-01-04  102.98    6.30   0.402           0\n",
       "1  2000-01-05  103.87    6.38   0.380           0\n",
       "2  2000-01-06  105.26    6.35   0.388           0"
      ]
     },
     "execution_count": 95,
     "metadata": {},
     "output_type": "execute_result"
    }
   ],
   "source": [
    "df['Overvalued'] = pd.get_dummies(df.Yen<85, drop_first=True)\n",
    "df.head(3)"
   ]
  },
  {
   "cell_type": "markdown",
   "metadata": {},
   "source": [
    "# 3. Mapping values"
   ]
  },
  {
   "cell_type": "code",
   "execution_count": 104,
   "metadata": {},
   "outputs": [
    {
     "data": {
      "text/plain": [
       "0       Normal\n",
       "1       Normal\n",
       "2       Normal\n",
       "3       Normal\n",
       "4       Normal\n",
       "         ...  \n",
       "4712    Normal\n",
       "4713    Normal\n",
       "4714    Normal\n",
       "4715    Normal\n",
       "4716    Normal\n",
       "Name: Overvalued, Length: 4717, dtype: object"
      ]
     },
     "execution_count": 104,
     "metadata": {},
     "output_type": "execute_result"
    }
   ],
   "source": [
    "df.Overvalued.map({0:'Normal', 1:\"Over-valued\"})"
   ]
  },
  {
   "cell_type": "markdown",
   "metadata": {},
   "source": [
    "# 4. Omit na variables"
   ]
  },
  {
   "cell_type": "code",
   "execution_count": 123,
   "metadata": {},
   "outputs": [
    {
     "data": {
      "text/html": [
       "<div>\n",
       "<style scoped>\n",
       "    .dataframe tbody tr th:only-of-type {\n",
       "        vertical-align: middle;\n",
       "    }\n",
       "\n",
       "    .dataframe tbody tr th {\n",
       "        vertical-align: top;\n",
       "    }\n",
       "\n",
       "    .dataframe thead th {\n",
       "        text-align: right;\n",
       "    }\n",
       "</style>\n",
       "<table border=\"1\" class=\"dataframe\">\n",
       "  <thead>\n",
       "    <tr style=\"text-align: right;\">\n",
       "      <th></th>\n",
       "      <th>Date</th>\n",
       "      <th>Yen</th>\n",
       "      <th>US_2yr</th>\n",
       "      <th>JP_2yr</th>\n",
       "      <th>Overvalued</th>\n",
       "    </tr>\n",
       "  </thead>\n",
       "  <tbody>\n",
       "    <tr>\n",
       "      <th>0</th>\n",
       "      <td>NaN</td>\n",
       "      <td>NaN</td>\n",
       "      <td>NaN</td>\n",
       "      <td>NaN</td>\n",
       "      <td>NaN</td>\n",
       "    </tr>\n",
       "    <tr>\n",
       "      <th>1</th>\n",
       "      <td>NaN</td>\n",
       "      <td>NaN</td>\n",
       "      <td>NaN</td>\n",
       "      <td>NaN</td>\n",
       "      <td>NaN</td>\n",
       "    </tr>\n",
       "  </tbody>\n",
       "</table>\n",
       "</div>"
      ],
      "text/plain": [
       "  Date  Yen  US_2yr  JP_2yr  Overvalued\n",
       "0  NaN  NaN     NaN     NaN         NaN\n",
       "1  NaN  NaN     NaN     NaN         NaN"
      ]
     },
     "execution_count": 123,
     "metadata": {},
     "output_type": "execute_result"
    }
   ],
   "source": [
    "df = df.shift(2)\n",
    "df.head(2)"
   ]
  },
  {
   "cell_type": "code",
   "execution_count": 141,
   "metadata": {},
   "outputs": [],
   "source": [
    "df.dropna().head(2)\n",
    "#df= df.dropna()"
   ]
  },
  {
   "cell_type": "markdown",
   "metadata": {},
   "source": [
    "# 5. Create cut off variables"
   ]
  },
  {
   "cell_type": "markdown",
   "metadata": {},
   "source": [
    "## 5.1 Create cutoffs"
   ]
  },
  {
   "cell_type": "code",
   "execution_count": 142,
   "metadata": {},
   "outputs": [
    {
     "data": {
      "text/plain": [
       "[80, 100, 120, 140]"
      ]
     },
     "execution_count": 142,
     "metadata": {},
     "output_type": "execute_result"
    }
   ],
   "source": [
    "yen_cutoffs= [x for x in range(80,150) if x%20==0]\n",
    "yen_cutoffs"
   ]
  },
  {
   "cell_type": "markdown",
   "metadata": {},
   "source": [
    "## 5.2 Mutate cutoff variables"
   ]
  },
  {
   "cell_type": "code",
   "execution_count": 144,
   "metadata": {},
   "outputs": [
    {
     "data": {
      "text/html": [
       "<div>\n",
       "<style scoped>\n",
       "    .dataframe tbody tr th:only-of-type {\n",
       "        vertical-align: middle;\n",
       "    }\n",
       "\n",
       "    .dataframe tbody tr th {\n",
       "        vertical-align: top;\n",
       "    }\n",
       "\n",
       "    .dataframe thead th {\n",
       "        text-align: right;\n",
       "    }\n",
       "</style>\n",
       "<table border=\"1\" class=\"dataframe\">\n",
       "  <thead>\n",
       "    <tr style=\"text-align: right;\">\n",
       "      <th></th>\n",
       "      <th>Date</th>\n",
       "      <th>Yen</th>\n",
       "      <th>US_2yr</th>\n",
       "      <th>JP_2yr</th>\n",
       "      <th>Overvalued</th>\n",
       "      <th>yen_group</th>\n",
       "    </tr>\n",
       "  </thead>\n",
       "  <tbody>\n",
       "    <tr>\n",
       "      <th>522</th>\n",
       "      <td>2002-03-08</td>\n",
       "      <td>128.10</td>\n",
       "      <td>3.60</td>\n",
       "      <td>0.065</td>\n",
       "      <td>0.0</td>\n",
       "      <td>(80, 100]</td>\n",
       "    </tr>\n",
       "    <tr>\n",
       "      <th>523</th>\n",
       "      <td>2002-03-11</td>\n",
       "      <td>127.95</td>\n",
       "      <td>3.59</td>\n",
       "      <td>0.068</td>\n",
       "      <td>0.0</td>\n",
       "      <td>(80, 100]</td>\n",
       "    </tr>\n",
       "    <tr>\n",
       "      <th>524</th>\n",
       "      <td>2002-03-12</td>\n",
       "      <td>128.75</td>\n",
       "      <td>3.56</td>\n",
       "      <td>0.063</td>\n",
       "      <td>0.0</td>\n",
       "      <td>(80, 100]</td>\n",
       "    </tr>\n",
       "    <tr>\n",
       "      <th>525</th>\n",
       "      <td>2002-03-13</td>\n",
       "      <td>129.46</td>\n",
       "      <td>3.49</td>\n",
       "      <td>0.060</td>\n",
       "      <td>0.0</td>\n",
       "      <td>(80, 100]</td>\n",
       "    </tr>\n",
       "    <tr>\n",
       "      <th>526</th>\n",
       "      <td>2002-03-14</td>\n",
       "      <td>128.78</td>\n",
       "      <td>3.63</td>\n",
       "      <td>0.058</td>\n",
       "      <td>0.0</td>\n",
       "      <td>(80, 100]</td>\n",
       "    </tr>\n",
       "    <tr>\n",
       "      <th>...</th>\n",
       "      <td>...</td>\n",
       "      <td>...</td>\n",
       "      <td>...</td>\n",
       "      <td>...</td>\n",
       "      <td>...</td>\n",
       "      <td>...</td>\n",
       "    </tr>\n",
       "    <tr>\n",
       "      <th>4699</th>\n",
       "      <td>2020-02-28</td>\n",
       "      <td>107.95</td>\n",
       "      <td>0.86</td>\n",
       "      <td>-0.258</td>\n",
       "      <td>0.0</td>\n",
       "      <td>(120, 140]</td>\n",
       "    </tr>\n",
       "    <tr>\n",
       "      <th>4700</th>\n",
       "      <td>2020-03-02</td>\n",
       "      <td>107.92</td>\n",
       "      <td>0.84</td>\n",
       "      <td>-0.264</td>\n",
       "      <td>0.0</td>\n",
       "      <td>(120, 140]</td>\n",
       "    </tr>\n",
       "    <tr>\n",
       "      <th>4701</th>\n",
       "      <td>2020-03-03</td>\n",
       "      <td>107.55</td>\n",
       "      <td>0.71</td>\n",
       "      <td>-0.250</td>\n",
       "      <td>0.0</td>\n",
       "      <td>(120, 140]</td>\n",
       "    </tr>\n",
       "    <tr>\n",
       "      <th>4702</th>\n",
       "      <td>2020-03-04</td>\n",
       "      <td>107.28</td>\n",
       "      <td>0.67</td>\n",
       "      <td>-0.280</td>\n",
       "      <td>0.0</td>\n",
       "      <td>(120, 140]</td>\n",
       "    </tr>\n",
       "    <tr>\n",
       "      <th>4703</th>\n",
       "      <td>2020-03-05</td>\n",
       "      <td>106.70</td>\n",
       "      <td>0.59</td>\n",
       "      <td>-0.251</td>\n",
       "      <td>0.0</td>\n",
       "      <td>(120, 140]</td>\n",
       "    </tr>\n",
       "  </tbody>\n",
       "</table>\n",
       "<p>4182 rows × 6 columns</p>\n",
       "</div>"
      ],
      "text/plain": [
       "            Date     Yen  US_2yr  JP_2yr  Overvalued   yen_group\n",
       "522   2002-03-08  128.10    3.60   0.065         0.0   (80, 100]\n",
       "523   2002-03-11  127.95    3.59   0.068         0.0   (80, 100]\n",
       "524   2002-03-12  128.75    3.56   0.063         0.0   (80, 100]\n",
       "525   2002-03-13  129.46    3.49   0.060         0.0   (80, 100]\n",
       "526   2002-03-14  128.78    3.63   0.058         0.0   (80, 100]\n",
       "...          ...     ...     ...     ...         ...         ...\n",
       "4699  2020-02-28  107.95    0.86  -0.258         0.0  (120, 140]\n",
       "4700  2020-03-02  107.92    0.84  -0.264         0.0  (120, 140]\n",
       "4701  2020-03-03  107.55    0.71  -0.250         0.0  (120, 140]\n",
       "4702  2020-03-04  107.28    0.67  -0.280         0.0  (120, 140]\n",
       "4703  2020-03-05  106.70    0.59  -0.251         0.0  (120, 140]\n",
       "\n",
       "[4182 rows x 6 columns]"
      ]
     },
     "execution_count": 144,
     "metadata": {},
     "output_type": "execute_result"
    }
   ],
   "source": [
    "yen_groups = pd.cut(df[\"Yen\"].sort_values().values, yen_cutoffs)\n",
    "df['yen_group'] = yen_groups\n",
    "df.dropna()"
   ]
  },
  {
   "cell_type": "code",
   "execution_count": 136,
   "metadata": {},
   "outputs": [
    {
     "data": {
      "text/plain": [
       "(80, 100]     0.095605\n",
       "(100, 120]    0.232338\n",
       "(120, 140]   -0.162390\n",
       "Name: JP_2yr, dtype: float64"
      ]
     },
     "execution_count": 136,
     "metadata": {},
     "output_type": "execute_result"
    }
   ],
   "source": [
    "df.groupby(yen_groups)['JP_2yr'].mean()"
   ]
  }
 ],
 "metadata": {
  "kernelspec": {
   "display_name": "Python 3",
   "language": "python",
   "name": "python3"
  },
  "language_info": {
   "codemirror_mode": {
    "name": "ipython",
    "version": 3
   },
   "file_extension": ".py",
   "mimetype": "text/x-python",
   "name": "python",
   "nbconvert_exporter": "python",
   "pygments_lexer": "ipython3",
   "version": "3.7.6"
  }
 },
 "nbformat": 4,
 "nbformat_minor": 4
}
