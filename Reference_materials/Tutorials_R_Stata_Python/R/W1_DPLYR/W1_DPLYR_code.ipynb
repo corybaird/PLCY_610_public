{
 "cells": [
  {
   "cell_type": "markdown",
   "metadata": {},
   "source": [
    "# Introduction to DPLYR"
   ]
  },
  {
   "cell_type": "markdown",
   "metadata": {},
   "source": [
    "# A.1 Working with data in R\n",
    "\n",
    "### A.1.1 What is a Data Frame? \n",
    "- Think of it as an excel sheet with data\n",
    "- In many cases:\n",
    "    - Rows are observations (e.g. people, households, countries, time)\n",
    "    - Columns are variables (e.g. GDP, life expectancy)\n",
    "        \n",
    "### A.1.2 Why don't we just use excel if Data Frames have similar structures?\n",
    "- For many reasons:\n",
    "    - We can easily copy dataframes and mainpulate\n",
    "    - We have access to multiple dataframes with only one line of code\n",
    "    - R is free!\n",
    "\n",
    "### A.1.3 What are the other advantages of using R and dataframes?\n",
    "- We can be lazy and use the thousands of free libraries to easily:\n",
    "    - Easily manipulate data (Today's topic)\n",
    "    - Download data directly from the internet\n",
    "    - Viusualize our data (graphing etc.)\n",
    "    - Build models (Regression, Machine learning, Neural Networks)\n",
    "    \n",
    "    \n",
    "- You have all used libraries before, perhaps without knowing it!\n",
    "    - This is done in R in two steps: \n",
    "        1. install.packages(\"Package name\") Downloads package\n",
    "        2. library(Package name) Imports package\n",
    "\n",
    "### A.1.4 What is the best way to manipulate Data Frames?\n",
    "#### In R: DPLYR!\n",
    "In python: Pandas"
   ]
  },
  {
   "cell_type": "markdown",
   "metadata": {},
   "source": [
    "# 1. Basics"
   ]
  },
  {
   "cell_type": "markdown",
   "metadata": {},
   "source": [
    "## 1.1 Find file [path](https://automatetheboringstuff.com/2e/chapter9/)\n",
    "\n",
    "![title](Images/File_path.png)"
   ]
  },
  {
   "cell_type": "code",
   "execution_count": 1,
   "metadata": {},
   "outputs": [
    {
     "name": "stdout",
     "output_type": "stream",
     "text": [
      "[1] \"The current working directory is: /Users/corybaird/Desktop/Tutorials/R/W1_DPLYR\"\n"
     ]
    }
   ],
   "source": [
    "path = getwd() #Sets current working directory\n",
    "print(paste(\"The current working directory is: \", getwd(), sep=\"\"))"
   ]
  },
  {
   "cell_type": "markdown",
   "metadata": {},
   "source": [
    "## 1.2 Import files\n",
    "### 1.2.1 Import from: current working directory\n",
    "\n"
   ]
  },
  {
   "cell_type": "markdown",
   "metadata": {},
   "source": [
    "#### 1.2.1.1 Lets import that file from an internal data set!\n"
   ]
  },
  {
   "cell_type": "code",
   "execution_count": 8,
   "metadata": {},
   "outputs": [
    {
     "data": {
      "text/html": [
       "<table>\n",
       "<thead><tr><th></th><th scope=col>mpg</th><th scope=col>cyl</th><th scope=col>disp</th><th scope=col>hp</th><th scope=col>drat</th><th scope=col>wt</th><th scope=col>qsec</th><th scope=col>vs</th><th scope=col>am</th><th scope=col>gear</th><th scope=col>carb</th></tr></thead>\n",
       "<tbody>\n",
       "\t<tr><th scope=row>Mazda RX4</th><td>21   </td><td>6    </td><td>160  </td><td>110  </td><td>3.9  </td><td>2.620</td><td>16.46</td><td>0    </td><td>1    </td><td>4    </td><td>4    </td></tr>\n",
       "\t<tr><th scope=row>Mazda RX4 Wag</th><td>21   </td><td>6    </td><td>160  </td><td>110  </td><td>3.9  </td><td>2.875</td><td>17.02</td><td>0    </td><td>1    </td><td>4    </td><td>4    </td></tr>\n",
       "</tbody>\n",
       "</table>\n"
      ],
      "text/latex": [
       "\\begin{tabular}{r|lllllllllll}\n",
       "  & mpg & cyl & disp & hp & drat & wt & qsec & vs & am & gear & carb\\\\\n",
       "\\hline\n",
       "\tMazda RX4 & 21    & 6     & 160   & 110   & 3.9   & 2.620 & 16.46 & 0     & 1     & 4     & 4    \\\\\n",
       "\tMazda RX4 Wag & 21    & 6     & 160   & 110   & 3.9   & 2.875 & 17.02 & 0     & 1     & 4     & 4    \\\\\n",
       "\\end{tabular}\n"
      ],
      "text/markdown": [
       "\n",
       "| <!--/--> | mpg | cyl | disp | hp | drat | wt | qsec | vs | am | gear | carb |\n",
       "|---|---|---|---|---|---|---|---|---|---|---|---|\n",
       "| Mazda RX4 | 21    | 6     | 160   | 110   | 3.9   | 2.620 | 16.46 | 0     | 1     | 4     | 4     |\n",
       "| Mazda RX4 Wag | 21    | 6     | 160   | 110   | 3.9   | 2.875 | 17.02 | 0     | 1     | 4     | 4     |\n",
       "\n"
      ],
      "text/plain": [
       "              mpg cyl disp hp  drat wt    qsec  vs am gear carb\n",
       "Mazda RX4     21  6   160  110 3.9  2.620 16.46 0  1  4    4   \n",
       "Mazda RX4 Wag 21  6   160  110 3.9  2.875 17.02 0  1  4    4   "
      ]
     },
     "metadata": {},
     "output_type": "display_data"
    }
   ],
   "source": [
    "#Download internal data set: cars data\n",
    "data(\"mtcars\") \n",
    "\n",
    "#Show the first two lines of the data set\n",
    "head(mtcars, 2)"
   ]
  },
  {
   "cell_type": "markdown",
   "metadata": {},
   "source": [
    "##### 1.2.1.1.1 Write the internal data set to csv file"
   ]
  },
  {
   "cell_type": "code",
   "execution_count": null,
   "metadata": {},
   "outputs": [],
   "source": [
    "write.csv(mtcars, \"cars.csv\") #Name the dataset \"cars.csv\" and save to current working directory"
   ]
  },
  {
   "cell_type": "markdown",
   "metadata": {},
   "source": [
    "#### 1.2.1.2 Now import \"cars.csv\" which is now in our current directory"
   ]
  },
  {
   "cell_type": "code",
   "execution_count": 3,
   "metadata": {},
   "outputs": [],
   "source": [
    "# read.csv(\"cars.csv\")\n",
    "df = read.csv(\"cars.csv\") #We often name our dataframes df_NAME"
   ]
  },
  {
   "cell_type": "markdown",
   "metadata": {},
   "source": [
    "##### 1.2.1.2.1 Check the first two lines of the cars.csv file now imported as \"df\""
   ]
  },
  {
   "cell_type": "code",
   "execution_count": 5,
   "metadata": {},
   "outputs": [
    {
     "data": {
      "text/html": [
       "<table>\n",
       "<thead><tr><th scope=col>X</th><th scope=col>mpg</th><th scope=col>cyl</th><th scope=col>disp</th><th scope=col>hp</th><th scope=col>drat</th><th scope=col>wt</th><th scope=col>qsec</th><th scope=col>vs</th><th scope=col>am</th><th scope=col>gear</th><th scope=col>carb</th></tr></thead>\n",
       "<tbody>\n",
       "\t<tr><td>Mazda RX4    </td><td>21           </td><td>6            </td><td>160          </td><td>110          </td><td>3.9          </td><td>2.620        </td><td>16.46        </td><td>0            </td><td>1            </td><td>4            </td><td>4            </td></tr>\n",
       "\t<tr><td>Mazda RX4 Wag</td><td>21           </td><td>6            </td><td>160          </td><td>110          </td><td>3.9          </td><td>2.875        </td><td>17.02        </td><td>0            </td><td>1            </td><td>4            </td><td>4            </td></tr>\n",
       "</tbody>\n",
       "</table>\n"
      ],
      "text/latex": [
       "\\begin{tabular}{r|llllllllllll}\n",
       " X & mpg & cyl & disp & hp & drat & wt & qsec & vs & am & gear & carb\\\\\n",
       "\\hline\n",
       "\t Mazda RX4     & 21            & 6             & 160           & 110           & 3.9           & 2.620         & 16.46         & 0             & 1             & 4             & 4            \\\\\n",
       "\t Mazda RX4 Wag & 21            & 6             & 160           & 110           & 3.9           & 2.875         & 17.02         & 0             & 1             & 4             & 4            \\\\\n",
       "\\end{tabular}\n"
      ],
      "text/markdown": [
       "\n",
       "| X | mpg | cyl | disp | hp | drat | wt | qsec | vs | am | gear | carb |\n",
       "|---|---|---|---|---|---|---|---|---|---|---|---|\n",
       "| Mazda RX4     | 21            | 6             | 160           | 110           | 3.9           | 2.620         | 16.46         | 0             | 1             | 4             | 4             |\n",
       "| Mazda RX4 Wag | 21            | 6             | 160           | 110           | 3.9           | 2.875         | 17.02         | 0             | 1             | 4             | 4             |\n",
       "\n"
      ],
      "text/plain": [
       "  X             mpg cyl disp hp  drat wt    qsec  vs am gear carb\n",
       "1 Mazda RX4     21  6   160  110 3.9  2.620 16.46 0  1  4    4   \n",
       "2 Mazda RX4 Wag 21  6   160  110 3.9  2.875 17.02 0  1  4    4   "
      ]
     },
     "metadata": {},
     "output_type": "display_data"
    }
   ],
   "source": [
    "head(df,2)"
   ]
  },
  {
   "cell_type": "markdown",
   "metadata": {},
   "source": [
    "### 1.2.2  Import from: not in our current directory\n",
    "\n",
    "We need to know the file path of the file!!"
   ]
  },
  {
   "cell_type": "markdown",
   "metadata": {},
   "source": [
    "#### 1.2.2.1 Create new directory (folder) and place new data set"
   ]
  },
  {
   "cell_type": "code",
   "execution_count": 6,
   "metadata": {},
   "outputs": [],
   "source": [
    "dir.create('New_directory') #Creates new folder\n",
    "\n",
    "setwd(\"New_directory\") #Changes working directory\n",
    "\n",
    "data(\"USArrests\") #Imports internal data set\n",
    "\n",
    "write.csv(USArrests, \"arrests.csv\") #Name the dataset \"arrests.csv\" and save to current working directory\n",
    "\n",
    "setwd(path) #Returns to our original file path!!!"
   ]
  },
  {
   "cell_type": "code",
   "execution_count": 7,
   "metadata": {},
   "outputs": [
    {
     "data": {
      "text/html": [
       "'/Users/corybaird/Desktop/Tutorials/R/W1_DPLYR'"
      ],
      "text/latex": [
       "'/Users/corybaird/Desktop/Tutorials/R/W1\\_DPLYR'"
      ],
      "text/markdown": [
       "'/Users/corybaird/Desktop/Tutorials/R/W1_DPLYR'"
      ],
      "text/plain": [
       "[1] \"/Users/corybaird/Desktop/Tutorials/R/W1_DPLYR\""
      ]
     },
     "metadata": {},
     "output_type": "display_data"
    }
   ],
   "source": [
    "getwd() #Checks our path which is not in the folder we just created"
   ]
  },
  {
   "cell_type": "markdown",
   "metadata": {},
   "source": [
    "#### 1.2.2.2 Import \"arrests.csv\" from the \"New_directory\" folder"
   ]
  },
  {
   "cell_type": "code",
   "execution_count": 6,
   "metadata": {},
   "outputs": [],
   "source": [
    "df_arrests = read.csv(\"New_directory/arrests.csv\")"
   ]
  },
  {
   "cell_type": "code",
   "execution_count": 7,
   "metadata": {},
   "outputs": [
    {
     "data": {
      "text/html": [
       "<table>\n",
       "<caption>A data.frame: 2 × 5</caption>\n",
       "<thead>\n",
       "\t<tr><th></th><th scope=col>X</th><th scope=col>Murder</th><th scope=col>Assault</th><th scope=col>UrbanPop</th><th scope=col>Rape</th></tr>\n",
       "\t<tr><th></th><th scope=col>&lt;fct&gt;</th><th scope=col>&lt;dbl&gt;</th><th scope=col>&lt;int&gt;</th><th scope=col>&lt;int&gt;</th><th scope=col>&lt;dbl&gt;</th></tr>\n",
       "</thead>\n",
       "<tbody>\n",
       "\t<tr><th scope=row>1</th><td>Alabama</td><td>13.2</td><td>236</td><td>58</td><td>21.2</td></tr>\n",
       "\t<tr><th scope=row>2</th><td>Alaska </td><td>10.0</td><td>263</td><td>48</td><td>44.5</td></tr>\n",
       "</tbody>\n",
       "</table>\n"
      ],
      "text/latex": [
       "A data.frame: 2 × 5\n",
       "\\begin{tabular}{r|lllll}\n",
       "  & X & Murder & Assault & UrbanPop & Rape\\\\\n",
       "  & <fct> & <dbl> & <int> & <int> & <dbl>\\\\\n",
       "\\hline\n",
       "\t1 & Alabama & 13.2 & 236 & 58 & 21.2\\\\\n",
       "\t2 & Alaska  & 10.0 & 263 & 48 & 44.5\\\\\n",
       "\\end{tabular}\n"
      ],
      "text/markdown": [
       "\n",
       "A data.frame: 2 × 5\n",
       "\n",
       "| <!--/--> | X &lt;fct&gt; | Murder &lt;dbl&gt; | Assault &lt;int&gt; | UrbanPop &lt;int&gt; | Rape &lt;dbl&gt; |\n",
       "|---|---|---|---|---|---|\n",
       "| 1 | Alabama | 13.2 | 236 | 58 | 21.2 |\n",
       "| 2 | Alaska  | 10.0 | 263 | 48 | 44.5 |\n",
       "\n"
      ],
      "text/plain": [
       "  X       Murder Assault UrbanPop Rape\n",
       "1 Alabama 13.2   236     58       21.2\n",
       "2 Alaska  10.0   263     48       44.5"
      ]
     },
     "metadata": {},
     "output_type": "display_data"
    }
   ],
   "source": [
    "head(df_arrests,2)"
   ]
  },
  {
   "cell_type": "markdown",
   "metadata": {},
   "source": [
    "# 2. DPLYR\n",
    "\n",
    "We will use cars data set we named df"
   ]
  },
  {
   "cell_type": "markdown",
   "metadata": {},
   "source": [
    "## 2.1 Basics"
   ]
  },
  {
   "cell_type": "markdown",
   "metadata": {},
   "source": [
    "### 2.1.1 Download and import dplyr package"
   ]
  },
  {
   "cell_type": "code",
   "execution_count": 8,
   "metadata": {},
   "outputs": [
    {
     "name": "stderr",
     "output_type": "stream",
     "text": [
      "Warning message:\n",
      "“package ‘dplyr’ was built under R version 3.6.3”\n",
      "Attaching package: ‘dplyr’\n",
      "\n",
      "The following objects are masked from ‘package:stats’:\n",
      "\n",
      "    filter, lag\n",
      "\n",
      "The following objects are masked from ‘package:base’:\n",
      "\n",
      "    intersect, setdiff, setequal, union\n",
      "\n"
     ]
    }
   ],
   "source": [
    "#install.packages(\"dplyr\") #Already installed!\n",
    "library(dplyr)"
   ]
  },
  {
   "cell_type": "markdown",
   "metadata": {},
   "source": [
    "### 2.1.2 Convert Data Frame into tibble (DPLYR's special Data Frame)"
   ]
  },
  {
   "cell_type": "code",
   "execution_count": 9,
   "metadata": {},
   "outputs": [],
   "source": [
    "dp_df = as_tibble(df)"
   ]
  },
  {
   "cell_type": "markdown",
   "metadata": {},
   "source": [
    "### 2.2 Select columns"
   ]
  },
  {
   "cell_type": "code",
   "execution_count": 10,
   "metadata": {},
   "outputs": [
    {
     "data": {
      "text/html": [
       "<style>\n",
       ".list-inline {list-style: none; margin:0; padding: 0}\n",
       ".list-inline>li {display: inline-block}\n",
       ".list-inline>li:not(:last-child)::after {content: \"\\00b7\"; padding: 0 .5ex}\n",
       "</style>\n",
       "<ol class=list-inline><li>'X'</li><li>'mpg'</li><li>'cyl'</li><li>'disp'</li><li>'hp'</li><li>'drat'</li><li>'wt'</li><li>'qsec'</li><li>'vs'</li><li>'am'</li><li>'gear'</li><li>'carb'</li></ol>\n"
      ],
      "text/latex": [
       "\\begin{enumerate*}\n",
       "\\item 'X'\n",
       "\\item 'mpg'\n",
       "\\item 'cyl'\n",
       "\\item 'disp'\n",
       "\\item 'hp'\n",
       "\\item 'drat'\n",
       "\\item 'wt'\n",
       "\\item 'qsec'\n",
       "\\item 'vs'\n",
       "\\item 'am'\n",
       "\\item 'gear'\n",
       "\\item 'carb'\n",
       "\\end{enumerate*}\n"
      ],
      "text/markdown": [
       "1. 'X'\n",
       "2. 'mpg'\n",
       "3. 'cyl'\n",
       "4. 'disp'\n",
       "5. 'hp'\n",
       "6. 'drat'\n",
       "7. 'wt'\n",
       "8. 'qsec'\n",
       "9. 'vs'\n",
       "10. 'am'\n",
       "11. 'gear'\n",
       "12. 'carb'\n",
       "\n",
       "\n"
      ],
      "text/plain": [
       " [1] \"X\"    \"mpg\"  \"cyl\"  \"disp\" \"hp\"   \"drat\" \"wt\"   \"qsec\" \"vs\"   \"am\"  \n",
       "[11] \"gear\" \"carb\""
      ]
     },
     "metadata": {},
     "output_type": "display_data"
    }
   ],
   "source": [
    "#We can list all the column names from a Data Frame\n",
    "colnames(dp_df)"
   ]
  },
  {
   "cell_type": "markdown",
   "metadata": {},
   "source": [
    "### 2.2.1 Select one column"
   ]
  },
  {
   "cell_type": "code",
   "execution_count": 11,
   "metadata": {},
   "outputs": [
    {
     "data": {
      "text/html": [
       "<table>\n",
       "<caption>A tibble: 3 × 1</caption>\n",
       "<thead>\n",
       "\t<tr><th scope=col>X</th></tr>\n",
       "\t<tr><th scope=col>&lt;fct&gt;</th></tr>\n",
       "</thead>\n",
       "<tbody>\n",
       "\t<tr><td>Mazda RX4    </td></tr>\n",
       "\t<tr><td>Mazda RX4 Wag</td></tr>\n",
       "\t<tr><td>Datsun 710   </td></tr>\n",
       "</tbody>\n",
       "</table>\n"
      ],
      "text/latex": [
       "A tibble: 3 × 1\n",
       "\\begin{tabular}{l}\n",
       " X\\\\\n",
       " <fct>\\\\\n",
       "\\hline\n",
       "\t Mazda RX4    \\\\\n",
       "\t Mazda RX4 Wag\\\\\n",
       "\t Datsun 710   \\\\\n",
       "\\end{tabular}\n"
      ],
      "text/markdown": [
       "\n",
       "A tibble: 3 × 1\n",
       "\n",
       "| X &lt;fct&gt; |\n",
       "|---|\n",
       "| Mazda RX4     |\n",
       "| Mazda RX4 Wag |\n",
       "| Datsun 710    |\n",
       "\n"
      ],
      "text/plain": [
       "  X            \n",
       "1 Mazda RX4    \n",
       "2 Mazda RX4 Wag\n",
       "3 Datsun 710   "
      ]
     },
     "metadata": {},
     "output_type": "display_data"
    }
   ],
   "source": [
    "dp_df %>% #Dataframe\n",
    "select(X)%>% #Select column named X\n",
    "head(3) #Shows only first 3 obs"
   ]
  },
  {
   "cell_type": "markdown",
   "metadata": {},
   "source": [
    "### 2.2.2 Select multiple columns"
   ]
  },
  {
   "cell_type": "code",
   "execution_count": 12,
   "metadata": {},
   "outputs": [
    {
     "data": {
      "text/html": [
       "<table>\n",
       "<caption>A tibble: 2 × 4</caption>\n",
       "<thead>\n",
       "\t<tr><th scope=col>cyl</th><th scope=col>disp</th><th scope=col>hp</th><th scope=col>wt</th></tr>\n",
       "\t<tr><th scope=col>&lt;int&gt;</th><th scope=col>&lt;dbl&gt;</th><th scope=col>&lt;int&gt;</th><th scope=col>&lt;dbl&gt;</th></tr>\n",
       "</thead>\n",
       "<tbody>\n",
       "\t<tr><td>6</td><td>160</td><td>110</td><td>2.620</td></tr>\n",
       "\t<tr><td>6</td><td>160</td><td>110</td><td>2.875</td></tr>\n",
       "</tbody>\n",
       "</table>\n"
      ],
      "text/latex": [
       "A tibble: 2 × 4\n",
       "\\begin{tabular}{llll}\n",
       " cyl & disp & hp & wt\\\\\n",
       " <int> & <dbl> & <int> & <dbl>\\\\\n",
       "\\hline\n",
       "\t 6 & 160 & 110 & 2.620\\\\\n",
       "\t 6 & 160 & 110 & 2.875\\\\\n",
       "\\end{tabular}\n"
      ],
      "text/markdown": [
       "\n",
       "A tibble: 2 × 4\n",
       "\n",
       "| cyl &lt;int&gt; | disp &lt;dbl&gt; | hp &lt;int&gt; | wt &lt;dbl&gt; |\n",
       "|---|---|---|---|\n",
       "| 6 | 160 | 110 | 2.620 |\n",
       "| 6 | 160 | 110 | 2.875 |\n",
       "\n"
      ],
      "text/plain": [
       "  cyl disp hp  wt   \n",
       "1 6   160  110 2.620\n",
       "2 6   160  110 2.875"
      ]
     },
     "metadata": {},
     "output_type": "display_data"
    }
   ],
   "source": [
    "dp_df %>% #Dataframe\n",
    "select(cyl, disp, hp, wt)%>% #Select column named X\n",
    "head(2) #Shows only first 2 obs"
   ]
  },
  {
   "cell_type": "markdown",
   "metadata": {},
   "source": [
    "### 2.2.3 QUESTION: Select columns and create new Data Frame"
   ]
  },
  {
   "cell_type": "code",
   "execution_count": null,
   "metadata": {},
   "outputs": [],
   "source": []
  },
  {
   "cell_type": "markdown",
   "metadata": {},
   "source": [
    "### 2.2.4 Select by column name"
   ]
  },
  {
   "cell_type": "markdown",
   "metadata": {},
   "source": [
    "#### 2.2.4.1 Select by name that starts with h"
   ]
  },
  {
   "cell_type": "code",
   "execution_count": 13,
   "metadata": {},
   "outputs": [
    {
     "data": {
      "text/html": [
       "<table>\n",
       "<caption>A tibble: 2 × 1</caption>\n",
       "<thead>\n",
       "\t<tr><th scope=col>hp</th></tr>\n",
       "\t<tr><th scope=col>&lt;int&gt;</th></tr>\n",
       "</thead>\n",
       "<tbody>\n",
       "\t<tr><td>110</td></tr>\n",
       "\t<tr><td>110</td></tr>\n",
       "</tbody>\n",
       "</table>\n"
      ],
      "text/latex": [
       "A tibble: 2 × 1\n",
       "\\begin{tabular}{l}\n",
       " hp\\\\\n",
       " <int>\\\\\n",
       "\\hline\n",
       "\t 110\\\\\n",
       "\t 110\\\\\n",
       "\\end{tabular}\n"
      ],
      "text/markdown": [
       "\n",
       "A tibble: 2 × 1\n",
       "\n",
       "| hp &lt;int&gt; |\n",
       "|---|\n",
       "| 110 |\n",
       "| 110 |\n",
       "\n"
      ],
      "text/plain": [
       "  hp \n",
       "1 110\n",
       "2 110"
      ]
     },
     "metadata": {},
     "output_type": "display_data"
    }
   ],
   "source": [
    "dp_df %>% #Dataframe\n",
    "select(starts_with('h'))%>% #Select column named X\n",
    "head(2) #Shows only first 2 obs"
   ]
  },
  {
   "cell_type": "markdown",
   "metadata": {},
   "source": [
    "#### 2.2.4.2 Select by name that starts with t"
   ]
  },
  {
   "cell_type": "code",
   "execution_count": 14,
   "metadata": {},
   "outputs": [
    {
     "data": {
      "text/html": [
       "<table>\n",
       "<caption>A tibble: 2 × 2</caption>\n",
       "<thead>\n",
       "\t<tr><th scope=col>drat</th><th scope=col>wt</th></tr>\n",
       "\t<tr><th scope=col>&lt;dbl&gt;</th><th scope=col>&lt;dbl&gt;</th></tr>\n",
       "</thead>\n",
       "<tbody>\n",
       "\t<tr><td>3.9</td><td>2.620</td></tr>\n",
       "\t<tr><td>3.9</td><td>2.875</td></tr>\n",
       "</tbody>\n",
       "</table>\n"
      ],
      "text/latex": [
       "A tibble: 2 × 2\n",
       "\\begin{tabular}{ll}\n",
       " drat & wt\\\\\n",
       " <dbl> & <dbl>\\\\\n",
       "\\hline\n",
       "\t 3.9 & 2.620\\\\\n",
       "\t 3.9 & 2.875\\\\\n",
       "\\end{tabular}\n"
      ],
      "text/markdown": [
       "\n",
       "A tibble: 2 × 2\n",
       "\n",
       "| drat &lt;dbl&gt; | wt &lt;dbl&gt; |\n",
       "|---|---|\n",
       "| 3.9 | 2.620 |\n",
       "| 3.9 | 2.875 |\n",
       "\n"
      ],
      "text/plain": [
       "  drat wt   \n",
       "1 3.9  2.620\n",
       "2 3.9  2.875"
      ]
     },
     "metadata": {},
     "output_type": "display_data"
    }
   ],
   "source": [
    "dp_df %>% #Dataframe\n",
    "select(ends_with('t'))%>% #Select column named X\n",
    "head(2) #Shows only first 2 obs"
   ]
  },
  {
   "cell_type": "markdown",
   "metadata": {},
   "source": [
    "#### 2.2.4.3 Select by name that contains c"
   ]
  },
  {
   "cell_type": "code",
   "execution_count": 15,
   "metadata": {},
   "outputs": [
    {
     "data": {
      "text/html": [
       "<table>\n",
       "<caption>A tibble: 2 × 3</caption>\n",
       "<thead>\n",
       "\t<tr><th scope=col>cyl</th><th scope=col>qsec</th><th scope=col>carb</th></tr>\n",
       "\t<tr><th scope=col>&lt;int&gt;</th><th scope=col>&lt;dbl&gt;</th><th scope=col>&lt;int&gt;</th></tr>\n",
       "</thead>\n",
       "<tbody>\n",
       "\t<tr><td>6</td><td>16.46</td><td>4</td></tr>\n",
       "\t<tr><td>6</td><td>17.02</td><td>4</td></tr>\n",
       "</tbody>\n",
       "</table>\n"
      ],
      "text/latex": [
       "A tibble: 2 × 3\n",
       "\\begin{tabular}{lll}\n",
       " cyl & qsec & carb\\\\\n",
       " <int> & <dbl> & <int>\\\\\n",
       "\\hline\n",
       "\t 6 & 16.46 & 4\\\\\n",
       "\t 6 & 17.02 & 4\\\\\n",
       "\\end{tabular}\n"
      ],
      "text/markdown": [
       "\n",
       "A tibble: 2 × 3\n",
       "\n",
       "| cyl &lt;int&gt; | qsec &lt;dbl&gt; | carb &lt;int&gt; |\n",
       "|---|---|---|\n",
       "| 6 | 16.46 | 4 |\n",
       "| 6 | 17.02 | 4 |\n",
       "\n"
      ],
      "text/plain": [
       "  cyl qsec  carb\n",
       "1 6   16.46 4   \n",
       "2 6   17.02 4   "
      ]
     },
     "metadata": {},
     "output_type": "display_data"
    }
   ],
   "source": [
    "dp_df %>% #Dataframe\n",
    "select(contains('c'))%>% #Select column named X\n",
    "head(2) #Shows only first 2 obs"
   ]
  },
  {
   "cell_type": "markdown",
   "metadata": {},
   "source": [
    "### 2.2.4 Pull: similar to select expect it only extracts values"
   ]
  },
  {
   "cell_type": "code",
   "execution_count": 16,
   "metadata": {},
   "outputs": [
    {
     "data": {
      "text/html": [
       "<style>\n",
       ".list-inline {list-style: none; margin:0; padding: 0}\n",
       ".list-inline>li {display: inline-block}\n",
       ".list-inline>li:not(:last-child)::after {content: \"\\00b7\"; padding: 0 .5ex}\n",
       "</style>\n",
       "<ol class=list-inline><li>6</li><li>6</li><li>4</li><li>6</li><li>8</li><li>6</li><li>8</li><li>4</li><li>4</li><li>6</li><li>6</li><li>8</li><li>8</li><li>8</li><li>8</li><li>8</li><li>8</li><li>4</li><li>4</li><li>4</li><li>4</li><li>8</li><li>8</li><li>8</li><li>8</li><li>4</li><li>4</li><li>4</li><li>8</li><li>6</li><li>8</li><li>4</li></ol>\n"
      ],
      "text/latex": [
       "\\begin{enumerate*}\n",
       "\\item 6\n",
       "\\item 6\n",
       "\\item 4\n",
       "\\item 6\n",
       "\\item 8\n",
       "\\item 6\n",
       "\\item 8\n",
       "\\item 4\n",
       "\\item 4\n",
       "\\item 6\n",
       "\\item 6\n",
       "\\item 8\n",
       "\\item 8\n",
       "\\item 8\n",
       "\\item 8\n",
       "\\item 8\n",
       "\\item 8\n",
       "\\item 4\n",
       "\\item 4\n",
       "\\item 4\n",
       "\\item 4\n",
       "\\item 8\n",
       "\\item 8\n",
       "\\item 8\n",
       "\\item 8\n",
       "\\item 4\n",
       "\\item 4\n",
       "\\item 4\n",
       "\\item 8\n",
       "\\item 6\n",
       "\\item 8\n",
       "\\item 4\n",
       "\\end{enumerate*}\n"
      ],
      "text/markdown": [
       "1. 6\n",
       "2. 6\n",
       "3. 4\n",
       "4. 6\n",
       "5. 8\n",
       "6. 6\n",
       "7. 8\n",
       "8. 4\n",
       "9. 4\n",
       "10. 6\n",
       "11. 6\n",
       "12. 8\n",
       "13. 8\n",
       "14. 8\n",
       "15. 8\n",
       "16. 8\n",
       "17. 8\n",
       "18. 4\n",
       "19. 4\n",
       "20. 4\n",
       "21. 4\n",
       "22. 8\n",
       "23. 8\n",
       "24. 8\n",
       "25. 8\n",
       "26. 4\n",
       "27. 4\n",
       "28. 4\n",
       "29. 8\n",
       "30. 6\n",
       "31. 8\n",
       "32. 4\n",
       "\n",
       "\n"
      ],
      "text/plain": [
       " [1] 6 6 4 6 8 6 8 4 4 6 6 8 8 8 8 8 8 4 4 4 4 8 8 8 8 4 4 4 8 6 8 4"
      ]
     },
     "metadata": {},
     "output_type": "display_data"
    }
   ],
   "source": [
    "dp_df %>% #Dataframe\n",
    "pull(var = cyl)"
   ]
  },
  {
   "cell_type": "markdown",
   "metadata": {},
   "source": [
    "## 2.3 Filter "
   ]
  },
  {
   "cell_type": "code",
   "execution_count": 17,
   "metadata": {},
   "outputs": [
    {
     "data": {
      "text/html": [
       "<table>\n",
       "<caption>A tibble: 2 × 12</caption>\n",
       "<thead>\n",
       "\t<tr><th scope=col>X</th><th scope=col>mpg</th><th scope=col>cyl</th><th scope=col>disp</th><th scope=col>hp</th><th scope=col>drat</th><th scope=col>wt</th><th scope=col>qsec</th><th scope=col>vs</th><th scope=col>am</th><th scope=col>gear</th><th scope=col>carb</th></tr>\n",
       "\t<tr><th scope=col>&lt;fct&gt;</th><th scope=col>&lt;dbl&gt;</th><th scope=col>&lt;int&gt;</th><th scope=col>&lt;dbl&gt;</th><th scope=col>&lt;int&gt;</th><th scope=col>&lt;dbl&gt;</th><th scope=col>&lt;dbl&gt;</th><th scope=col>&lt;dbl&gt;</th><th scope=col>&lt;int&gt;</th><th scope=col>&lt;int&gt;</th><th scope=col>&lt;int&gt;</th><th scope=col>&lt;int&gt;</th></tr>\n",
       "</thead>\n",
       "<tbody>\n",
       "\t<tr><td>Mazda RX4    </td><td>21</td><td>6</td><td>160</td><td>110</td><td>3.9</td><td>2.620</td><td>16.46</td><td>0</td><td>1</td><td>4</td><td>4</td></tr>\n",
       "\t<tr><td>Mazda RX4 Wag</td><td>21</td><td>6</td><td>160</td><td>110</td><td>3.9</td><td>2.875</td><td>17.02</td><td>0</td><td>1</td><td>4</td><td>4</td></tr>\n",
       "</tbody>\n",
       "</table>\n"
      ],
      "text/latex": [
       "A tibble: 2 × 12\n",
       "\\begin{tabular}{llllllllllll}\n",
       " X & mpg & cyl & disp & hp & drat & wt & qsec & vs & am & gear & carb\\\\\n",
       " <fct> & <dbl> & <int> & <dbl> & <int> & <dbl> & <dbl> & <dbl> & <int> & <int> & <int> & <int>\\\\\n",
       "\\hline\n",
       "\t Mazda RX4     & 21 & 6 & 160 & 110 & 3.9 & 2.620 & 16.46 & 0 & 1 & 4 & 4\\\\\n",
       "\t Mazda RX4 Wag & 21 & 6 & 160 & 110 & 3.9 & 2.875 & 17.02 & 0 & 1 & 4 & 4\\\\\n",
       "\\end{tabular}\n"
      ],
      "text/markdown": [
       "\n",
       "A tibble: 2 × 12\n",
       "\n",
       "| X &lt;fct&gt; | mpg &lt;dbl&gt; | cyl &lt;int&gt; | disp &lt;dbl&gt; | hp &lt;int&gt; | drat &lt;dbl&gt; | wt &lt;dbl&gt; | qsec &lt;dbl&gt; | vs &lt;int&gt; | am &lt;int&gt; | gear &lt;int&gt; | carb &lt;int&gt; |\n",
       "|---|---|---|---|---|---|---|---|---|---|---|---|\n",
       "| Mazda RX4     | 21 | 6 | 160 | 110 | 3.9 | 2.620 | 16.46 | 0 | 1 | 4 | 4 |\n",
       "| Mazda RX4 Wag | 21 | 6 | 160 | 110 | 3.9 | 2.875 | 17.02 | 0 | 1 | 4 | 4 |\n",
       "\n"
      ],
      "text/plain": [
       "  X             mpg cyl disp hp  drat wt    qsec  vs am gear carb\n",
       "1 Mazda RX4     21  6   160  110 3.9  2.620 16.46 0  1  4    4   \n",
       "2 Mazda RX4 Wag 21  6   160  110 3.9  2.875 17.02 0  1  4    4   "
      ]
     },
     "metadata": {},
     "output_type": "display_data"
    }
   ],
   "source": [
    "head(dp_df,2)"
   ]
  },
  {
   "cell_type": "markdown",
   "metadata": {},
   "source": [
    "### 2.3.1 Filter by 1 condition"
   ]
  },
  {
   "cell_type": "code",
   "execution_count": 18,
   "metadata": {},
   "outputs": [
    {
     "data": {
      "text/html": [
       "<table>\n",
       "<caption>A tibble: 5 × 12</caption>\n",
       "<thead>\n",
       "\t<tr><th scope=col>X</th><th scope=col>mpg</th><th scope=col>cyl</th><th scope=col>disp</th><th scope=col>hp</th><th scope=col>drat</th><th scope=col>wt</th><th scope=col>qsec</th><th scope=col>vs</th><th scope=col>am</th><th scope=col>gear</th><th scope=col>carb</th></tr>\n",
       "\t<tr><th scope=col>&lt;fct&gt;</th><th scope=col>&lt;dbl&gt;</th><th scope=col>&lt;int&gt;</th><th scope=col>&lt;dbl&gt;</th><th scope=col>&lt;int&gt;</th><th scope=col>&lt;dbl&gt;</th><th scope=col>&lt;dbl&gt;</th><th scope=col>&lt;dbl&gt;</th><th scope=col>&lt;int&gt;</th><th scope=col>&lt;int&gt;</th><th scope=col>&lt;int&gt;</th><th scope=col>&lt;int&gt;</th></tr>\n",
       "</thead>\n",
       "<tbody>\n",
       "\t<tr><td>Datsun 710 </td><td>22.8</td><td>4</td><td>108.0</td><td>93</td><td>3.85</td><td>2.320</td><td>18.61</td><td>1</td><td>1</td><td>4</td><td>1</td></tr>\n",
       "\t<tr><td>Merc 240D  </td><td>24.4</td><td>4</td><td>146.7</td><td>62</td><td>3.69</td><td>3.190</td><td>20.00</td><td>1</td><td>0</td><td>4</td><td>2</td></tr>\n",
       "\t<tr><td>Merc 230   </td><td>22.8</td><td>4</td><td>140.8</td><td>95</td><td>3.92</td><td>3.150</td><td>22.90</td><td>1</td><td>0</td><td>4</td><td>2</td></tr>\n",
       "\t<tr><td>Fiat 128   </td><td>32.4</td><td>4</td><td> 78.7</td><td>66</td><td>4.08</td><td>2.200</td><td>19.47</td><td>1</td><td>1</td><td>4</td><td>1</td></tr>\n",
       "\t<tr><td>Honda Civic</td><td>30.4</td><td>4</td><td> 75.7</td><td>52</td><td>4.93</td><td>1.615</td><td>18.52</td><td>1</td><td>1</td><td>4</td><td>2</td></tr>\n",
       "</tbody>\n",
       "</table>\n"
      ],
      "text/latex": [
       "A tibble: 5 × 12\n",
       "\\begin{tabular}{llllllllllll}\n",
       " X & mpg & cyl & disp & hp & drat & wt & qsec & vs & am & gear & carb\\\\\n",
       " <fct> & <dbl> & <int> & <dbl> & <int> & <dbl> & <dbl> & <dbl> & <int> & <int> & <int> & <int>\\\\\n",
       "\\hline\n",
       "\t Datsun 710  & 22.8 & 4 & 108.0 & 93 & 3.85 & 2.320 & 18.61 & 1 & 1 & 4 & 1\\\\\n",
       "\t Merc 240D   & 24.4 & 4 & 146.7 & 62 & 3.69 & 3.190 & 20.00 & 1 & 0 & 4 & 2\\\\\n",
       "\t Merc 230    & 22.8 & 4 & 140.8 & 95 & 3.92 & 3.150 & 22.90 & 1 & 0 & 4 & 2\\\\\n",
       "\t Fiat 128    & 32.4 & 4 &  78.7 & 66 & 4.08 & 2.200 & 19.47 & 1 & 1 & 4 & 1\\\\\n",
       "\t Honda Civic & 30.4 & 4 &  75.7 & 52 & 4.93 & 1.615 & 18.52 & 1 & 1 & 4 & 2\\\\\n",
       "\\end{tabular}\n"
      ],
      "text/markdown": [
       "\n",
       "A tibble: 5 × 12\n",
       "\n",
       "| X &lt;fct&gt; | mpg &lt;dbl&gt; | cyl &lt;int&gt; | disp &lt;dbl&gt; | hp &lt;int&gt; | drat &lt;dbl&gt; | wt &lt;dbl&gt; | qsec &lt;dbl&gt; | vs &lt;int&gt; | am &lt;int&gt; | gear &lt;int&gt; | carb &lt;int&gt; |\n",
       "|---|---|---|---|---|---|---|---|---|---|---|---|\n",
       "| Datsun 710  | 22.8 | 4 | 108.0 | 93 | 3.85 | 2.320 | 18.61 | 1 | 1 | 4 | 1 |\n",
       "| Merc 240D   | 24.4 | 4 | 146.7 | 62 | 3.69 | 3.190 | 20.00 | 1 | 0 | 4 | 2 |\n",
       "| Merc 230    | 22.8 | 4 | 140.8 | 95 | 3.92 | 3.150 | 22.90 | 1 | 0 | 4 | 2 |\n",
       "| Fiat 128    | 32.4 | 4 |  78.7 | 66 | 4.08 | 2.200 | 19.47 | 1 | 1 | 4 | 1 |\n",
       "| Honda Civic | 30.4 | 4 |  75.7 | 52 | 4.93 | 1.615 | 18.52 | 1 | 1 | 4 | 2 |\n",
       "\n"
      ],
      "text/plain": [
       "  X           mpg  cyl disp  hp drat wt    qsec  vs am gear carb\n",
       "1 Datsun 710  22.8 4   108.0 93 3.85 2.320 18.61 1  1  4    1   \n",
       "2 Merc 240D   24.4 4   146.7 62 3.69 3.190 20.00 1  0  4    2   \n",
       "3 Merc 230    22.8 4   140.8 95 3.92 3.150 22.90 1  0  4    2   \n",
       "4 Fiat 128    32.4 4    78.7 66 4.08 2.200 19.47 1  1  4    1   \n",
       "5 Honda Civic 30.4 4    75.7 52 4.93 1.615 18.52 1  1  4    2   "
      ]
     },
     "metadata": {},
     "output_type": "display_data"
    }
   ],
   "source": [
    "dp_df %>% \n",
    "filter(mpg>22)%>% #filter all observations over 25 mpg\n",
    "head(2)"
   ]
  },
  {
   "cell_type": "markdown",
   "metadata": {},
   "source": [
    "### 2.3.2 Filter by 2 conditions"
   ]
  },
  {
   "cell_type": "code",
   "execution_count": 19,
   "metadata": {},
   "outputs": [
    {
     "data": {
      "text/html": [
       "<table>\n",
       "<caption>A tibble: 5 × 12</caption>\n",
       "<thead>\n",
       "\t<tr><th scope=col>X</th><th scope=col>mpg</th><th scope=col>cyl</th><th scope=col>disp</th><th scope=col>hp</th><th scope=col>drat</th><th scope=col>wt</th><th scope=col>qsec</th><th scope=col>vs</th><th scope=col>am</th><th scope=col>gear</th><th scope=col>carb</th></tr>\n",
       "\t<tr><th scope=col>&lt;fct&gt;</th><th scope=col>&lt;dbl&gt;</th><th scope=col>&lt;int&gt;</th><th scope=col>&lt;dbl&gt;</th><th scope=col>&lt;int&gt;</th><th scope=col>&lt;dbl&gt;</th><th scope=col>&lt;dbl&gt;</th><th scope=col>&lt;dbl&gt;</th><th scope=col>&lt;int&gt;</th><th scope=col>&lt;int&gt;</th><th scope=col>&lt;int&gt;</th><th scope=col>&lt;int&gt;</th></tr>\n",
       "</thead>\n",
       "<tbody>\n",
       "\t<tr><td>Datsun 710 </td><td>22.8</td><td>4</td><td>108.0</td><td>93</td><td>3.85</td><td>2.320</td><td>18.61</td><td>1</td><td>1</td><td>4</td><td>1</td></tr>\n",
       "\t<tr><td>Merc 240D  </td><td>24.4</td><td>4</td><td>146.7</td><td>62</td><td>3.69</td><td>3.190</td><td>20.00</td><td>1</td><td>0</td><td>4</td><td>2</td></tr>\n",
       "\t<tr><td>Merc 230   </td><td>22.8</td><td>4</td><td>140.8</td><td>95</td><td>3.92</td><td>3.150</td><td>22.90</td><td>1</td><td>0</td><td>4</td><td>2</td></tr>\n",
       "\t<tr><td>Fiat 128   </td><td>32.4</td><td>4</td><td> 78.7</td><td>66</td><td>4.08</td><td>2.200</td><td>19.47</td><td>1</td><td>1</td><td>4</td><td>1</td></tr>\n",
       "\t<tr><td>Honda Civic</td><td>30.4</td><td>4</td><td> 75.7</td><td>52</td><td>4.93</td><td>1.615</td><td>18.52</td><td>1</td><td>1</td><td>4</td><td>2</td></tr>\n",
       "</tbody>\n",
       "</table>\n"
      ],
      "text/latex": [
       "A tibble: 5 × 12\n",
       "\\begin{tabular}{llllllllllll}\n",
       " X & mpg & cyl & disp & hp & drat & wt & qsec & vs & am & gear & carb\\\\\n",
       " <fct> & <dbl> & <int> & <dbl> & <int> & <dbl> & <dbl> & <dbl> & <int> & <int> & <int> & <int>\\\\\n",
       "\\hline\n",
       "\t Datsun 710  & 22.8 & 4 & 108.0 & 93 & 3.85 & 2.320 & 18.61 & 1 & 1 & 4 & 1\\\\\n",
       "\t Merc 240D   & 24.4 & 4 & 146.7 & 62 & 3.69 & 3.190 & 20.00 & 1 & 0 & 4 & 2\\\\\n",
       "\t Merc 230    & 22.8 & 4 & 140.8 & 95 & 3.92 & 3.150 & 22.90 & 1 & 0 & 4 & 2\\\\\n",
       "\t Fiat 128    & 32.4 & 4 &  78.7 & 66 & 4.08 & 2.200 & 19.47 & 1 & 1 & 4 & 1\\\\\n",
       "\t Honda Civic & 30.4 & 4 &  75.7 & 52 & 4.93 & 1.615 & 18.52 & 1 & 1 & 4 & 2\\\\\n",
       "\\end{tabular}\n"
      ],
      "text/markdown": [
       "\n",
       "A tibble: 5 × 12\n",
       "\n",
       "| X &lt;fct&gt; | mpg &lt;dbl&gt; | cyl &lt;int&gt; | disp &lt;dbl&gt; | hp &lt;int&gt; | drat &lt;dbl&gt; | wt &lt;dbl&gt; | qsec &lt;dbl&gt; | vs &lt;int&gt; | am &lt;int&gt; | gear &lt;int&gt; | carb &lt;int&gt; |\n",
       "|---|---|---|---|---|---|---|---|---|---|---|---|\n",
       "| Datsun 710  | 22.8 | 4 | 108.0 | 93 | 3.85 | 2.320 | 18.61 | 1 | 1 | 4 | 1 |\n",
       "| Merc 240D   | 24.4 | 4 | 146.7 | 62 | 3.69 | 3.190 | 20.00 | 1 | 0 | 4 | 2 |\n",
       "| Merc 230    | 22.8 | 4 | 140.8 | 95 | 3.92 | 3.150 | 22.90 | 1 | 0 | 4 | 2 |\n",
       "| Fiat 128    | 32.4 | 4 |  78.7 | 66 | 4.08 | 2.200 | 19.47 | 1 | 1 | 4 | 1 |\n",
       "| Honda Civic | 30.4 | 4 |  75.7 | 52 | 4.93 | 1.615 | 18.52 | 1 | 1 | 4 | 2 |\n",
       "\n"
      ],
      "text/plain": [
       "  X           mpg  cyl disp  hp drat wt    qsec  vs am gear carb\n",
       "1 Datsun 710  22.8 4   108.0 93 3.85 2.320 18.61 1  1  4    1   \n",
       "2 Merc 240D   24.4 4   146.7 62 3.69 3.190 20.00 1  0  4    2   \n",
       "3 Merc 230    22.8 4   140.8 95 3.92 3.150 22.90 1  0  4    2   \n",
       "4 Fiat 128    32.4 4    78.7 66 4.08 2.200 19.47 1  1  4    1   \n",
       "5 Honda Civic 30.4 4    75.7 52 4.93 1.615 18.52 1  1  4    2   "
      ]
     },
     "metadata": {},
     "output_type": "display_data"
    }
   ],
   "source": [
    "dp_df %>% \n",
    "filter(mpg>22 & mpg<35) %>% head(2)"
   ]
  },
  {
   "cell_type": "markdown",
   "metadata": {},
   "source": [
    "### 2.3.3 Filter by gear not equal to 4"
   ]
  },
  {
   "cell_type": "code",
   "execution_count": 20,
   "metadata": {},
   "outputs": [
    {
     "data": {
      "text/html": [
       "<table>\n",
       "<caption>A tibble: 2 × 12</caption>\n",
       "<thead>\n",
       "\t<tr><th scope=col>X</th><th scope=col>mpg</th><th scope=col>cyl</th><th scope=col>disp</th><th scope=col>hp</th><th scope=col>drat</th><th scope=col>wt</th><th scope=col>qsec</th><th scope=col>vs</th><th scope=col>am</th><th scope=col>gear</th><th scope=col>carb</th></tr>\n",
       "\t<tr><th scope=col>&lt;fct&gt;</th><th scope=col>&lt;dbl&gt;</th><th scope=col>&lt;int&gt;</th><th scope=col>&lt;dbl&gt;</th><th scope=col>&lt;int&gt;</th><th scope=col>&lt;dbl&gt;</th><th scope=col>&lt;dbl&gt;</th><th scope=col>&lt;dbl&gt;</th><th scope=col>&lt;int&gt;</th><th scope=col>&lt;int&gt;</th><th scope=col>&lt;int&gt;</th><th scope=col>&lt;int&gt;</th></tr>\n",
       "</thead>\n",
       "<tbody>\n",
       "\t<tr><td>Hornet 4 Drive   </td><td>21.4</td><td>6</td><td>258</td><td>110</td><td>3.08</td><td>3.215</td><td>19.44</td><td>1</td><td>0</td><td>3</td><td>1</td></tr>\n",
       "\t<tr><td>Hornet Sportabout</td><td>18.7</td><td>8</td><td>360</td><td>175</td><td>3.15</td><td>3.440</td><td>17.02</td><td>0</td><td>0</td><td>3</td><td>2</td></tr>\n",
       "</tbody>\n",
       "</table>\n"
      ],
      "text/latex": [
       "A tibble: 2 × 12\n",
       "\\begin{tabular}{llllllllllll}\n",
       " X & mpg & cyl & disp & hp & drat & wt & qsec & vs & am & gear & carb\\\\\n",
       " <fct> & <dbl> & <int> & <dbl> & <int> & <dbl> & <dbl> & <dbl> & <int> & <int> & <int> & <int>\\\\\n",
       "\\hline\n",
       "\t Hornet 4 Drive    & 21.4 & 6 & 258 & 110 & 3.08 & 3.215 & 19.44 & 1 & 0 & 3 & 1\\\\\n",
       "\t Hornet Sportabout & 18.7 & 8 & 360 & 175 & 3.15 & 3.440 & 17.02 & 0 & 0 & 3 & 2\\\\\n",
       "\\end{tabular}\n"
      ],
      "text/markdown": [
       "\n",
       "A tibble: 2 × 12\n",
       "\n",
       "| X &lt;fct&gt; | mpg &lt;dbl&gt; | cyl &lt;int&gt; | disp &lt;dbl&gt; | hp &lt;int&gt; | drat &lt;dbl&gt; | wt &lt;dbl&gt; | qsec &lt;dbl&gt; | vs &lt;int&gt; | am &lt;int&gt; | gear &lt;int&gt; | carb &lt;int&gt; |\n",
       "|---|---|---|---|---|---|---|---|---|---|---|---|\n",
       "| Hornet 4 Drive    | 21.4 | 6 | 258 | 110 | 3.08 | 3.215 | 19.44 | 1 | 0 | 3 | 1 |\n",
       "| Hornet Sportabout | 18.7 | 8 | 360 | 175 | 3.15 | 3.440 | 17.02 | 0 | 0 | 3 | 2 |\n",
       "\n"
      ],
      "text/plain": [
       "  X                 mpg  cyl disp hp  drat wt    qsec  vs am gear carb\n",
       "1 Hornet 4 Drive    21.4 6   258  110 3.08 3.215 19.44 1  0  3    1   \n",
       "2 Hornet Sportabout 18.7 8   360  175 3.15 3.440 17.02 0  0  3    2   "
      ]
     },
     "metadata": {},
     "output_type": "display_data"
    }
   ],
   "source": [
    "dp_df %>% \n",
    "filter(gear!=4)%>% head(2)"
   ]
  },
  {
   "cell_type": "markdown",
   "metadata": {},
   "source": [
    "### 2.3.4 QUESTION: Filter by vs=1"
   ]
  },
  {
   "cell_type": "code",
   "execution_count": null,
   "metadata": {},
   "outputs": [],
   "source": []
  },
  {
   "cell_type": "markdown",
   "metadata": {},
   "source": [
    "### 2.3.5 Filter by Mazda \n",
    "-grepl function"
   ]
  },
  {
   "cell_type": "code",
   "execution_count": 21,
   "metadata": {},
   "outputs": [
    {
     "data": {
      "text/html": [
       "<table>\n",
       "<caption>A tibble: 2 × 12</caption>\n",
       "<thead>\n",
       "\t<tr><th scope=col>X</th><th scope=col>mpg</th><th scope=col>cyl</th><th scope=col>disp</th><th scope=col>hp</th><th scope=col>drat</th><th scope=col>wt</th><th scope=col>qsec</th><th scope=col>vs</th><th scope=col>am</th><th scope=col>gear</th><th scope=col>carb</th></tr>\n",
       "\t<tr><th scope=col>&lt;fct&gt;</th><th scope=col>&lt;dbl&gt;</th><th scope=col>&lt;int&gt;</th><th scope=col>&lt;dbl&gt;</th><th scope=col>&lt;int&gt;</th><th scope=col>&lt;dbl&gt;</th><th scope=col>&lt;dbl&gt;</th><th scope=col>&lt;dbl&gt;</th><th scope=col>&lt;int&gt;</th><th scope=col>&lt;int&gt;</th><th scope=col>&lt;int&gt;</th><th scope=col>&lt;int&gt;</th></tr>\n",
       "</thead>\n",
       "<tbody>\n",
       "\t<tr><td>Mazda RX4    </td><td>21</td><td>6</td><td>160</td><td>110</td><td>3.9</td><td>2.620</td><td>16.46</td><td>0</td><td>1</td><td>4</td><td>4</td></tr>\n",
       "\t<tr><td>Mazda RX4 Wag</td><td>21</td><td>6</td><td>160</td><td>110</td><td>3.9</td><td>2.875</td><td>17.02</td><td>0</td><td>1</td><td>4</td><td>4</td></tr>\n",
       "</tbody>\n",
       "</table>\n"
      ],
      "text/latex": [
       "A tibble: 2 × 12\n",
       "\\begin{tabular}{llllllllllll}\n",
       " X & mpg & cyl & disp & hp & drat & wt & qsec & vs & am & gear & carb\\\\\n",
       " <fct> & <dbl> & <int> & <dbl> & <int> & <dbl> & <dbl> & <dbl> & <int> & <int> & <int> & <int>\\\\\n",
       "\\hline\n",
       "\t Mazda RX4     & 21 & 6 & 160 & 110 & 3.9 & 2.620 & 16.46 & 0 & 1 & 4 & 4\\\\\n",
       "\t Mazda RX4 Wag & 21 & 6 & 160 & 110 & 3.9 & 2.875 & 17.02 & 0 & 1 & 4 & 4\\\\\n",
       "\\end{tabular}\n"
      ],
      "text/markdown": [
       "\n",
       "A tibble: 2 × 12\n",
       "\n",
       "| X &lt;fct&gt; | mpg &lt;dbl&gt; | cyl &lt;int&gt; | disp &lt;dbl&gt; | hp &lt;int&gt; | drat &lt;dbl&gt; | wt &lt;dbl&gt; | qsec &lt;dbl&gt; | vs &lt;int&gt; | am &lt;int&gt; | gear &lt;int&gt; | carb &lt;int&gt; |\n",
       "|---|---|---|---|---|---|---|---|---|---|---|---|\n",
       "| Mazda RX4     | 21 | 6 | 160 | 110 | 3.9 | 2.620 | 16.46 | 0 | 1 | 4 | 4 |\n",
       "| Mazda RX4 Wag | 21 | 6 | 160 | 110 | 3.9 | 2.875 | 17.02 | 0 | 1 | 4 | 4 |\n",
       "\n"
      ],
      "text/plain": [
       "  X             mpg cyl disp hp  drat wt    qsec  vs am gear carb\n",
       "1 Mazda RX4     21  6   160  110 3.9  2.620 16.46 0  1  4    4   \n",
       "2 Mazda RX4 Wag 21  6   160  110 3.9  2.875 17.02 0  1  4    4   "
      ]
     },
     "metadata": {},
     "output_type": "display_data"
    }
   ],
   "source": [
    "dp_df %>% filter(grepl(\"Maz\",X))"
   ]
  },
  {
   "cell_type": "markdown",
   "metadata": {},
   "source": [
    "## 2.4 Arrange"
   ]
  },
  {
   "cell_type": "markdown",
   "metadata": {},
   "source": [
    "### 2.4.1 Arrange by column (Ascending)"
   ]
  },
  {
   "cell_type": "code",
   "execution_count": 22,
   "metadata": {},
   "outputs": [
    {
     "data": {
      "text/html": [
       "<table>\n",
       "<caption>A tibble: 3 × 12</caption>\n",
       "<thead>\n",
       "\t<tr><th scope=col>X</th><th scope=col>mpg</th><th scope=col>cyl</th><th scope=col>disp</th><th scope=col>hp</th><th scope=col>drat</th><th scope=col>wt</th><th scope=col>qsec</th><th scope=col>vs</th><th scope=col>am</th><th scope=col>gear</th><th scope=col>carb</th></tr>\n",
       "\t<tr><th scope=col>&lt;fct&gt;</th><th scope=col>&lt;dbl&gt;</th><th scope=col>&lt;int&gt;</th><th scope=col>&lt;dbl&gt;</th><th scope=col>&lt;int&gt;</th><th scope=col>&lt;dbl&gt;</th><th scope=col>&lt;dbl&gt;</th><th scope=col>&lt;dbl&gt;</th><th scope=col>&lt;int&gt;</th><th scope=col>&lt;int&gt;</th><th scope=col>&lt;int&gt;</th><th scope=col>&lt;int&gt;</th></tr>\n",
       "</thead>\n",
       "<tbody>\n",
       "\t<tr><td>Cadillac Fleetwood </td><td>10.4</td><td>8</td><td>472</td><td>205</td><td>2.93</td><td>5.250</td><td>17.98</td><td>0</td><td>0</td><td>3</td><td>4</td></tr>\n",
       "\t<tr><td>Lincoln Continental</td><td>10.4</td><td>8</td><td>460</td><td>215</td><td>3.00</td><td>5.424</td><td>17.82</td><td>0</td><td>0</td><td>3</td><td>4</td></tr>\n",
       "\t<tr><td>Camaro Z28         </td><td>13.3</td><td>8</td><td>350</td><td>245</td><td>3.73</td><td>3.840</td><td>15.41</td><td>0</td><td>0</td><td>3</td><td>4</td></tr>\n",
       "</tbody>\n",
       "</table>\n"
      ],
      "text/latex": [
       "A tibble: 3 × 12\n",
       "\\begin{tabular}{llllllllllll}\n",
       " X & mpg & cyl & disp & hp & drat & wt & qsec & vs & am & gear & carb\\\\\n",
       " <fct> & <dbl> & <int> & <dbl> & <int> & <dbl> & <dbl> & <dbl> & <int> & <int> & <int> & <int>\\\\\n",
       "\\hline\n",
       "\t Cadillac Fleetwood  & 10.4 & 8 & 472 & 205 & 2.93 & 5.250 & 17.98 & 0 & 0 & 3 & 4\\\\\n",
       "\t Lincoln Continental & 10.4 & 8 & 460 & 215 & 3.00 & 5.424 & 17.82 & 0 & 0 & 3 & 4\\\\\n",
       "\t Camaro Z28          & 13.3 & 8 & 350 & 245 & 3.73 & 3.840 & 15.41 & 0 & 0 & 3 & 4\\\\\n",
       "\\end{tabular}\n"
      ],
      "text/markdown": [
       "\n",
       "A tibble: 3 × 12\n",
       "\n",
       "| X &lt;fct&gt; | mpg &lt;dbl&gt; | cyl &lt;int&gt; | disp &lt;dbl&gt; | hp &lt;int&gt; | drat &lt;dbl&gt; | wt &lt;dbl&gt; | qsec &lt;dbl&gt; | vs &lt;int&gt; | am &lt;int&gt; | gear &lt;int&gt; | carb &lt;int&gt; |\n",
       "|---|---|---|---|---|---|---|---|---|---|---|---|\n",
       "| Cadillac Fleetwood  | 10.4 | 8 | 472 | 205 | 2.93 | 5.250 | 17.98 | 0 | 0 | 3 | 4 |\n",
       "| Lincoln Continental | 10.4 | 8 | 460 | 215 | 3.00 | 5.424 | 17.82 | 0 | 0 | 3 | 4 |\n",
       "| Camaro Z28          | 13.3 | 8 | 350 | 245 | 3.73 | 3.840 | 15.41 | 0 | 0 | 3 | 4 |\n",
       "\n"
      ],
      "text/plain": [
       "  X                   mpg  cyl disp hp  drat wt    qsec  vs am gear carb\n",
       "1 Cadillac Fleetwood  10.4 8   472  205 2.93 5.250 17.98 0  0  3    4   \n",
       "2 Lincoln Continental 10.4 8   460  215 3.00 5.424 17.82 0  0  3    4   \n",
       "3 Camaro Z28          13.3 8   350  245 3.73 3.840 15.41 0  0  3    4   "
      ]
     },
     "metadata": {},
     "output_type": "display_data"
    }
   ],
   "source": [
    "dp_df %>% \n",
    "arrange(mpg)%>% \n",
    "head(3)"
   ]
  },
  {
   "cell_type": "markdown",
   "metadata": {},
   "source": [
    "### 2.4.2 Arrange  (Descending)"
   ]
  },
  {
   "cell_type": "code",
   "execution_count": 23,
   "metadata": {},
   "outputs": [
    {
     "data": {
      "text/html": [
       "<table>\n",
       "<caption>A tibble: 3 × 12</caption>\n",
       "<thead>\n",
       "\t<tr><th scope=col>X</th><th scope=col>mpg</th><th scope=col>cyl</th><th scope=col>disp</th><th scope=col>hp</th><th scope=col>drat</th><th scope=col>wt</th><th scope=col>qsec</th><th scope=col>vs</th><th scope=col>am</th><th scope=col>gear</th><th scope=col>carb</th></tr>\n",
       "\t<tr><th scope=col>&lt;fct&gt;</th><th scope=col>&lt;dbl&gt;</th><th scope=col>&lt;int&gt;</th><th scope=col>&lt;dbl&gt;</th><th scope=col>&lt;int&gt;</th><th scope=col>&lt;dbl&gt;</th><th scope=col>&lt;dbl&gt;</th><th scope=col>&lt;dbl&gt;</th><th scope=col>&lt;int&gt;</th><th scope=col>&lt;int&gt;</th><th scope=col>&lt;int&gt;</th><th scope=col>&lt;int&gt;</th></tr>\n",
       "</thead>\n",
       "<tbody>\n",
       "\t<tr><td>Toyota Corolla</td><td>33.9</td><td>4</td><td>71.1</td><td>65</td><td>4.22</td><td>1.835</td><td>19.90</td><td>1</td><td>1</td><td>4</td><td>1</td></tr>\n",
       "\t<tr><td>Fiat 128      </td><td>32.4</td><td>4</td><td>78.7</td><td>66</td><td>4.08</td><td>2.200</td><td>19.47</td><td>1</td><td>1</td><td>4</td><td>1</td></tr>\n",
       "\t<tr><td>Honda Civic   </td><td>30.4</td><td>4</td><td>75.7</td><td>52</td><td>4.93</td><td>1.615</td><td>18.52</td><td>1</td><td>1</td><td>4</td><td>2</td></tr>\n",
       "</tbody>\n",
       "</table>\n"
      ],
      "text/latex": [
       "A tibble: 3 × 12\n",
       "\\begin{tabular}{llllllllllll}\n",
       " X & mpg & cyl & disp & hp & drat & wt & qsec & vs & am & gear & carb\\\\\n",
       " <fct> & <dbl> & <int> & <dbl> & <int> & <dbl> & <dbl> & <dbl> & <int> & <int> & <int> & <int>\\\\\n",
       "\\hline\n",
       "\t Toyota Corolla & 33.9 & 4 & 71.1 & 65 & 4.22 & 1.835 & 19.90 & 1 & 1 & 4 & 1\\\\\n",
       "\t Fiat 128       & 32.4 & 4 & 78.7 & 66 & 4.08 & 2.200 & 19.47 & 1 & 1 & 4 & 1\\\\\n",
       "\t Honda Civic    & 30.4 & 4 & 75.7 & 52 & 4.93 & 1.615 & 18.52 & 1 & 1 & 4 & 2\\\\\n",
       "\\end{tabular}\n"
      ],
      "text/markdown": [
       "\n",
       "A tibble: 3 × 12\n",
       "\n",
       "| X &lt;fct&gt; | mpg &lt;dbl&gt; | cyl &lt;int&gt; | disp &lt;dbl&gt; | hp &lt;int&gt; | drat &lt;dbl&gt; | wt &lt;dbl&gt; | qsec &lt;dbl&gt; | vs &lt;int&gt; | am &lt;int&gt; | gear &lt;int&gt; | carb &lt;int&gt; |\n",
       "|---|---|---|---|---|---|---|---|---|---|---|---|\n",
       "| Toyota Corolla | 33.9 | 4 | 71.1 | 65 | 4.22 | 1.835 | 19.90 | 1 | 1 | 4 | 1 |\n",
       "| Fiat 128       | 32.4 | 4 | 78.7 | 66 | 4.08 | 2.200 | 19.47 | 1 | 1 | 4 | 1 |\n",
       "| Honda Civic    | 30.4 | 4 | 75.7 | 52 | 4.93 | 1.615 | 18.52 | 1 | 1 | 4 | 2 |\n",
       "\n"
      ],
      "text/plain": [
       "  X              mpg  cyl disp hp drat wt    qsec  vs am gear carb\n",
       "1 Toyota Corolla 33.9 4   71.1 65 4.22 1.835 19.90 1  1  4    1   \n",
       "2 Fiat 128       32.4 4   78.7 66 4.08 2.200 19.47 1  1  4    1   \n",
       "3 Honda Civic    30.4 4   75.7 52 4.93 1.615 18.52 1  1  4    2   "
      ]
     },
     "metadata": {},
     "output_type": "display_data"
    }
   ],
   "source": [
    "dp_df %>% \n",
    "arrange(desc(mpg))%>% \n",
    "head(3)"
   ]
  },
  {
   "cell_type": "markdown",
   "metadata": {},
   "source": [
    "## 2.5 Mutate (Create new column)"
   ]
  },
  {
   "cell_type": "markdown",
   "metadata": {},
   "source": [
    "### 2.5.1 Mutate"
   ]
  },
  {
   "cell_type": "code",
   "execution_count": 24,
   "metadata": {},
   "outputs": [
    {
     "data": {
      "text/html": [
       "<table>\n",
       "<caption>A tibble: 2 × 13</caption>\n",
       "<thead>\n",
       "\t<tr><th scope=col>X</th><th scope=col>mpg</th><th scope=col>cyl</th><th scope=col>disp</th><th scope=col>hp</th><th scope=col>drat</th><th scope=col>wt</th><th scope=col>qsec</th><th scope=col>vs</th><th scope=col>am</th><th scope=col>gear</th><th scope=col>carb</th><th scope=col>mpg_10</th></tr>\n",
       "\t<tr><th scope=col>&lt;fct&gt;</th><th scope=col>&lt;dbl&gt;</th><th scope=col>&lt;int&gt;</th><th scope=col>&lt;dbl&gt;</th><th scope=col>&lt;int&gt;</th><th scope=col>&lt;dbl&gt;</th><th scope=col>&lt;dbl&gt;</th><th scope=col>&lt;dbl&gt;</th><th scope=col>&lt;int&gt;</th><th scope=col>&lt;int&gt;</th><th scope=col>&lt;int&gt;</th><th scope=col>&lt;int&gt;</th><th scope=col>&lt;dbl&gt;</th></tr>\n",
       "</thead>\n",
       "<tbody>\n",
       "\t<tr><td>Mazda RX4    </td><td>21</td><td>6</td><td>160</td><td>110</td><td>3.9</td><td>2.620</td><td>16.46</td><td>0</td><td>1</td><td>4</td><td>4</td><td>2.1</td></tr>\n",
       "\t<tr><td>Mazda RX4 Wag</td><td>21</td><td>6</td><td>160</td><td>110</td><td>3.9</td><td>2.875</td><td>17.02</td><td>0</td><td>1</td><td>4</td><td>4</td><td>2.1</td></tr>\n",
       "</tbody>\n",
       "</table>\n"
      ],
      "text/latex": [
       "A tibble: 2 × 13\n",
       "\\begin{tabular}{lllllllllllll}\n",
       " X & mpg & cyl & disp & hp & drat & wt & qsec & vs & am & gear & carb & mpg\\_10\\\\\n",
       " <fct> & <dbl> & <int> & <dbl> & <int> & <dbl> & <dbl> & <dbl> & <int> & <int> & <int> & <int> & <dbl>\\\\\n",
       "\\hline\n",
       "\t Mazda RX4     & 21 & 6 & 160 & 110 & 3.9 & 2.620 & 16.46 & 0 & 1 & 4 & 4 & 2.1\\\\\n",
       "\t Mazda RX4 Wag & 21 & 6 & 160 & 110 & 3.9 & 2.875 & 17.02 & 0 & 1 & 4 & 4 & 2.1\\\\\n",
       "\\end{tabular}\n"
      ],
      "text/markdown": [
       "\n",
       "A tibble: 2 × 13\n",
       "\n",
       "| X &lt;fct&gt; | mpg &lt;dbl&gt; | cyl &lt;int&gt; | disp &lt;dbl&gt; | hp &lt;int&gt; | drat &lt;dbl&gt; | wt &lt;dbl&gt; | qsec &lt;dbl&gt; | vs &lt;int&gt; | am &lt;int&gt; | gear &lt;int&gt; | carb &lt;int&gt; | mpg_10 &lt;dbl&gt; |\n",
       "|---|---|---|---|---|---|---|---|---|---|---|---|---|\n",
       "| Mazda RX4     | 21 | 6 | 160 | 110 | 3.9 | 2.620 | 16.46 | 0 | 1 | 4 | 4 | 2.1 |\n",
       "| Mazda RX4 Wag | 21 | 6 | 160 | 110 | 3.9 | 2.875 | 17.02 | 0 | 1 | 4 | 4 | 2.1 |\n",
       "\n"
      ],
      "text/plain": [
       "  X             mpg cyl disp hp  drat wt    qsec  vs am gear carb mpg_10\n",
       "1 Mazda RX4     21  6   160  110 3.9  2.620 16.46 0  1  4    4    2.1   \n",
       "2 Mazda RX4 Wag 21  6   160  110 3.9  2.875 17.02 0  1  4    4    2.1   "
      ]
     },
     "metadata": {},
     "output_type": "display_data"
    }
   ],
   "source": [
    "dp_df %>% \n",
    "mutate(mpg_10 = mpg/10) %>% head(2)"
   ]
  },
  {
   "cell_type": "markdown",
   "metadata": {},
   "source": [
    "#### 2.5.1.1 Mutate: Various functions\n",
    "1. Cumulative sum: cumsum(X)\n",
    "2. Lag: lag(X)\n",
    "3. percent_rank(X)"
   ]
  },
  {
   "cell_type": "code",
   "execution_count": 25,
   "metadata": {},
   "outputs": [
    {
     "data": {
      "text/html": [
       "<table>\n",
       "<caption>A tibble: 2 × 15</caption>\n",
       "<thead>\n",
       "\t<tr><th scope=col>X</th><th scope=col>mpg</th><th scope=col>cyl</th><th scope=col>disp</th><th scope=col>hp</th><th scope=col>drat</th><th scope=col>wt</th><th scope=col>qsec</th><th scope=col>vs</th><th scope=col>am</th><th scope=col>gear</th><th scope=col>carb</th><th scope=col>cumulative_wt</th><th scope=col>lag_wt</th><th scope=col>Percent_wt</th></tr>\n",
       "\t<tr><th scope=col>&lt;fct&gt;</th><th scope=col>&lt;dbl&gt;</th><th scope=col>&lt;int&gt;</th><th scope=col>&lt;dbl&gt;</th><th scope=col>&lt;int&gt;</th><th scope=col>&lt;dbl&gt;</th><th scope=col>&lt;dbl&gt;</th><th scope=col>&lt;dbl&gt;</th><th scope=col>&lt;int&gt;</th><th scope=col>&lt;int&gt;</th><th scope=col>&lt;int&gt;</th><th scope=col>&lt;int&gt;</th><th scope=col>&lt;dbl&gt;</th><th scope=col>&lt;dbl&gt;</th><th scope=col>&lt;dbl&gt;</th></tr>\n",
       "</thead>\n",
       "<tbody>\n",
       "\t<tr><td>Mazda RX4    </td><td>21</td><td>6</td><td>160</td><td>110</td><td>3.9</td><td>2.620</td><td>16.46</td><td>0</td><td>1</td><td>4</td><td>4</td><td>2.620</td><td>  NA</td><td>0.2580645</td></tr>\n",
       "\t<tr><td>Mazda RX4 Wag</td><td>21</td><td>6</td><td>160</td><td>110</td><td>3.9</td><td>2.875</td><td>17.02</td><td>0</td><td>1</td><td>4</td><td>4</td><td>5.495</td><td>2.62</td><td>0.3548387</td></tr>\n",
       "</tbody>\n",
       "</table>\n"
      ],
      "text/latex": [
       "A tibble: 2 × 15\n",
       "\\begin{tabular}{lllllllllllllll}\n",
       " X & mpg & cyl & disp & hp & drat & wt & qsec & vs & am & gear & carb & cumulative\\_wt & lag\\_wt & Percent\\_wt\\\\\n",
       " <fct> & <dbl> & <int> & <dbl> & <int> & <dbl> & <dbl> & <dbl> & <int> & <int> & <int> & <int> & <dbl> & <dbl> & <dbl>\\\\\n",
       "\\hline\n",
       "\t Mazda RX4     & 21 & 6 & 160 & 110 & 3.9 & 2.620 & 16.46 & 0 & 1 & 4 & 4 & 2.620 &   NA & 0.2580645\\\\\n",
       "\t Mazda RX4 Wag & 21 & 6 & 160 & 110 & 3.9 & 2.875 & 17.02 & 0 & 1 & 4 & 4 & 5.495 & 2.62 & 0.3548387\\\\\n",
       "\\end{tabular}\n"
      ],
      "text/markdown": [
       "\n",
       "A tibble: 2 × 15\n",
       "\n",
       "| X &lt;fct&gt; | mpg &lt;dbl&gt; | cyl &lt;int&gt; | disp &lt;dbl&gt; | hp &lt;int&gt; | drat &lt;dbl&gt; | wt &lt;dbl&gt; | qsec &lt;dbl&gt; | vs &lt;int&gt; | am &lt;int&gt; | gear &lt;int&gt; | carb &lt;int&gt; | cumulative_wt &lt;dbl&gt; | lag_wt &lt;dbl&gt; | Percent_wt &lt;dbl&gt; |\n",
       "|---|---|---|---|---|---|---|---|---|---|---|---|---|---|---|\n",
       "| Mazda RX4     | 21 | 6 | 160 | 110 | 3.9 | 2.620 | 16.46 | 0 | 1 | 4 | 4 | 2.620 |   NA | 0.2580645 |\n",
       "| Mazda RX4 Wag | 21 | 6 | 160 | 110 | 3.9 | 2.875 | 17.02 | 0 | 1 | 4 | 4 | 5.495 | 2.62 | 0.3548387 |\n",
       "\n"
      ],
      "text/plain": [
       "  X             mpg cyl disp hp  drat wt    qsec  vs am gear carb cumulative_wt\n",
       "1 Mazda RX4     21  6   160  110 3.9  2.620 16.46 0  1  4    4    2.620        \n",
       "2 Mazda RX4 Wag 21  6   160  110 3.9  2.875 17.02 0  1  4    4    5.495        \n",
       "  lag_wt Percent_wt\n",
       "1   NA   0.2580645 \n",
       "2 2.62   0.3548387 "
      ]
     },
     "metadata": {},
     "output_type": "display_data"
    }
   ],
   "source": [
    "dp_df %>% \n",
    "mutate(cumulative_wt = cumsum(wt), #cumulative\n",
    "       lag_wt = lag(wt), #Opposite function: lead()\n",
    "       Percent_wt = percent_rank(wt)\n",
    "      ) %>% head(2)"
   ]
  },
  {
   "cell_type": "markdown",
   "metadata": {},
   "source": [
    "### 2.5.2 Transmute\n",
    "- Same as mutate expect it drops other columns"
   ]
  },
  {
   "cell_type": "code",
   "execution_count": 26,
   "metadata": {},
   "outputs": [
    {
     "data": {
      "text/html": [
       "<table>\n",
       "<caption>A tibble: 2 × 1</caption>\n",
       "<thead>\n",
       "\t<tr><th scope=col>mpg_10</th></tr>\n",
       "\t<tr><th scope=col>&lt;dbl&gt;</th></tr>\n",
       "</thead>\n",
       "<tbody>\n",
       "\t<tr><td>2.1</td></tr>\n",
       "\t<tr><td>2.1</td></tr>\n",
       "</tbody>\n",
       "</table>\n"
      ],
      "text/latex": [
       "A tibble: 2 × 1\n",
       "\\begin{tabular}{l}\n",
       " mpg\\_10\\\\\n",
       " <dbl>\\\\\n",
       "\\hline\n",
       "\t 2.1\\\\\n",
       "\t 2.1\\\\\n",
       "\\end{tabular}\n"
      ],
      "text/markdown": [
       "\n",
       "A tibble: 2 × 1\n",
       "\n",
       "| mpg_10 &lt;dbl&gt; |\n",
       "|---|\n",
       "| 2.1 |\n",
       "| 2.1 |\n",
       "\n"
      ],
      "text/plain": [
       "  mpg_10\n",
       "1 2.1   \n",
       "2 2.1   "
      ]
     },
     "metadata": {},
     "output_type": "display_data"
    }
   ],
   "source": [
    "dp_df %>% \n",
    "transmute(mpg_10 = mpg/10)%>% head(2)"
   ]
  },
  {
   "cell_type": "markdown",
   "metadata": {},
   "source": [
    "### 2.5.3 Mutate_all\n",
    "\n",
    "- Mutate all selected columns by certain function\n",
    "- This example shows log\n",
    "    - funs(log(.))"
   ]
  },
  {
   "cell_type": "code",
   "execution_count": 27,
   "metadata": {},
   "outputs": [
    {
     "name": "stderr",
     "output_type": "stream",
     "text": [
      "Warning message:\n",
      "“funs() is soft deprecated as of dplyr 0.8.0\n",
      "Please use a list of either functions or lambdas: \n",
      "\n",
      "  # Simple named list: \n",
      "  list(mean = mean, median = median)\n",
      "\n",
      "  # Auto named with `tibble::lst()`: \n",
      "  tibble::lst(mean, median)\n",
      "\n",
      "  # Using lambdas\n",
      "  list(~ mean(., trim = .2), ~ median(., na.rm = TRUE))\n",
      "\u001b[90mThis warning is displayed once per session.\u001b[39m”"
     ]
    },
    {
     "data": {
      "text/html": [
       "<table>\n",
       "<caption>A tibble: 3 × 4</caption>\n",
       "<thead>\n",
       "\t<tr><th scope=col>mpg</th><th scope=col>cyl</th><th scope=col>disp</th><th scope=col>hp</th></tr>\n",
       "\t<tr><th scope=col>&lt;dbl&gt;</th><th scope=col>&lt;dbl&gt;</th><th scope=col>&lt;dbl&gt;</th><th scope=col>&lt;dbl&gt;</th></tr>\n",
       "</thead>\n",
       "<tbody>\n",
       "\t<tr><td>3.044522</td><td>1.791759</td><td>5.075174</td><td>4.700480</td></tr>\n",
       "\t<tr><td>3.044522</td><td>1.791759</td><td>5.075174</td><td>4.700480</td></tr>\n",
       "\t<tr><td>3.126761</td><td>1.386294</td><td>4.682131</td><td>4.532599</td></tr>\n",
       "</tbody>\n",
       "</table>\n"
      ],
      "text/latex": [
       "A tibble: 3 × 4\n",
       "\\begin{tabular}{llll}\n",
       " mpg & cyl & disp & hp\\\\\n",
       " <dbl> & <dbl> & <dbl> & <dbl>\\\\\n",
       "\\hline\n",
       "\t 3.044522 & 1.791759 & 5.075174 & 4.700480\\\\\n",
       "\t 3.044522 & 1.791759 & 5.075174 & 4.700480\\\\\n",
       "\t 3.126761 & 1.386294 & 4.682131 & 4.532599\\\\\n",
       "\\end{tabular}\n"
      ],
      "text/markdown": [
       "\n",
       "A tibble: 3 × 4\n",
       "\n",
       "| mpg &lt;dbl&gt; | cyl &lt;dbl&gt; | disp &lt;dbl&gt; | hp &lt;dbl&gt; |\n",
       "|---|---|---|---|\n",
       "| 3.044522 | 1.791759 | 5.075174 | 4.700480 |\n",
       "| 3.044522 | 1.791759 | 5.075174 | 4.700480 |\n",
       "| 3.126761 | 1.386294 | 4.682131 | 4.532599 |\n",
       "\n"
      ],
      "text/plain": [
       "  mpg      cyl      disp     hp      \n",
       "1 3.044522 1.791759 5.075174 4.700480\n",
       "2 3.044522 1.791759 5.075174 4.700480\n",
       "3 3.126761 1.386294 4.682131 4.532599"
      ]
     },
     "metadata": {},
     "output_type": "display_data"
    }
   ],
   "source": [
    "dp_df[, 2:5]%>% \n",
    "mutate_all(funs(log(.)))%>%\n",
    "head(3)"
   ]
  },
  {
   "cell_type": "markdown",
   "metadata": {},
   "source": [
    "### 2.5.4 Mutate_at\n",
    "\n",
    "Mutates only at specified columns"
   ]
  },
  {
   "cell_type": "code",
   "execution_count": 28,
   "metadata": {},
   "outputs": [
    {
     "data": {
      "text/html": [
       "<table>\n",
       "<caption>A tibble: 2 × 12</caption>\n",
       "<thead>\n",
       "\t<tr><th scope=col>X</th><th scope=col>mpg</th><th scope=col>cyl</th><th scope=col>disp</th><th scope=col>hp</th><th scope=col>drat</th><th scope=col>wt</th><th scope=col>qsec</th><th scope=col>vs</th><th scope=col>am</th><th scope=col>gear</th><th scope=col>carb</th></tr>\n",
       "\t<tr><th scope=col>&lt;fct&gt;</th><th scope=col>&lt;dbl&gt;</th><th scope=col>&lt;int&gt;</th><th scope=col>&lt;dbl&gt;</th><th scope=col>&lt;dbl&gt;</th><th scope=col>&lt;dbl&gt;</th><th scope=col>&lt;dbl&gt;</th><th scope=col>&lt;dbl&gt;</th><th scope=col>&lt;int&gt;</th><th scope=col>&lt;int&gt;</th><th scope=col>&lt;int&gt;</th><th scope=col>&lt;int&gt;</th></tr>\n",
       "</thead>\n",
       "<tbody>\n",
       "\t<tr><td>Mazda RX4    </td><td>3.044522</td><td>6</td><td>5.075174</td><td>4.70048</td><td>3.9</td><td>2.620</td><td>16.46</td><td>0</td><td>1</td><td>4</td><td>4</td></tr>\n",
       "\t<tr><td>Mazda RX4 Wag</td><td>3.044522</td><td>6</td><td>5.075174</td><td>4.70048</td><td>3.9</td><td>2.875</td><td>17.02</td><td>0</td><td>1</td><td>4</td><td>4</td></tr>\n",
       "</tbody>\n",
       "</table>\n"
      ],
      "text/latex": [
       "A tibble: 2 × 12\n",
       "\\begin{tabular}{llllllllllll}\n",
       " X & mpg & cyl & disp & hp & drat & wt & qsec & vs & am & gear & carb\\\\\n",
       " <fct> & <dbl> & <int> & <dbl> & <dbl> & <dbl> & <dbl> & <dbl> & <int> & <int> & <int> & <int>\\\\\n",
       "\\hline\n",
       "\t Mazda RX4     & 3.044522 & 6 & 5.075174 & 4.70048 & 3.9 & 2.620 & 16.46 & 0 & 1 & 4 & 4\\\\\n",
       "\t Mazda RX4 Wag & 3.044522 & 6 & 5.075174 & 4.70048 & 3.9 & 2.875 & 17.02 & 0 & 1 & 4 & 4\\\\\n",
       "\\end{tabular}\n"
      ],
      "text/markdown": [
       "\n",
       "A tibble: 2 × 12\n",
       "\n",
       "| X &lt;fct&gt; | mpg &lt;dbl&gt; | cyl &lt;int&gt; | disp &lt;dbl&gt; | hp &lt;dbl&gt; | drat &lt;dbl&gt; | wt &lt;dbl&gt; | qsec &lt;dbl&gt; | vs &lt;int&gt; | am &lt;int&gt; | gear &lt;int&gt; | carb &lt;int&gt; |\n",
       "|---|---|---|---|---|---|---|---|---|---|---|---|\n",
       "| Mazda RX4     | 3.044522 | 6 | 5.075174 | 4.70048 | 3.9 | 2.620 | 16.46 | 0 | 1 | 4 | 4 |\n",
       "| Mazda RX4 Wag | 3.044522 | 6 | 5.075174 | 4.70048 | 3.9 | 2.875 | 17.02 | 0 | 1 | 4 | 4 |\n",
       "\n"
      ],
      "text/plain": [
       "  X             mpg      cyl disp     hp      drat wt    qsec  vs am gear carb\n",
       "1 Mazda RX4     3.044522 6   5.075174 4.70048 3.9  2.620 16.46 0  1  4    4   \n",
       "2 Mazda RX4 Wag 3.044522 6   5.075174 4.70048 3.9  2.875 17.02 0  1  4    4   "
      ]
     },
     "metadata": {},
     "output_type": "display_data"
    }
   ],
   "source": [
    "dp_df%>% \n",
    "mutate_at(vars(mpg, disp, hp), funs(log(.)))%>% \n",
    "head(2)"
   ]
  },
  {
   "cell_type": "markdown",
   "metadata": {},
   "source": [
    "## 2.6 Summarise"
   ]
  },
  {
   "cell_type": "code",
   "execution_count": 29,
   "metadata": {},
   "outputs": [
    {
     "data": {
      "text/html": [
       "<table>\n",
       "<caption>A tibble: 1 × 8</caption>\n",
       "<thead>\n",
       "\t<tr><th scope=col>mean_mpg</th><th scope=col>median_mpg</th><th scope=col>sum_mpg</th><th scope=col>count_mpg</th><th scope=col>first_obs</th><th scope=col>last_obs</th><th scope=col>variance</th><th scope=col>sd</th></tr>\n",
       "\t<tr><th scope=col>&lt;dbl&gt;</th><th scope=col>&lt;dbl&gt;</th><th scope=col>&lt;dbl&gt;</th><th scope=col>&lt;int&gt;</th><th scope=col>&lt;dbl&gt;</th><th scope=col>&lt;dbl&gt;</th><th scope=col>&lt;dbl&gt;</th><th scope=col>&lt;dbl&gt;</th></tr>\n",
       "</thead>\n",
       "<tbody>\n",
       "\t<tr><td>20.09062</td><td>19.2</td><td>642.9</td><td>32</td><td>21</td><td>21.4</td><td>36.3241</td><td>6.026948</td></tr>\n",
       "</tbody>\n",
       "</table>\n"
      ],
      "text/latex": [
       "A tibble: 1 × 8\n",
       "\\begin{tabular}{llllllll}\n",
       " mean\\_mpg & median\\_mpg & sum\\_mpg & count\\_mpg & first\\_obs & last\\_obs & variance & sd\\\\\n",
       " <dbl> & <dbl> & <dbl> & <int> & <dbl> & <dbl> & <dbl> & <dbl>\\\\\n",
       "\\hline\n",
       "\t 20.09062 & 19.2 & 642.9 & 32 & 21 & 21.4 & 36.3241 & 6.026948\\\\\n",
       "\\end{tabular}\n"
      ],
      "text/markdown": [
       "\n",
       "A tibble: 1 × 8\n",
       "\n",
       "| mean_mpg &lt;dbl&gt; | median_mpg &lt;dbl&gt; | sum_mpg &lt;dbl&gt; | count_mpg &lt;int&gt; | first_obs &lt;dbl&gt; | last_obs &lt;dbl&gt; | variance &lt;dbl&gt; | sd &lt;dbl&gt; |\n",
       "|---|---|---|---|---|---|---|---|\n",
       "| 20.09062 | 19.2 | 642.9 | 32 | 21 | 21.4 | 36.3241 | 6.026948 |\n",
       "\n"
      ],
      "text/plain": [
       "  mean_mpg median_mpg sum_mpg count_mpg first_obs last_obs variance sd      \n",
       "1 20.09062 19.2       642.9   32        21        21.4     36.3241  6.026948"
      ]
     },
     "metadata": {},
     "output_type": "display_data"
    }
   ],
   "source": [
    "dp_df %>% \n",
    "summarise(mean_mpg = mean(mpg),\n",
    "        median_mpg = median(mpg),\n",
    "         sum_mpg = sum(mpg),\n",
    "         count_mpg = n(),\n",
    "         first_obs = first(mpg),\n",
    "         last_obs = last(mpg),\n",
    "         variance = var(mpg),\n",
    "         sd = sd(mpg))"
   ]
  },
  {
   "cell_type": "markdown",
   "metadata": {},
   "source": [
    "## 2.7 Groupby with summarise"
   ]
  },
  {
   "cell_type": "code",
   "execution_count": 30,
   "metadata": {},
   "outputs": [
    {
     "data": {
      "text/html": [
       "<table>\n",
       "<caption>A tibble: 3 × 2</caption>\n",
       "<thead>\n",
       "\t<tr><th scope=col>gear</th><th scope=col>mpg_by_gear</th></tr>\n",
       "\t<tr><th scope=col>&lt;int&gt;</th><th scope=col>&lt;dbl&gt;</th></tr>\n",
       "</thead>\n",
       "<tbody>\n",
       "\t<tr><td>3</td><td>16.10667</td></tr>\n",
       "\t<tr><td>4</td><td>24.53333</td></tr>\n",
       "\t<tr><td>5</td><td>21.38000</td></tr>\n",
       "</tbody>\n",
       "</table>\n"
      ],
      "text/latex": [
       "A tibble: 3 × 2\n",
       "\\begin{tabular}{ll}\n",
       " gear & mpg\\_by\\_gear\\\\\n",
       " <int> & <dbl>\\\\\n",
       "\\hline\n",
       "\t 3 & 16.10667\\\\\n",
       "\t 4 & 24.53333\\\\\n",
       "\t 5 & 21.38000\\\\\n",
       "\\end{tabular}\n"
      ],
      "text/markdown": [
       "\n",
       "A tibble: 3 × 2\n",
       "\n",
       "| gear &lt;int&gt; | mpg_by_gear &lt;dbl&gt; |\n",
       "|---|---|\n",
       "| 3 | 16.10667 |\n",
       "| 4 | 24.53333 |\n",
       "| 5 | 21.38000 |\n",
       "\n"
      ],
      "text/plain": [
       "  gear mpg_by_gear\n",
       "1 3    16.10667   \n",
       "2 4    24.53333   \n",
       "3 5    21.38000   "
      ]
     },
     "metadata": {},
     "output_type": "display_data"
    }
   ],
   "source": [
    "dp_df %>% \n",
    "group_by(gear) %>% \n",
    "summarise(mpg_by_gear = mean(mpg))"
   ]
  },
  {
   "cell_type": "markdown",
   "metadata": {},
   "source": [
    "# 3. Other import DPLYR functions"
   ]
  },
  {
   "cell_type": "markdown",
   "metadata": {},
   "source": [
    "## 3.1 Count"
   ]
  },
  {
   "cell_type": "markdown",
   "metadata": {},
   "source": [
    "### 3.1.1 Count number of observations by gear"
   ]
  },
  {
   "cell_type": "code",
   "execution_count": 31,
   "metadata": {},
   "outputs": [
    {
     "data": {
      "text/html": [
       "<table>\n",
       "<caption>A tibble: 3 × 2</caption>\n",
       "<thead>\n",
       "\t<tr><th scope=col>gear</th><th scope=col>n</th></tr>\n",
       "\t<tr><th scope=col>&lt;int&gt;</th><th scope=col>&lt;int&gt;</th></tr>\n",
       "</thead>\n",
       "<tbody>\n",
       "\t<tr><td>3</td><td>15</td></tr>\n",
       "\t<tr><td>4</td><td>12</td></tr>\n",
       "\t<tr><td>5</td><td> 5</td></tr>\n",
       "</tbody>\n",
       "</table>\n"
      ],
      "text/latex": [
       "A tibble: 3 × 2\n",
       "\\begin{tabular}{ll}\n",
       " gear & n\\\\\n",
       " <int> & <int>\\\\\n",
       "\\hline\n",
       "\t 3 & 15\\\\\n",
       "\t 4 & 12\\\\\n",
       "\t 5 &  5\\\\\n",
       "\\end{tabular}\n"
      ],
      "text/markdown": [
       "\n",
       "A tibble: 3 × 2\n",
       "\n",
       "| gear &lt;int&gt; | n &lt;int&gt; |\n",
       "|---|---|\n",
       "| 3 | 15 |\n",
       "| 4 | 12 |\n",
       "| 5 |  5 |\n",
       "\n"
      ],
      "text/plain": [
       "  gear n \n",
       "1 3    15\n",
       "2 4    12\n",
       "3 5     5"
      ]
     },
     "metadata": {},
     "output_type": "display_data"
    }
   ],
   "source": [
    "dp_df %>% \n",
    "count(gear)"
   ]
  },
  {
   "cell_type": "markdown",
   "metadata": {},
   "source": [
    "## 3.2 Distinct"
   ]
  },
  {
   "cell_type": "code",
   "execution_count": 32,
   "metadata": {},
   "outputs": [
    {
     "data": {
      "text/html": [
       "<table>\n",
       "<caption>A tibble: 3 × 1</caption>\n",
       "<thead>\n",
       "\t<tr><th scope=col>X</th></tr>\n",
       "\t<tr><th scope=col>&lt;fct&gt;</th></tr>\n",
       "</thead>\n",
       "<tbody>\n",
       "\t<tr><td>Mazda RX4    </td></tr>\n",
       "\t<tr><td>Mazda RX4 Wag</td></tr>\n",
       "\t<tr><td>Datsun 710   </td></tr>\n",
       "</tbody>\n",
       "</table>\n"
      ],
      "text/latex": [
       "A tibble: 3 × 1\n",
       "\\begin{tabular}{l}\n",
       " X\\\\\n",
       " <fct>\\\\\n",
       "\\hline\n",
       "\t Mazda RX4    \\\\\n",
       "\t Mazda RX4 Wag\\\\\n",
       "\t Datsun 710   \\\\\n",
       "\\end{tabular}\n"
      ],
      "text/markdown": [
       "\n",
       "A tibble: 3 × 1\n",
       "\n",
       "| X &lt;fct&gt; |\n",
       "|---|\n",
       "| Mazda RX4     |\n",
       "| Mazda RX4 Wag |\n",
       "| Datsun 710    |\n",
       "\n"
      ],
      "text/plain": [
       "  X            \n",
       "1 Mazda RX4    \n",
       "2 Mazda RX4 Wag\n",
       "3 Datsun 710   "
      ]
     },
     "metadata": {},
     "output_type": "display_data"
    }
   ],
   "source": [
    "dp_df %>% \n",
    "distinct(X)%>% head(3)"
   ]
  },
  {
   "cell_type": "markdown",
   "metadata": {},
   "source": [
    "## 3.3 Sample data\n",
    "\n",
    "Used for train and test split in ML and NN"
   ]
  },
  {
   "cell_type": "markdown",
   "metadata": {},
   "source": [
    "### 3.3.1 Sample 50% of the data"
   ]
  },
  {
   "cell_type": "code",
   "execution_count": 33,
   "metadata": {},
   "outputs": [
    {
     "data": {
      "text/html": [
       "<table>\n",
       "<caption>A tibble: 3 × 12</caption>\n",
       "<thead>\n",
       "\t<tr><th scope=col>X</th><th scope=col>mpg</th><th scope=col>cyl</th><th scope=col>disp</th><th scope=col>hp</th><th scope=col>drat</th><th scope=col>wt</th><th scope=col>qsec</th><th scope=col>vs</th><th scope=col>am</th><th scope=col>gear</th><th scope=col>carb</th></tr>\n",
       "\t<tr><th scope=col>&lt;fct&gt;</th><th scope=col>&lt;dbl&gt;</th><th scope=col>&lt;int&gt;</th><th scope=col>&lt;dbl&gt;</th><th scope=col>&lt;int&gt;</th><th scope=col>&lt;dbl&gt;</th><th scope=col>&lt;dbl&gt;</th><th scope=col>&lt;dbl&gt;</th><th scope=col>&lt;int&gt;</th><th scope=col>&lt;int&gt;</th><th scope=col>&lt;int&gt;</th><th scope=col>&lt;int&gt;</th></tr>\n",
       "</thead>\n",
       "<tbody>\n",
       "\t<tr><td>Duster 360   </td><td>14.3</td><td>8</td><td>360.0</td><td>245</td><td>3.21</td><td>3.570</td><td>15.84</td><td>0</td><td>0</td><td>3</td><td>4</td></tr>\n",
       "\t<tr><td>Toyota Corona</td><td>21.5</td><td>4</td><td>120.1</td><td> 97</td><td>3.70</td><td>2.465</td><td>20.01</td><td>1</td><td>0</td><td>3</td><td>1</td></tr>\n",
       "\t<tr><td>Honda Civic  </td><td>30.4</td><td>4</td><td> 75.7</td><td> 52</td><td>4.93</td><td>1.615</td><td>18.52</td><td>1</td><td>1</td><td>4</td><td>2</td></tr>\n",
       "</tbody>\n",
       "</table>\n"
      ],
      "text/latex": [
       "A tibble: 3 × 12\n",
       "\\begin{tabular}{llllllllllll}\n",
       " X & mpg & cyl & disp & hp & drat & wt & qsec & vs & am & gear & carb\\\\\n",
       " <fct> & <dbl> & <int> & <dbl> & <int> & <dbl> & <dbl> & <dbl> & <int> & <int> & <int> & <int>\\\\\n",
       "\\hline\n",
       "\t Duster 360    & 14.3 & 8 & 360.0 & 245 & 3.21 & 3.570 & 15.84 & 0 & 0 & 3 & 4\\\\\n",
       "\t Toyota Corona & 21.5 & 4 & 120.1 &  97 & 3.70 & 2.465 & 20.01 & 1 & 0 & 3 & 1\\\\\n",
       "\t Honda Civic   & 30.4 & 4 &  75.7 &  52 & 4.93 & 1.615 & 18.52 & 1 & 1 & 4 & 2\\\\\n",
       "\\end{tabular}\n"
      ],
      "text/markdown": [
       "\n",
       "A tibble: 3 × 12\n",
       "\n",
       "| X &lt;fct&gt; | mpg &lt;dbl&gt; | cyl &lt;int&gt; | disp &lt;dbl&gt; | hp &lt;int&gt; | drat &lt;dbl&gt; | wt &lt;dbl&gt; | qsec &lt;dbl&gt; | vs &lt;int&gt; | am &lt;int&gt; | gear &lt;int&gt; | carb &lt;int&gt; |\n",
       "|---|---|---|---|---|---|---|---|---|---|---|---|\n",
       "| Duster 360    | 14.3 | 8 | 360.0 | 245 | 3.21 | 3.570 | 15.84 | 0 | 0 | 3 | 4 |\n",
       "| Toyota Corona | 21.5 | 4 | 120.1 |  97 | 3.70 | 2.465 | 20.01 | 1 | 0 | 3 | 1 |\n",
       "| Honda Civic   | 30.4 | 4 |  75.7 |  52 | 4.93 | 1.615 | 18.52 | 1 | 1 | 4 | 2 |\n",
       "\n"
      ],
      "text/plain": [
       "  X             mpg  cyl disp  hp  drat wt    qsec  vs am gear carb\n",
       "1 Duster 360    14.3 8   360.0 245 3.21 3.570 15.84 0  0  3    4   \n",
       "2 Toyota Corona 21.5 4   120.1  97 3.70 2.465 20.01 1  0  3    1   \n",
       "3 Honda Civic   30.4 4    75.7  52 4.93 1.615 18.52 1  1  4    2   "
      ]
     },
     "metadata": {},
     "output_type": "display_data"
    }
   ],
   "source": [
    "dp_df %>% \n",
    "sample_frac(.5)%>% head(3)"
   ]
  },
  {
   "cell_type": "markdown",
   "metadata": {},
   "source": [
    "### 3.3.2 Sample 10 observations"
   ]
  },
  {
   "cell_type": "code",
   "execution_count": 34,
   "metadata": {},
   "outputs": [
    {
     "data": {
      "text/html": [
       "<table>\n",
       "<caption>A tibble: 3 × 12</caption>\n",
       "<thead>\n",
       "\t<tr><th scope=col>X</th><th scope=col>mpg</th><th scope=col>cyl</th><th scope=col>disp</th><th scope=col>hp</th><th scope=col>drat</th><th scope=col>wt</th><th scope=col>qsec</th><th scope=col>vs</th><th scope=col>am</th><th scope=col>gear</th><th scope=col>carb</th></tr>\n",
       "\t<tr><th scope=col>&lt;fct&gt;</th><th scope=col>&lt;dbl&gt;</th><th scope=col>&lt;int&gt;</th><th scope=col>&lt;dbl&gt;</th><th scope=col>&lt;int&gt;</th><th scope=col>&lt;dbl&gt;</th><th scope=col>&lt;dbl&gt;</th><th scope=col>&lt;dbl&gt;</th><th scope=col>&lt;int&gt;</th><th scope=col>&lt;int&gt;</th><th scope=col>&lt;int&gt;</th><th scope=col>&lt;int&gt;</th></tr>\n",
       "</thead>\n",
       "<tbody>\n",
       "\t<tr><td>Lincoln Continental</td><td>10.4</td><td>8</td><td>460.0</td><td>215</td><td>3.00</td><td>5.424</td><td>17.82</td><td>0</td><td>0</td><td>3</td><td>4</td></tr>\n",
       "\t<tr><td>Fiat X1-9          </td><td>27.3</td><td>4</td><td> 79.0</td><td> 66</td><td>4.08</td><td>1.935</td><td>18.90</td><td>1</td><td>1</td><td>4</td><td>1</td></tr>\n",
       "\t<tr><td>Merc 450SLC        </td><td>15.2</td><td>8</td><td>275.8</td><td>180</td><td>3.07</td><td>3.780</td><td>18.00</td><td>0</td><td>0</td><td>3</td><td>3</td></tr>\n",
       "</tbody>\n",
       "</table>\n"
      ],
      "text/latex": [
       "A tibble: 3 × 12\n",
       "\\begin{tabular}{llllllllllll}\n",
       " X & mpg & cyl & disp & hp & drat & wt & qsec & vs & am & gear & carb\\\\\n",
       " <fct> & <dbl> & <int> & <dbl> & <int> & <dbl> & <dbl> & <dbl> & <int> & <int> & <int> & <int>\\\\\n",
       "\\hline\n",
       "\t Lincoln Continental & 10.4 & 8 & 460.0 & 215 & 3.00 & 5.424 & 17.82 & 0 & 0 & 3 & 4\\\\\n",
       "\t Fiat X1-9           & 27.3 & 4 &  79.0 &  66 & 4.08 & 1.935 & 18.90 & 1 & 1 & 4 & 1\\\\\n",
       "\t Merc 450SLC         & 15.2 & 8 & 275.8 & 180 & 3.07 & 3.780 & 18.00 & 0 & 0 & 3 & 3\\\\\n",
       "\\end{tabular}\n"
      ],
      "text/markdown": [
       "\n",
       "A tibble: 3 × 12\n",
       "\n",
       "| X &lt;fct&gt; | mpg &lt;dbl&gt; | cyl &lt;int&gt; | disp &lt;dbl&gt; | hp &lt;int&gt; | drat &lt;dbl&gt; | wt &lt;dbl&gt; | qsec &lt;dbl&gt; | vs &lt;int&gt; | am &lt;int&gt; | gear &lt;int&gt; | carb &lt;int&gt; |\n",
       "|---|---|---|---|---|---|---|---|---|---|---|---|\n",
       "| Lincoln Continental | 10.4 | 8 | 460.0 | 215 | 3.00 | 5.424 | 17.82 | 0 | 0 | 3 | 4 |\n",
       "| Fiat X1-9           | 27.3 | 4 |  79.0 |  66 | 4.08 | 1.935 | 18.90 | 1 | 1 | 4 | 1 |\n",
       "| Merc 450SLC         | 15.2 | 8 | 275.8 | 180 | 3.07 | 3.780 | 18.00 | 0 | 0 | 3 | 3 |\n",
       "\n"
      ],
      "text/plain": [
       "  X                   mpg  cyl disp  hp  drat wt    qsec  vs am gear carb\n",
       "1 Lincoln Continental 10.4 8   460.0 215 3.00 5.424 17.82 0  0  3    4   \n",
       "2 Fiat X1-9           27.3 4    79.0  66 4.08 1.935 18.90 1  1  4    1   \n",
       "3 Merc 450SLC         15.2 8   275.8 180 3.07 3.780 18.00 0  0  3    3   "
      ]
     },
     "metadata": {},
     "output_type": "display_data"
    }
   ],
   "source": [
    "dp_df %>% \n",
    "sample_n(10)%>% head(3)"
   ]
  },
  {
   "cell_type": "markdown",
   "metadata": {},
   "source": [
    "## 3.4 Slice\n",
    "Pick out rows by observation number"
   ]
  },
  {
   "cell_type": "code",
   "execution_count": 35,
   "metadata": {},
   "outputs": [
    {
     "data": {
      "text/html": [
       "<table>\n",
       "<caption>A tibble: 3 × 12</caption>\n",
       "<thead>\n",
       "\t<tr><th scope=col>X</th><th scope=col>mpg</th><th scope=col>cyl</th><th scope=col>disp</th><th scope=col>hp</th><th scope=col>drat</th><th scope=col>wt</th><th scope=col>qsec</th><th scope=col>vs</th><th scope=col>am</th><th scope=col>gear</th><th scope=col>carb</th></tr>\n",
       "\t<tr><th scope=col>&lt;fct&gt;</th><th scope=col>&lt;dbl&gt;</th><th scope=col>&lt;int&gt;</th><th scope=col>&lt;dbl&gt;</th><th scope=col>&lt;int&gt;</th><th scope=col>&lt;dbl&gt;</th><th scope=col>&lt;dbl&gt;</th><th scope=col>&lt;dbl&gt;</th><th scope=col>&lt;int&gt;</th><th scope=col>&lt;int&gt;</th><th scope=col>&lt;int&gt;</th><th scope=col>&lt;int&gt;</th></tr>\n",
       "</thead>\n",
       "<tbody>\n",
       "\t<tr><td>Merc 280  </td><td>19.2</td><td>6</td><td>167.6</td><td>123</td><td>3.92</td><td>3.44</td><td>18.3</td><td>1</td><td>0</td><td>4</td><td>4</td></tr>\n",
       "\t<tr><td>Merc 280C </td><td>17.8</td><td>6</td><td>167.6</td><td>123</td><td>3.92</td><td>3.44</td><td>18.9</td><td>1</td><td>0</td><td>4</td><td>4</td></tr>\n",
       "\t<tr><td>Merc 450SE</td><td>16.4</td><td>8</td><td>275.8</td><td>180</td><td>3.07</td><td>4.07</td><td>17.4</td><td>0</td><td>0</td><td>3</td><td>3</td></tr>\n",
       "</tbody>\n",
       "</table>\n"
      ],
      "text/latex": [
       "A tibble: 3 × 12\n",
       "\\begin{tabular}{llllllllllll}\n",
       " X & mpg & cyl & disp & hp & drat & wt & qsec & vs & am & gear & carb\\\\\n",
       " <fct> & <dbl> & <int> & <dbl> & <int> & <dbl> & <dbl> & <dbl> & <int> & <int> & <int> & <int>\\\\\n",
       "\\hline\n",
       "\t Merc 280   & 19.2 & 6 & 167.6 & 123 & 3.92 & 3.44 & 18.3 & 1 & 0 & 4 & 4\\\\\n",
       "\t Merc 280C  & 17.8 & 6 & 167.6 & 123 & 3.92 & 3.44 & 18.9 & 1 & 0 & 4 & 4\\\\\n",
       "\t Merc 450SE & 16.4 & 8 & 275.8 & 180 & 3.07 & 4.07 & 17.4 & 0 & 0 & 3 & 3\\\\\n",
       "\\end{tabular}\n"
      ],
      "text/markdown": [
       "\n",
       "A tibble: 3 × 12\n",
       "\n",
       "| X &lt;fct&gt; | mpg &lt;dbl&gt; | cyl &lt;int&gt; | disp &lt;dbl&gt; | hp &lt;int&gt; | drat &lt;dbl&gt; | wt &lt;dbl&gt; | qsec &lt;dbl&gt; | vs &lt;int&gt; | am &lt;int&gt; | gear &lt;int&gt; | carb &lt;int&gt; |\n",
       "|---|---|---|---|---|---|---|---|---|---|---|---|\n",
       "| Merc 280   | 19.2 | 6 | 167.6 | 123 | 3.92 | 3.44 | 18.3 | 1 | 0 | 4 | 4 |\n",
       "| Merc 280C  | 17.8 | 6 | 167.6 | 123 | 3.92 | 3.44 | 18.9 | 1 | 0 | 4 | 4 |\n",
       "| Merc 450SE | 16.4 | 8 | 275.8 | 180 | 3.07 | 4.07 | 17.4 | 0 | 0 | 3 | 3 |\n",
       "\n"
      ],
      "text/plain": [
       "  X          mpg  cyl disp  hp  drat wt   qsec vs am gear carb\n",
       "1 Merc 280   19.2 6   167.6 123 3.92 3.44 18.3 1  0  4    4   \n",
       "2 Merc 280C  17.8 6   167.6 123 3.92 3.44 18.9 1  0  4    4   \n",
       "3 Merc 450SE 16.4 8   275.8 180 3.07 4.07 17.4 0  0  3    3   "
      ]
     },
     "metadata": {},
     "output_type": "display_data"
    }
   ],
   "source": [
    "dp_df %>% \n",
    "slice(10:12)"
   ]
  },
  {
   "cell_type": "markdown",
   "metadata": {},
   "source": [
    "## 3.5 add_count"
   ]
  },
  {
   "cell_type": "code",
   "execution_count": 36,
   "metadata": {},
   "outputs": [
    {
     "data": {
      "text/html": [
       "<table>\n",
       "<caption>A tibble: 3 × 13</caption>\n",
       "<thead>\n",
       "\t<tr><th scope=col>X</th><th scope=col>mpg</th><th scope=col>cyl</th><th scope=col>disp</th><th scope=col>hp</th><th scope=col>drat</th><th scope=col>wt</th><th scope=col>qsec</th><th scope=col>vs</th><th scope=col>am</th><th scope=col>gear</th><th scope=col>carb</th><th scope=col>n</th></tr>\n",
       "\t<tr><th scope=col>&lt;fct&gt;</th><th scope=col>&lt;dbl&gt;</th><th scope=col>&lt;int&gt;</th><th scope=col>&lt;dbl&gt;</th><th scope=col>&lt;int&gt;</th><th scope=col>&lt;dbl&gt;</th><th scope=col>&lt;dbl&gt;</th><th scope=col>&lt;dbl&gt;</th><th scope=col>&lt;int&gt;</th><th scope=col>&lt;int&gt;</th><th scope=col>&lt;int&gt;</th><th scope=col>&lt;int&gt;</th><th scope=col>&lt;int&gt;</th></tr>\n",
       "</thead>\n",
       "<tbody>\n",
       "\t<tr><td>Mazda RX4    </td><td>21.0</td><td>6</td><td>160</td><td>110</td><td>3.90</td><td>2.620</td><td>16.46</td><td>0</td><td>1</td><td>4</td><td>4</td><td>32</td></tr>\n",
       "\t<tr><td>Mazda RX4 Wag</td><td>21.0</td><td>6</td><td>160</td><td>110</td><td>3.90</td><td>2.875</td><td>17.02</td><td>0</td><td>1</td><td>4</td><td>4</td><td>32</td></tr>\n",
       "\t<tr><td>Datsun 710   </td><td>22.8</td><td>4</td><td>108</td><td> 93</td><td>3.85</td><td>2.320</td><td>18.61</td><td>1</td><td>1</td><td>4</td><td>1</td><td>32</td></tr>\n",
       "</tbody>\n",
       "</table>\n"
      ],
      "text/latex": [
       "A tibble: 3 × 13\n",
       "\\begin{tabular}{lllllllllllll}\n",
       " X & mpg & cyl & disp & hp & drat & wt & qsec & vs & am & gear & carb & n\\\\\n",
       " <fct> & <dbl> & <int> & <dbl> & <int> & <dbl> & <dbl> & <dbl> & <int> & <int> & <int> & <int> & <int>\\\\\n",
       "\\hline\n",
       "\t Mazda RX4     & 21.0 & 6 & 160 & 110 & 3.90 & 2.620 & 16.46 & 0 & 1 & 4 & 4 & 32\\\\\n",
       "\t Mazda RX4 Wag & 21.0 & 6 & 160 & 110 & 3.90 & 2.875 & 17.02 & 0 & 1 & 4 & 4 & 32\\\\\n",
       "\t Datsun 710    & 22.8 & 4 & 108 &  93 & 3.85 & 2.320 & 18.61 & 1 & 1 & 4 & 1 & 32\\\\\n",
       "\\end{tabular}\n"
      ],
      "text/markdown": [
       "\n",
       "A tibble: 3 × 13\n",
       "\n",
       "| X &lt;fct&gt; | mpg &lt;dbl&gt; | cyl &lt;int&gt; | disp &lt;dbl&gt; | hp &lt;int&gt; | drat &lt;dbl&gt; | wt &lt;dbl&gt; | qsec &lt;dbl&gt; | vs &lt;int&gt; | am &lt;int&gt; | gear &lt;int&gt; | carb &lt;int&gt; | n &lt;int&gt; |\n",
       "|---|---|---|---|---|---|---|---|---|---|---|---|---|\n",
       "| Mazda RX4     | 21.0 | 6 | 160 | 110 | 3.90 | 2.620 | 16.46 | 0 | 1 | 4 | 4 | 32 |\n",
       "| Mazda RX4 Wag | 21.0 | 6 | 160 | 110 | 3.90 | 2.875 | 17.02 | 0 | 1 | 4 | 4 | 32 |\n",
       "| Datsun 710    | 22.8 | 4 | 108 |  93 | 3.85 | 2.320 | 18.61 | 1 | 1 | 4 | 1 | 32 |\n",
       "\n"
      ],
      "text/plain": [
       "  X             mpg  cyl disp hp  drat wt    qsec  vs am gear carb n \n",
       "1 Mazda RX4     21.0 6   160  110 3.90 2.620 16.46 0  1  4    4    32\n",
       "2 Mazda RX4 Wag 21.0 6   160  110 3.90 2.875 17.02 0  1  4    4    32\n",
       "3 Datsun 710    22.8 4   108   93 3.85 2.320 18.61 1  1  4    1    32"
      ]
     },
     "metadata": {},
     "output_type": "display_data"
    }
   ],
   "source": [
    "dp_df %>% \n",
    "add_count()%>% \n",
    "head(3)"
   ]
  },
  {
   "cell_type": "markdown",
   "metadata": {},
   "source": [
    "# Questions"
   ]
  },
  {
   "cell_type": "code",
   "execution_count": 37,
   "metadata": {},
   "outputs": [
    {
     "data": {
      "text/html": [
       "<table>\n",
       "<caption>A tibble: 10 × 12</caption>\n",
       "<thead>\n",
       "\t<tr><th scope=col>X</th><th scope=col>mpg</th><th scope=col>cyl</th><th scope=col>disp</th><th scope=col>hp</th><th scope=col>drat</th><th scope=col>wt</th><th scope=col>qsec</th><th scope=col>vs</th><th scope=col>am</th><th scope=col>gear</th><th scope=col>carb</th></tr>\n",
       "\t<tr><th scope=col>&lt;fct&gt;</th><th scope=col>&lt;dbl&gt;</th><th scope=col>&lt;int&gt;</th><th scope=col>&lt;dbl&gt;</th><th scope=col>&lt;int&gt;</th><th scope=col>&lt;dbl&gt;</th><th scope=col>&lt;dbl&gt;</th><th scope=col>&lt;dbl&gt;</th><th scope=col>&lt;int&gt;</th><th scope=col>&lt;int&gt;</th><th scope=col>&lt;int&gt;</th><th scope=col>&lt;int&gt;</th></tr>\n",
       "</thead>\n",
       "<tbody>\n",
       "\t<tr><td>Mazda RX4        </td><td>21.0</td><td>6</td><td>160.0</td><td>110</td><td>3.90</td><td>2.620</td><td>16.46</td><td>0</td><td>1</td><td>4</td><td>4</td></tr>\n",
       "\t<tr><td>Mazda RX4 Wag    </td><td>21.0</td><td>6</td><td>160.0</td><td>110</td><td>3.90</td><td>2.875</td><td>17.02</td><td>0</td><td>1</td><td>4</td><td>4</td></tr>\n",
       "\t<tr><td>Datsun 710       </td><td>22.8</td><td>4</td><td>108.0</td><td> 93</td><td>3.85</td><td>2.320</td><td>18.61</td><td>1</td><td>1</td><td>4</td><td>1</td></tr>\n",
       "\t<tr><td>Hornet 4 Drive   </td><td>21.4</td><td>6</td><td>258.0</td><td>110</td><td>3.08</td><td>3.215</td><td>19.44</td><td>1</td><td>0</td><td>3</td><td>1</td></tr>\n",
       "\t<tr><td>Hornet Sportabout</td><td>18.7</td><td>8</td><td>360.0</td><td>175</td><td>3.15</td><td>3.440</td><td>17.02</td><td>0</td><td>0</td><td>3</td><td>2</td></tr>\n",
       "\t<tr><td>Valiant          </td><td>18.1</td><td>6</td><td>225.0</td><td>105</td><td>2.76</td><td>3.460</td><td>20.22</td><td>1</td><td>0</td><td>3</td><td>1</td></tr>\n",
       "\t<tr><td>Duster 360       </td><td>14.3</td><td>8</td><td>360.0</td><td>245</td><td>3.21</td><td>3.570</td><td>15.84</td><td>0</td><td>0</td><td>3</td><td>4</td></tr>\n",
       "\t<tr><td>Merc 240D        </td><td>24.4</td><td>4</td><td>146.7</td><td> 62</td><td>3.69</td><td>3.190</td><td>20.00</td><td>1</td><td>0</td><td>4</td><td>2</td></tr>\n",
       "\t<tr><td>Merc 230         </td><td>22.8</td><td>4</td><td>140.8</td><td> 95</td><td>3.92</td><td>3.150</td><td>22.90</td><td>1</td><td>0</td><td>4</td><td>2</td></tr>\n",
       "\t<tr><td>Merc 280         </td><td>19.2</td><td>6</td><td>167.6</td><td>123</td><td>3.92</td><td>3.440</td><td>18.30</td><td>1</td><td>0</td><td>4</td><td>4</td></tr>\n",
       "</tbody>\n",
       "</table>\n"
      ],
      "text/latex": [
       "A tibble: 10 × 12\n",
       "\\begin{tabular}{llllllllllll}\n",
       " X & mpg & cyl & disp & hp & drat & wt & qsec & vs & am & gear & carb\\\\\n",
       " <fct> & <dbl> & <int> & <dbl> & <int> & <dbl> & <dbl> & <dbl> & <int> & <int> & <int> & <int>\\\\\n",
       "\\hline\n",
       "\t Mazda RX4         & 21.0 & 6 & 160.0 & 110 & 3.90 & 2.620 & 16.46 & 0 & 1 & 4 & 4\\\\\n",
       "\t Mazda RX4 Wag     & 21.0 & 6 & 160.0 & 110 & 3.90 & 2.875 & 17.02 & 0 & 1 & 4 & 4\\\\\n",
       "\t Datsun 710        & 22.8 & 4 & 108.0 &  93 & 3.85 & 2.320 & 18.61 & 1 & 1 & 4 & 1\\\\\n",
       "\t Hornet 4 Drive    & 21.4 & 6 & 258.0 & 110 & 3.08 & 3.215 & 19.44 & 1 & 0 & 3 & 1\\\\\n",
       "\t Hornet Sportabout & 18.7 & 8 & 360.0 & 175 & 3.15 & 3.440 & 17.02 & 0 & 0 & 3 & 2\\\\\n",
       "\t Valiant           & 18.1 & 6 & 225.0 & 105 & 2.76 & 3.460 & 20.22 & 1 & 0 & 3 & 1\\\\\n",
       "\t Duster 360        & 14.3 & 8 & 360.0 & 245 & 3.21 & 3.570 & 15.84 & 0 & 0 & 3 & 4\\\\\n",
       "\t Merc 240D         & 24.4 & 4 & 146.7 &  62 & 3.69 & 3.190 & 20.00 & 1 & 0 & 4 & 2\\\\\n",
       "\t Merc 230          & 22.8 & 4 & 140.8 &  95 & 3.92 & 3.150 & 22.90 & 1 & 0 & 4 & 2\\\\\n",
       "\t Merc 280          & 19.2 & 6 & 167.6 & 123 & 3.92 & 3.440 & 18.30 & 1 & 0 & 4 & 4\\\\\n",
       "\\end{tabular}\n"
      ],
      "text/markdown": [
       "\n",
       "A tibble: 10 × 12\n",
       "\n",
       "| X &lt;fct&gt; | mpg &lt;dbl&gt; | cyl &lt;int&gt; | disp &lt;dbl&gt; | hp &lt;int&gt; | drat &lt;dbl&gt; | wt &lt;dbl&gt; | qsec &lt;dbl&gt; | vs &lt;int&gt; | am &lt;int&gt; | gear &lt;int&gt; | carb &lt;int&gt; |\n",
       "|---|---|---|---|---|---|---|---|---|---|---|---|\n",
       "| Mazda RX4         | 21.0 | 6 | 160.0 | 110 | 3.90 | 2.620 | 16.46 | 0 | 1 | 4 | 4 |\n",
       "| Mazda RX4 Wag     | 21.0 | 6 | 160.0 | 110 | 3.90 | 2.875 | 17.02 | 0 | 1 | 4 | 4 |\n",
       "| Datsun 710        | 22.8 | 4 | 108.0 |  93 | 3.85 | 2.320 | 18.61 | 1 | 1 | 4 | 1 |\n",
       "| Hornet 4 Drive    | 21.4 | 6 | 258.0 | 110 | 3.08 | 3.215 | 19.44 | 1 | 0 | 3 | 1 |\n",
       "| Hornet Sportabout | 18.7 | 8 | 360.0 | 175 | 3.15 | 3.440 | 17.02 | 0 | 0 | 3 | 2 |\n",
       "| Valiant           | 18.1 | 6 | 225.0 | 105 | 2.76 | 3.460 | 20.22 | 1 | 0 | 3 | 1 |\n",
       "| Duster 360        | 14.3 | 8 | 360.0 | 245 | 3.21 | 3.570 | 15.84 | 0 | 0 | 3 | 4 |\n",
       "| Merc 240D         | 24.4 | 4 | 146.7 |  62 | 3.69 | 3.190 | 20.00 | 1 | 0 | 4 | 2 |\n",
       "| Merc 230          | 22.8 | 4 | 140.8 |  95 | 3.92 | 3.150 | 22.90 | 1 | 0 | 4 | 2 |\n",
       "| Merc 280          | 19.2 | 6 | 167.6 | 123 | 3.92 | 3.440 | 18.30 | 1 | 0 | 4 | 4 |\n",
       "\n"
      ],
      "text/plain": [
       "   X                 mpg  cyl disp  hp  drat wt    qsec  vs am gear carb\n",
       "1  Mazda RX4         21.0 6   160.0 110 3.90 2.620 16.46 0  1  4    4   \n",
       "2  Mazda RX4 Wag     21.0 6   160.0 110 3.90 2.875 17.02 0  1  4    4   \n",
       "3  Datsun 710        22.8 4   108.0  93 3.85 2.320 18.61 1  1  4    1   \n",
       "4  Hornet 4 Drive    21.4 6   258.0 110 3.08 3.215 19.44 1  0  3    1   \n",
       "5  Hornet Sportabout 18.7 8   360.0 175 3.15 3.440 17.02 0  0  3    2   \n",
       "6  Valiant           18.1 6   225.0 105 2.76 3.460 20.22 1  0  3    1   \n",
       "7  Duster 360        14.3 8   360.0 245 3.21 3.570 15.84 0  0  3    4   \n",
       "8  Merc 240D         24.4 4   146.7  62 3.69 3.190 20.00 1  0  4    2   \n",
       "9  Merc 230          22.8 4   140.8  95 3.92 3.150 22.90 1  0  4    2   \n",
       "10 Merc 280          19.2 6   167.6 123 3.92 3.440 18.30 1  0  4    4   "
      ]
     },
     "metadata": {},
     "output_type": "display_data"
    }
   ],
   "source": [
    "head(dp_df, 10)"
   ]
  },
  {
   "cell_type": "markdown",
   "metadata": {},
   "source": [
    "## Q.1. Show mean mpg by gear"
   ]
  },
  {
   "cell_type": "code",
   "execution_count": null,
   "metadata": {},
   "outputs": [],
   "source": []
  },
  {
   "cell_type": "markdown",
   "metadata": {},
   "source": [
    "## Q.2. Show all observations with: am=1 & vs=0"
   ]
  },
  {
   "cell_type": "code",
   "execution_count": null,
   "metadata": {},
   "outputs": [],
   "source": []
  },
  {
   "cell_type": "markdown",
   "metadata": {},
   "source": [
    "## Q.3 Create new column for Kilometers per gallon (mulitply mpg*1.6)"
   ]
  },
  {
   "cell_type": "code",
   "execution_count": null,
   "metadata": {},
   "outputs": [],
   "source": []
  },
  {
   "cell_type": "markdown",
   "metadata": {},
   "source": [
    "## Q.4 Show all observations with a gear = 4 but instead of showing the whole frame only showing cyl and disp columns"
   ]
  },
  {
   "cell_type": "code",
   "execution_count": null,
   "metadata": {},
   "outputs": [],
   "source": []
  }
 ],
 "metadata": {
  "kernelspec": {
   "display_name": "R",
   "language": "R",
   "name": "ir"
  },
  "language_info": {
   "codemirror_mode": "r",
   "file_extension": ".r",
   "mimetype": "text/x-r-source",
   "name": "R",
   "pygments_lexer": "r",
   "version": "3.6.1"
  }
 },
 "nbformat": 4,
 "nbformat_minor": 4
}
