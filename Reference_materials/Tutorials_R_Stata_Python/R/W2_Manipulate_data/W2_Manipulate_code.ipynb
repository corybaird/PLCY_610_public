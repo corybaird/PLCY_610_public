{
 "cells": [
  {
   "cell_type": "markdown",
   "metadata": {},
   "source": [
    "# Mainpulating data for analysis"
   ]
  },
  {
   "cell_type": "markdown",
   "metadata": {},
   "source": [
    "# Review: DPYR"
   ]
  },
  {
   "cell_type": "markdown",
   "metadata": {},
   "source": [
    "## R.1 Importing data"
   ]
  },
  {
   "cell_type": "code",
   "execution_count": 1,
   "metadata": {},
   "outputs": [],
   "source": [
    "data(\"mtcars\") #Download internal data set: cars data\n",
    "write.csv(mtcars, \"cars.csv\") #Name the dataset \"cars.csv\" and save to current working directory\n",
    "df = read.csv(\"cars.csv\") #We often name our dataframes df_NAME"
   ]
  },
  {
   "cell_type": "markdown",
   "metadata": {},
   "source": [
    "## R.2. DPLYR"
   ]
  },
  {
   "cell_type": "markdown",
   "metadata": {},
   "source": [
    "### R.2.1 Import dplyr"
   ]
  },
  {
   "cell_type": "code",
   "execution_count": 2,
   "metadata": {},
   "outputs": [
    {
     "name": "stderr",
     "output_type": "stream",
     "text": [
      "\n",
      "Attaching package: ‘dplyr’\n",
      "\n",
      "The following objects are masked from ‘package:stats’:\n",
      "\n",
      "    filter, lag\n",
      "\n",
      "The following objects are masked from ‘package:base’:\n",
      "\n",
      "    intersect, setdiff, setequal, union\n",
      "\n"
     ]
    }
   ],
   "source": [
    "#install.packages(\"dplyr\") #Already installed!\n",
    "library(dplyr) #Import DPLYR\n",
    "df = as_tibble(df) #Convert Data Frame into tibble (DPLYR's special Data Frame)"
   ]
  },
  {
   "cell_type": "markdown",
   "metadata": {},
   "source": [
    "## R. 2.2 Review important functions:\n",
    "- select\n",
    "- filter\n",
    "- arrange\n",
    "- mutate\n",
    "- summarise\n",
    "- groupby"
   ]
  },
  {
   "cell_type": "markdown",
   "metadata": {},
   "source": [
    "### 2.2.1 Select"
   ]
  },
  {
   "cell_type": "code",
   "execution_count": 3,
   "metadata": {},
   "outputs": [
    {
     "data": {
      "text/html": [
       "<table>\n",
       "<thead><tr><th scope=col>cyl</th><th scope=col>disp</th><th scope=col>hp</th><th scope=col>wt</th></tr></thead>\n",
       "<tbody>\n",
       "\t<tr><td>6    </td><td>160  </td><td>110  </td><td>2.620</td></tr>\n",
       "\t<tr><td>6    </td><td>160  </td><td>110  </td><td>2.875</td></tr>\n",
       "</tbody>\n",
       "</table>\n"
      ],
      "text/latex": [
       "\\begin{tabular}{r|llll}\n",
       " cyl & disp & hp & wt\\\\\n",
       "\\hline\n",
       "\t 6     & 160   & 110   & 2.620\\\\\n",
       "\t 6     & 160   & 110   & 2.875\\\\\n",
       "\\end{tabular}\n"
      ],
      "text/markdown": [
       "\n",
       "| cyl | disp | hp | wt |\n",
       "|---|---|---|---|\n",
       "| 6     | 160   | 110   | 2.620 |\n",
       "| 6     | 160   | 110   | 2.875 |\n",
       "\n"
      ],
      "text/plain": [
       "  cyl disp hp  wt   \n",
       "1 6   160  110 2.620\n",
       "2 6   160  110 2.875"
      ]
     },
     "metadata": {},
     "output_type": "display_data"
    }
   ],
   "source": [
    "df %>% #Dataframe\n",
    "select(cyl, disp, hp, wt)%>% #Select column named X\n",
    "head(2) #Shows only first 2 obs"
   ]
  },
  {
   "cell_type": "markdown",
   "metadata": {},
   "source": [
    "### 2.2.2 Filter "
   ]
  },
  {
   "cell_type": "code",
   "execution_count": 4,
   "metadata": {},
   "outputs": [
    {
     "data": {
      "text/html": [
       "<table>\n",
       "<thead><tr><th scope=col>X</th><th scope=col>mpg</th><th scope=col>cyl</th><th scope=col>disp</th><th scope=col>hp</th><th scope=col>drat</th><th scope=col>wt</th><th scope=col>qsec</th><th scope=col>vs</th><th scope=col>am</th><th scope=col>gear</th><th scope=col>carb</th></tr></thead>\n",
       "<tbody>\n",
       "\t<tr><td>Datsun 710</td><td>22.8      </td><td>4         </td><td>108.0     </td><td>93        </td><td>3.85      </td><td>2.32      </td><td>18.61     </td><td>1         </td><td>1         </td><td>4         </td><td>1         </td></tr>\n",
       "\t<tr><td>Merc 240D </td><td>24.4      </td><td>4         </td><td>146.7     </td><td>62        </td><td>3.69      </td><td>3.19      </td><td>20.00     </td><td>1         </td><td>0         </td><td>4         </td><td>2         </td></tr>\n",
       "</tbody>\n",
       "</table>\n"
      ],
      "text/latex": [
       "\\begin{tabular}{r|llllllllllll}\n",
       " X & mpg & cyl & disp & hp & drat & wt & qsec & vs & am & gear & carb\\\\\n",
       "\\hline\n",
       "\t Datsun 710 & 22.8       & 4          & 108.0      & 93         & 3.85       & 2.32       & 18.61      & 1          & 1          & 4          & 1         \\\\\n",
       "\t Merc 240D  & 24.4       & 4          & 146.7      & 62         & 3.69       & 3.19       & 20.00      & 1          & 0          & 4          & 2         \\\\\n",
       "\\end{tabular}\n"
      ],
      "text/markdown": [
       "\n",
       "| X | mpg | cyl | disp | hp | drat | wt | qsec | vs | am | gear | carb |\n",
       "|---|---|---|---|---|---|---|---|---|---|---|---|\n",
       "| Datsun 710 | 22.8       | 4          | 108.0      | 93         | 3.85       | 2.32       | 18.61      | 1          | 1          | 4          | 1          |\n",
       "| Merc 240D  | 24.4       | 4          | 146.7      | 62         | 3.69       | 3.19       | 20.00      | 1          | 0          | 4          | 2          |\n",
       "\n"
      ],
      "text/plain": [
       "  X          mpg  cyl disp  hp drat wt   qsec  vs am gear carb\n",
       "1 Datsun 710 22.8 4   108.0 93 3.85 2.32 18.61 1  1  4    1   \n",
       "2 Merc 240D  24.4 4   146.7 62 3.69 3.19 20.00 1  0  4    2   "
      ]
     },
     "metadata": {},
     "output_type": "display_data"
    }
   ],
   "source": [
    "df %>% \n",
    "filter(mpg>22 & mpg<35) %>% head(2)"
   ]
  },
  {
   "cell_type": "markdown",
   "metadata": {},
   "source": [
    "### 2.2.3 Arrange"
   ]
  },
  {
   "cell_type": "code",
   "execution_count": 5,
   "metadata": {},
   "outputs": [
    {
     "data": {
      "text/html": [
       "<table>\n",
       "<thead><tr><th scope=col>X</th><th scope=col>mpg</th><th scope=col>cyl</th><th scope=col>disp</th><th scope=col>hp</th><th scope=col>drat</th><th scope=col>wt</th><th scope=col>qsec</th><th scope=col>vs</th><th scope=col>am</th><th scope=col>gear</th><th scope=col>carb</th></tr></thead>\n",
       "<tbody>\n",
       "\t<tr><td>Cadillac Fleetwood </td><td>10.4               </td><td>8                  </td><td>472                </td><td>205                </td><td>2.93               </td><td>5.250              </td><td>17.98              </td><td>0                  </td><td>0                  </td><td>3                  </td><td>4                  </td></tr>\n",
       "\t<tr><td>Lincoln Continental</td><td>10.4               </td><td>8                  </td><td>460                </td><td>215                </td><td>3.00               </td><td>5.424              </td><td>17.82              </td><td>0                  </td><td>0                  </td><td>3                  </td><td>4                  </td></tr>\n",
       "</tbody>\n",
       "</table>\n"
      ],
      "text/latex": [
       "\\begin{tabular}{r|llllllllllll}\n",
       " X & mpg & cyl & disp & hp & drat & wt & qsec & vs & am & gear & carb\\\\\n",
       "\\hline\n",
       "\t Cadillac Fleetwood  & 10.4                & 8                   & 472                 & 205                 & 2.93                & 5.250               & 17.98               & 0                   & 0                   & 3                   & 4                  \\\\\n",
       "\t Lincoln Continental & 10.4                & 8                   & 460                 & 215                 & 3.00                & 5.424               & 17.82               & 0                   & 0                   & 3                   & 4                  \\\\\n",
       "\\end{tabular}\n"
      ],
      "text/markdown": [
       "\n",
       "| X | mpg | cyl | disp | hp | drat | wt | qsec | vs | am | gear | carb |\n",
       "|---|---|---|---|---|---|---|---|---|---|---|---|\n",
       "| Cadillac Fleetwood  | 10.4                | 8                   | 472                 | 205                 | 2.93                | 5.250               | 17.98               | 0                   | 0                   | 3                   | 4                   |\n",
       "| Lincoln Continental | 10.4                | 8                   | 460                 | 215                 | 3.00                | 5.424               | 17.82               | 0                   | 0                   | 3                   | 4                   |\n",
       "\n"
      ],
      "text/plain": [
       "  X                   mpg  cyl disp hp  drat wt    qsec  vs am gear carb\n",
       "1 Cadillac Fleetwood  10.4 8   472  205 2.93 5.250 17.98 0  0  3    4   \n",
       "2 Lincoln Continental 10.4 8   460  215 3.00 5.424 17.82 0  0  3    4   "
      ]
     },
     "metadata": {},
     "output_type": "display_data"
    }
   ],
   "source": [
    "df %>% \n",
    "arrange(mpg)%>% \n",
    "head(2)"
   ]
  },
  {
   "cell_type": "markdown",
   "metadata": {},
   "source": [
    "### 2.2.4 Mutate "
   ]
  },
  {
   "cell_type": "code",
   "execution_count": 6,
   "metadata": {},
   "outputs": [
    {
     "data": {
      "text/html": [
       "<table>\n",
       "<thead><tr><th scope=col>X</th><th scope=col>mpg</th><th scope=col>cyl</th><th scope=col>disp</th><th scope=col>hp</th><th scope=col>drat</th><th scope=col>wt</th><th scope=col>qsec</th><th scope=col>vs</th><th scope=col>am</th><th scope=col>gear</th><th scope=col>carb</th><th scope=col>mpg_10</th></tr></thead>\n",
       "<tbody>\n",
       "\t<tr><td>Mazda RX4    </td><td>21           </td><td>6            </td><td>160          </td><td>110          </td><td>3.9          </td><td>2.620        </td><td>16.46        </td><td>0            </td><td>1            </td><td>4            </td><td>4            </td><td>2.1          </td></tr>\n",
       "\t<tr><td>Mazda RX4 Wag</td><td>21           </td><td>6            </td><td>160          </td><td>110          </td><td>3.9          </td><td>2.875        </td><td>17.02        </td><td>0            </td><td>1            </td><td>4            </td><td>4            </td><td>2.1          </td></tr>\n",
       "</tbody>\n",
       "</table>\n"
      ],
      "text/latex": [
       "\\begin{tabular}{r|lllllllllllll}\n",
       " X & mpg & cyl & disp & hp & drat & wt & qsec & vs & am & gear & carb & mpg\\_10\\\\\n",
       "\\hline\n",
       "\t Mazda RX4     & 21            & 6             & 160           & 110           & 3.9           & 2.620         & 16.46         & 0             & 1             & 4             & 4             & 2.1          \\\\\n",
       "\t Mazda RX4 Wag & 21            & 6             & 160           & 110           & 3.9           & 2.875         & 17.02         & 0             & 1             & 4             & 4             & 2.1          \\\\\n",
       "\\end{tabular}\n"
      ],
      "text/markdown": [
       "\n",
       "| X | mpg | cyl | disp | hp | drat | wt | qsec | vs | am | gear | carb | mpg_10 |\n",
       "|---|---|---|---|---|---|---|---|---|---|---|---|---|\n",
       "| Mazda RX4     | 21            | 6             | 160           | 110           | 3.9           | 2.620         | 16.46         | 0             | 1             | 4             | 4             | 2.1           |\n",
       "| Mazda RX4 Wag | 21            | 6             | 160           | 110           | 3.9           | 2.875         | 17.02         | 0             | 1             | 4             | 4             | 2.1           |\n",
       "\n"
      ],
      "text/plain": [
       "  X             mpg cyl disp hp  drat wt    qsec  vs am gear carb mpg_10\n",
       "1 Mazda RX4     21  6   160  110 3.9  2.620 16.46 0  1  4    4    2.1   \n",
       "2 Mazda RX4 Wag 21  6   160  110 3.9  2.875 17.02 0  1  4    4    2.1   "
      ]
     },
     "metadata": {},
     "output_type": "display_data"
    }
   ],
   "source": [
    "df %>% \n",
    "mutate(mpg_10 = mpg/10) %>% head(2)"
   ]
  },
  {
   "cell_type": "markdown",
   "metadata": {},
   "source": [
    "### 2.2.5 Summarise"
   ]
  },
  {
   "cell_type": "code",
   "execution_count": 7,
   "metadata": {},
   "outputs": [
    {
     "data": {
      "text/html": [
       "<table>\n",
       "<thead><tr><th scope=col>mean_mpg</th><th scope=col>median_mpg</th><th scope=col>sum_mpg</th><th scope=col>count_mpg</th><th scope=col>first_obs</th><th scope=col>last_obs</th><th scope=col>variance</th><th scope=col>sd</th></tr></thead>\n",
       "<tbody>\n",
       "\t<tr><td>20.09062</td><td>19.2    </td><td>642.9   </td><td>32      </td><td>21      </td><td>21.4    </td><td>36.3241 </td><td>6.026948</td></tr>\n",
       "</tbody>\n",
       "</table>\n"
      ],
      "text/latex": [
       "\\begin{tabular}{r|llllllll}\n",
       " mean\\_mpg & median\\_mpg & sum\\_mpg & count\\_mpg & first\\_obs & last\\_obs & variance & sd\\\\\n",
       "\\hline\n",
       "\t 20.09062 & 19.2     & 642.9    & 32       & 21       & 21.4     & 36.3241  & 6.026948\\\\\n",
       "\\end{tabular}\n"
      ],
      "text/markdown": [
       "\n",
       "| mean_mpg | median_mpg | sum_mpg | count_mpg | first_obs | last_obs | variance | sd |\n",
       "|---|---|---|---|---|---|---|---|\n",
       "| 20.09062 | 19.2     | 642.9    | 32       | 21       | 21.4     | 36.3241  | 6.026948 |\n",
       "\n"
      ],
      "text/plain": [
       "  mean_mpg median_mpg sum_mpg count_mpg first_obs last_obs variance sd      \n",
       "1 20.09062 19.2       642.9   32        21        21.4     36.3241  6.026948"
      ]
     },
     "metadata": {},
     "output_type": "display_data"
    }
   ],
   "source": [
    "df %>% \n",
    "summarise(mean_mpg = mean(mpg),\n",
    "        median_mpg = median(mpg),\n",
    "         sum_mpg = sum(mpg),\n",
    "         count_mpg = n(),\n",
    "         first_obs = first(mpg),\n",
    "         last_obs = last(mpg),\n",
    "         variance = var(mpg),\n",
    "         sd = sd(mpg))"
   ]
  },
  {
   "cell_type": "markdown",
   "metadata": {},
   "source": [
    "### 2.2.6 Groupby with summarise"
   ]
  },
  {
   "cell_type": "code",
   "execution_count": 8,
   "metadata": {},
   "outputs": [
    {
     "data": {
      "text/html": [
       "<table>\n",
       "<thead><tr><th scope=col>gear</th><th scope=col>mpg_by_gear</th></tr></thead>\n",
       "<tbody>\n",
       "\t<tr><td>3       </td><td>16.10667</td></tr>\n",
       "\t<tr><td>4       </td><td>24.53333</td></tr>\n",
       "\t<tr><td>5       </td><td>21.38000</td></tr>\n",
       "</tbody>\n",
       "</table>\n"
      ],
      "text/latex": [
       "\\begin{tabular}{r|ll}\n",
       " gear & mpg\\_by\\_gear\\\\\n",
       "\\hline\n",
       "\t 3        & 16.10667\\\\\n",
       "\t 4        & 24.53333\\\\\n",
       "\t 5        & 21.38000\\\\\n",
       "\\end{tabular}\n"
      ],
      "text/markdown": [
       "\n",
       "| gear | mpg_by_gear |\n",
       "|---|---|\n",
       "| 3        | 16.10667 |\n",
       "| 4        | 24.53333 |\n",
       "| 5        | 21.38000 |\n",
       "\n"
      ],
      "text/plain": [
       "  gear mpg_by_gear\n",
       "1 3    16.10667   \n",
       "2 4    24.53333   \n",
       "3 5    21.38000   "
      ]
     },
     "metadata": {},
     "output_type": "display_data"
    }
   ],
   "source": [
    "df %>% \n",
    "group_by(gear) %>% \n",
    "summarise(mpg_by_gear = mean(mpg))"
   ]
  },
  {
   "cell_type": "markdown",
   "metadata": {},
   "source": [
    "# 1. Prep data for analysis"
   ]
  },
  {
   "cell_type": "code",
   "execution_count": 9,
   "metadata": {},
   "outputs": [
    {
     "data": {
      "text/html": [
       "<table>\n",
       "<thead><tr><th scope=col>X</th><th scope=col>mpg</th><th scope=col>cyl</th><th scope=col>disp</th><th scope=col>hp</th><th scope=col>drat</th><th scope=col>wt</th><th scope=col>qsec</th><th scope=col>vs</th><th scope=col>am</th><th scope=col>gear</th><th scope=col>carb</th></tr></thead>\n",
       "<tbody>\n",
       "\t<tr><td>Mazda RX4        </td><td>21.0             </td><td>6                </td><td>160              </td><td>110              </td><td>3.90             </td><td>2.620            </td><td>16.46            </td><td>0                </td><td>1                </td><td>4                </td><td>4                </td></tr>\n",
       "\t<tr><td>Mazda RX4 Wag    </td><td>21.0             </td><td>6                </td><td>160              </td><td>110              </td><td>3.90             </td><td>2.875            </td><td>17.02            </td><td>0                </td><td>1                </td><td>4                </td><td>4                </td></tr>\n",
       "\t<tr><td>Datsun 710       </td><td>22.8             </td><td>4                </td><td>108              </td><td> 93              </td><td>3.85             </td><td>2.320            </td><td>18.61            </td><td>1                </td><td>1                </td><td>4                </td><td>1                </td></tr>\n",
       "\t<tr><td>Hornet 4 Drive   </td><td>21.4             </td><td>6                </td><td>258              </td><td>110              </td><td>3.08             </td><td>3.215            </td><td>19.44            </td><td>1                </td><td>0                </td><td>3                </td><td>1                </td></tr>\n",
       "\t<tr><td>Hornet Sportabout</td><td>18.7             </td><td>8                </td><td>360              </td><td>175              </td><td>3.15             </td><td>3.440            </td><td>17.02            </td><td>0                </td><td>0                </td><td>3                </td><td>2                </td></tr>\n",
       "</tbody>\n",
       "</table>\n"
      ],
      "text/latex": [
       "\\begin{tabular}{r|llllllllllll}\n",
       " X & mpg & cyl & disp & hp & drat & wt & qsec & vs & am & gear & carb\\\\\n",
       "\\hline\n",
       "\t Mazda RX4         & 21.0              & 6                 & 160               & 110               & 3.90              & 2.620             & 16.46             & 0                 & 1                 & 4                 & 4                \\\\\n",
       "\t Mazda RX4 Wag     & 21.0              & 6                 & 160               & 110               & 3.90              & 2.875             & 17.02             & 0                 & 1                 & 4                 & 4                \\\\\n",
       "\t Datsun 710        & 22.8              & 4                 & 108               &  93               & 3.85              & 2.320             & 18.61             & 1                 & 1                 & 4                 & 1                \\\\\n",
       "\t Hornet 4 Drive    & 21.4              & 6                 & 258               & 110               & 3.08              & 3.215             & 19.44             & 1                 & 0                 & 3                 & 1                \\\\\n",
       "\t Hornet Sportabout & 18.7              & 8                 & 360               & 175               & 3.15              & 3.440             & 17.02             & 0                 & 0                 & 3                 & 2                \\\\\n",
       "\\end{tabular}\n"
      ],
      "text/markdown": [
       "\n",
       "| X | mpg | cyl | disp | hp | drat | wt | qsec | vs | am | gear | carb |\n",
       "|---|---|---|---|---|---|---|---|---|---|---|---|\n",
       "| Mazda RX4         | 21.0              | 6                 | 160               | 110               | 3.90              | 2.620             | 16.46             | 0                 | 1                 | 4                 | 4                 |\n",
       "| Mazda RX4 Wag     | 21.0              | 6                 | 160               | 110               | 3.90              | 2.875             | 17.02             | 0                 | 1                 | 4                 | 4                 |\n",
       "| Datsun 710        | 22.8              | 4                 | 108               |  93               | 3.85              | 2.320             | 18.61             | 1                 | 1                 | 4                 | 1                 |\n",
       "| Hornet 4 Drive    | 21.4              | 6                 | 258               | 110               | 3.08              | 3.215             | 19.44             | 1                 | 0                 | 3                 | 1                 |\n",
       "| Hornet Sportabout | 18.7              | 8                 | 360               | 175               | 3.15              | 3.440             | 17.02             | 0                 | 0                 | 3                 | 2                 |\n",
       "\n"
      ],
      "text/plain": [
       "  X                 mpg  cyl disp hp  drat wt    qsec  vs am gear carb\n",
       "1 Mazda RX4         21.0 6   160  110 3.90 2.620 16.46 0  1  4    4   \n",
       "2 Mazda RX4 Wag     21.0 6   160  110 3.90 2.875 17.02 0  1  4    4   \n",
       "3 Datsun 710        22.8 4   108   93 3.85 2.320 18.61 1  1  4    1   \n",
       "4 Hornet 4 Drive    21.4 6   258  110 3.08 3.215 19.44 1  0  3    1   \n",
       "5 Hornet Sportabout 18.7 8   360  175 3.15 3.440 17.02 0  0  3    2   "
      ]
     },
     "metadata": {},
     "output_type": "display_data"
    }
   ],
   "source": [
    "head(df, 5) #Show data "
   ]
  },
  {
   "cell_type": "markdown",
   "metadata": {},
   "source": [
    "## 1.1 Basic overview of data"
   ]
  },
  {
   "cell_type": "markdown",
   "metadata": {},
   "source": [
    "### 1.1.1 Show kind of data"
   ]
  },
  {
   "cell_type": "code",
   "execution_count": 10,
   "metadata": {},
   "outputs": [
    {
     "name": "stdout",
     "output_type": "stream",
     "text": [
      "Classes ‘tbl_df’, ‘tbl’ and 'data.frame':\t32 obs. of  12 variables:\n",
      " $ X   : Factor w/ 32 levels \"AMC Javelin\",..: 18 19 5 13 14 31 7 21 20 22 ...\n",
      " $ mpg : num  21 21 22.8 21.4 18.7 18.1 14.3 24.4 22.8 19.2 ...\n",
      " $ cyl : int  6 6 4 6 8 6 8 4 4 6 ...\n",
      " $ disp: num  160 160 108 258 360 ...\n",
      " $ hp  : int  110 110 93 110 175 105 245 62 95 123 ...\n",
      " $ drat: num  3.9 3.9 3.85 3.08 3.15 2.76 3.21 3.69 3.92 3.92 ...\n",
      " $ wt  : num  2.62 2.88 2.32 3.21 3.44 ...\n",
      " $ qsec: num  16.5 17 18.6 19.4 17 ...\n",
      " $ vs  : int  0 0 1 1 0 1 0 1 1 1 ...\n",
      " $ am  : int  1 1 1 0 0 0 0 0 0 0 ...\n",
      " $ gear: int  4 4 4 3 3 3 3 4 4 4 ...\n",
      " $ carb: int  4 4 1 1 2 1 4 2 2 4 ...\n"
     ]
    }
   ],
   "source": [
    "str(df)"
   ]
  },
  {
   "cell_type": "markdown",
   "metadata": {},
   "source": [
    "### 1.1.2 Summary statistics"
   ]
  },
  {
   "cell_type": "code",
   "execution_count": 11,
   "metadata": {},
   "outputs": [
    {
     "data": {
      "text/plain": [
       "                  X           mpg             cyl             disp      \n",
       " AMC Javelin       : 1   Min.   :10.40   Min.   :4.000   Min.   : 71.1  \n",
       " Cadillac Fleetwood: 1   1st Qu.:15.43   1st Qu.:4.000   1st Qu.:120.8  \n",
       " Camaro Z28        : 1   Median :19.20   Median :6.000   Median :196.3  \n",
       " Chrysler Imperial : 1   Mean   :20.09   Mean   :6.188   Mean   :230.7  \n",
       " Datsun 710        : 1   3rd Qu.:22.80   3rd Qu.:8.000   3rd Qu.:326.0  \n",
       " Dodge Challenger  : 1   Max.   :33.90   Max.   :8.000   Max.   :472.0  \n",
       " (Other)           :26                                                  "
      ]
     },
     "metadata": {},
     "output_type": "display_data"
    }
   ],
   "source": [
    "summary(df[, 1:4])"
   ]
  },
  {
   "cell_type": "markdown",
   "metadata": {},
   "source": [
    "# 2. Dummy variable"
   ]
  },
  {
   "cell_type": "markdown",
   "metadata": {},
   "source": [
    "## 2.1 Create heavy dummy variable"
   ]
  },
  {
   "cell_type": "code",
   "execution_count": 12,
   "metadata": {},
   "outputs": [
    {
     "data": {
      "text/plain": [
       "   Min. 1st Qu.  Median    Mean 3rd Qu.    Max. \n",
       "  1.513   2.581   3.325   3.217   3.610   5.424 "
      ]
     },
     "metadata": {},
     "output_type": "display_data"
    }
   ],
   "source": [
    "#Explore the distribution of weight variable\n",
    "summary(df$wt)"
   ]
  },
  {
   "cell_type": "markdown",
   "metadata": {},
   "source": [
    "## 2.2 Create heavy variable =1 if weight over 4"
   ]
  },
  {
   "cell_type": "code",
   "execution_count": 13,
   "metadata": {},
   "outputs": [],
   "source": [
    "df = df %>% mutate(heavy_dummy = as.numeric(wt>4))"
   ]
  },
  {
   "cell_type": "markdown",
   "metadata": {},
   "source": [
    "## 2.2 Question: How do we check whether this operation worked?\n",
    "- Hint: use select and filter"
   ]
  },
  {
   "cell_type": "code",
   "execution_count": null,
   "metadata": {},
   "outputs": [],
   "source": []
  },
  {
   "cell_type": "markdown",
   "metadata": {},
   "source": [
    "# 3. Mapping values"
   ]
  },
  {
   "cell_type": "code",
   "execution_count": 14,
   "metadata": {},
   "outputs": [
    {
     "data": {
      "text/html": [
       "<table>\n",
       "<thead><tr><th scope=col>heavy_dummy</th><th scope=col>heavy_dummy_string</th></tr></thead>\n",
       "<tbody>\n",
       "\t<tr><td>0    </td><td>Light</td></tr>\n",
       "\t<tr><td>0    </td><td>Light</td></tr>\n",
       "</tbody>\n",
       "</table>\n"
      ],
      "text/latex": [
       "\\begin{tabular}{r|ll}\n",
       " heavy\\_dummy & heavy\\_dummy\\_string\\\\\n",
       "\\hline\n",
       "\t 0     & Light\\\\\n",
       "\t 0     & Light\\\\\n",
       "\\end{tabular}\n"
      ],
      "text/markdown": [
       "\n",
       "| heavy_dummy | heavy_dummy_string |\n",
       "|---|---|\n",
       "| 0     | Light |\n",
       "| 0     | Light |\n",
       "\n"
      ],
      "text/plain": [
       "  heavy_dummy heavy_dummy_string\n",
       "1 0           Light             \n",
       "2 0           Light             "
      ]
     },
     "metadata": {},
     "output_type": "display_data"
    }
   ],
   "source": [
    "df %>% mutate(heavy_dummy_string = recode(heavy_dummy, \"0\"=\"Light\", \"1\"=\"Heavy\"))%>%\n",
    "select(heavy_dummy, heavy_dummy_string)%>%head(2)"
   ]
  },
  {
   "cell_type": "markdown",
   "metadata": {},
   "source": [
    "# 4. Omit na variables"
   ]
  },
  {
   "cell_type": "code",
   "execution_count": 15,
   "metadata": {},
   "outputs": [],
   "source": [
    "df = df %>% na.omit()"
   ]
  },
  {
   "cell_type": "markdown",
   "metadata": {},
   "source": [
    "# 5. Create cut off variables\n",
    "- disp var"
   ]
  },
  {
   "cell_type": "markdown",
   "metadata": {},
   "source": [
    "## 5.1 Summary stat for display variable"
   ]
  },
  {
   "cell_type": "code",
   "execution_count": 16,
   "metadata": {},
   "outputs": [
    {
     "data": {
      "text/plain": [
       "   Min. 1st Qu.  Median    Mean 3rd Qu.    Max. \n",
       "   71.1   120.8   196.3   230.7   326.0   472.0 "
      ]
     },
     "metadata": {},
     "output_type": "display_data"
    }
   ],
   "source": [
    "summary(df$disp)"
   ]
  },
  {
   "cell_type": "markdown",
   "metadata": {},
   "source": [
    "## 5.2 Create cutoffs"
   ]
  },
  {
   "cell_type": "code",
   "execution_count": 17,
   "metadata": {},
   "outputs": [
    {
     "data": {
      "text/html": [
       "<ol class=list-inline>\n",
       "\t<li>50</li>\n",
       "\t<li>150</li>\n",
       "\t<li>250</li>\n",
       "\t<li>350</li>\n",
       "\t<li>450</li>\n",
       "</ol>\n"
      ],
      "text/latex": [
       "\\begin{enumerate*}\n",
       "\\item 50\n",
       "\\item 150\n",
       "\\item 250\n",
       "\\item 350\n",
       "\\item 450\n",
       "\\end{enumerate*}\n"
      ],
      "text/markdown": [
       "1. 50\n",
       "2. 150\n",
       "3. 250\n",
       "4. 350\n",
       "5. 450\n",
       "\n",
       "\n"
      ],
      "text/plain": [
       "[1]  50 150 250 350 450"
      ]
     },
     "metadata": {},
     "output_type": "display_data"
    }
   ],
   "source": [
    "cutoffs= c(seq(50, 500, by = 100))\n",
    "cutoffs"
   ]
  },
  {
   "cell_type": "markdown",
   "metadata": {},
   "source": [
    "### 5.3 Mutate cutoff variables"
   ]
  },
  {
   "cell_type": "code",
   "execution_count": 18,
   "metadata": {},
   "outputs": [
    {
     "data": {
      "text/html": [
       "<table>\n",
       "<thead><tr><th scope=col>disp</th><th scope=col>cut_variable</th></tr></thead>\n",
       "<tbody>\n",
       "\t<tr><td>160      </td><td>(150,250]</td></tr>\n",
       "\t<tr><td>160      </td><td>(150,250]</td></tr>\n",
       "</tbody>\n",
       "</table>\n"
      ],
      "text/latex": [
       "\\begin{tabular}{r|ll}\n",
       " disp & cut\\_variable\\\\\n",
       "\\hline\n",
       "\t 160         & (150,250{]}\\\\\n",
       "\t 160         & (150,250{]}\\\\\n",
       "\\end{tabular}\n"
      ],
      "text/markdown": [
       "\n",
       "| disp | cut_variable |\n",
       "|---|---|\n",
       "| 160       | (150,250] |\n",
       "| 160       | (150,250] |\n",
       "\n"
      ],
      "text/plain": [
       "  disp cut_variable\n",
       "1 160  (150,250]   \n",
       "2 160  (150,250]   "
      ]
     },
     "metadata": {},
     "output_type": "display_data"
    }
   ],
   "source": [
    "df = df%>% mutate(cut_variable = cut(df$disp, cutoffs, include.lowest = TRUE))\n",
    "df %>% select(disp, cut_variable) %>% head(2)"
   ]
  }
 ],
 "metadata": {
  "kernelspec": {
   "display_name": "R",
   "language": "R",
   "name": "ir"
  },
  "language_info": {
   "codemirror_mode": "r",
   "file_extension": ".r",
   "mimetype": "text/x-r-source",
   "name": "R",
   "pygments_lexer": "r",
   "version": "3.6.1"
  }
 },
 "nbformat": 4,
 "nbformat_minor": 4
}
